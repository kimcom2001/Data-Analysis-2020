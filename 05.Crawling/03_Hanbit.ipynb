{
 "cells": [
  {
   "cell_type": "code",
   "execution_count": 3,
   "metadata": {},
   "outputs": [],
   "source": [
    "from bs4 import BeautifulSoup\n",
    "import pandas as pd\n",
    "import urllib.request\n",
    "import requests "
   ]
  },
  {
   "cell_type": "code",
   "execution_count": 4,
   "metadata": {},
   "outputs": [],
   "source": [
    "url = 'https://www.hanbit.co.kr/academy/books/new_book_list.html'\n",
    "headers = {'user-agent': 'Mozilla/5.0 (Windows NT 10.0; Win64; x64) AppleWebKit/537.36 (KHTML, like Gecko) Chrome/79.0.3945.130 Safari/537.36'}\n",
    "req = requests.get(url, headers=headers)\n",
    "html = req.text\n",
    "soup = BeautifulSoup(req.text, 'html.parser')"
   ]
  },
  {
   "cell_type": "code",
   "execution_count": 5,
   "metadata": {},
   "outputs": [],
   "source": [
    "books_list_area = soup.select_one('.sub_book_list_area')"
   ]
  },
  {
   "cell_type": "code",
   "execution_count": 6,
   "metadata": {},
   "outputs": [],
   "source": [
    "books_list = books_list_area.select('.sub_book_list')"
   ]
  },
  {
   "cell_type": "code",
   "execution_count": 7,
   "metadata": {},
   "outputs": [],
   "source": [
    "spans = books_list[0].select_one('span')"
   ]
  },
  {
   "cell_type": "code",
   "execution_count": 8,
   "metadata": {},
   "outputs": [
    {
     "output_type": "execute_result",
     "data": {
      "text/plain": [
       "('Behrouz A. Forouzan , Richard F. Gilberg ', '포르잔 C++ 에센셜', '32,000원')"
      ]
     },
     "metadata": {},
     "execution_count": 8
    }
   ],
   "source": [
    "x = books_list[0].select_one('.book_writer').string\n",
    "y = books_list[0].select_one('.book_tit').string\n",
    "z = spans.select_one('.price').get_text()\n",
    "x, y, z"
   ]
  },
  {
   "cell_type": "code",
   "execution_count": 34,
   "metadata": {},
   "outputs": [],
   "source": [
    "book_titles = []; book_writers = []; book_prices = []\n",
    "for book in books_list:\n",
    "    x = book.select_one('.book_writer').string\n",
    "    y = book.select_one('.book_tit').string\n",
    "    spans = book.select_one('span')\n",
    "    z = spans.select_one('.price').get_text().strip('원').replace(',','')\n",
    "\n",
    "    book_writers.append(x)\n",
    "    book_titles.append(y)\n",
    "    book_prices.append(z)"
   ]
  },
  {
   "cell_type": "code",
   "execution_count": 35,
   "metadata": {},
   "outputs": [
    {
     "output_type": "execute_result",
     "data": {
      "text/plain": [
       "                                       writer  \\\n",
       "0   Behrouz A. Forouzan , Richard F. Gilberg    \n",
       "1                                        김지연    \n",
       "2   Behrouz A. Forouzan , Richard F. Gilberg    \n",
       "3                             Gilbert Strang    \n",
       "4                            박우창 , 남송휘 , 이현룡    \n",
       "5                        조동성 외 인천대학교 가족 178명    \n",
       "6                                        양재삼    \n",
       "7              카와하시 잇코 , 이와마 노리카즈 , 스즈키 마사유키    \n",
       "8                                        김은경    \n",
       "9                                        함남우    \n",
       "10                                       이건명    \n",
       "11                                       강문식    \n",
       "12                                 김선우 , 신화선    \n",
       "13                                       정기철    \n",
       "14                                 우재남 , 유혜림    \n",
       "15                                       김지홍    \n",
       "16     스티븐 H. 프리드버그 , 아놀드 J. 인셀 , 로렌스 E. 스펜스    \n",
       "17                                       이종원    \n",
       "18         David Besanko , Ronald Braeutigam    \n",
       "19                                  타니아이 히로키    \n",
       "\n",
       "                                        title  price  \n",
       "0                                 포르잔 C++ 에센셜  32000  \n",
       "1    IT CookBook, 액세스 2019로 배우는 데이터베이스 기초와 실습  28000  \n",
       "2                                 포르잔 C++ 바이블  45000  \n",
       "3                               딥러닝을 위한 선형대수학  38000  \n",
       "4     IT CookBook, 오라클로 배우는 데이터베이스 개론과 실습(2판)  29000  \n",
       "5                              대학을 버려야 대학이 산다  18000  \n",
       "6               IT CookBook, 따라 하면서 배우는 사물인터넷  28000  \n",
       "7             R로 하는 다변량 데이터 분석 : 이론부터 실무 활용까지  32000  \n",
       "8                                창의적 공학설계(3판)  23000  \n",
       "9             공학 핵심수학(2판)  : 기초부터 심화까지 핵심만 쏙쏙  23000  \n",
       "10     응용이 보이는 선형대수학 : 파이썬과 함께하는 선형대수학 이론과 응용  31000  \n",
       "11           IT CookBook, 초연결 사회의 데이터통신과 네트워킹  29000  \n",
       "12          IT CookBook, 쉽게 배우는 MFC 윈도우 프로그래밍  30000  \n",
       "13         IT CookBook, 인공지능 시대를 위한 컴퓨터 과학 개론  27000  \n",
       "14          IT CookBook, 코틀린을 활용한 안드로이드 프로그래밍  34000  \n",
       "15                 IT CookBook, 처음 만나는 신재생에너지  25000  \n",
       "16                                프리드버그 선형대수학  35000  \n",
       "17                    IT CookBook, CentOS 리눅스  32000  \n",
       "18  Microeconomics, 6th Edition, Asia Edition  49000  \n",
       "19                               누구나 파이썬 통계분석  26000  "
      ],
      "text/html": "<div>\n<style scoped>\n    .dataframe tbody tr th:only-of-type {\n        vertical-align: middle;\n    }\n\n    .dataframe tbody tr th {\n        vertical-align: top;\n    }\n\n    .dataframe thead th {\n        text-align: right;\n    }\n</style>\n<table border=\"1\" class=\"dataframe\">\n  <thead>\n    <tr style=\"text-align: right;\">\n      <th></th>\n      <th>writer</th>\n      <th>title</th>\n      <th>price</th>\n    </tr>\n  </thead>\n  <tbody>\n    <tr>\n      <th>0</th>\n      <td>Behrouz A. Forouzan , Richard F. Gilberg</td>\n      <td>포르잔 C++ 에센셜</td>\n      <td>32000</td>\n    </tr>\n    <tr>\n      <th>1</th>\n      <td>김지연</td>\n      <td>IT CookBook, 액세스 2019로 배우는 데이터베이스 기초와 실습</td>\n      <td>28000</td>\n    </tr>\n    <tr>\n      <th>2</th>\n      <td>Behrouz A. Forouzan , Richard F. Gilberg</td>\n      <td>포르잔 C++ 바이블</td>\n      <td>45000</td>\n    </tr>\n    <tr>\n      <th>3</th>\n      <td>Gilbert Strang</td>\n      <td>딥러닝을 위한 선형대수학</td>\n      <td>38000</td>\n    </tr>\n    <tr>\n      <th>4</th>\n      <td>박우창 , 남송휘 , 이현룡</td>\n      <td>IT CookBook, 오라클로 배우는 데이터베이스 개론과 실습(2판)</td>\n      <td>29000</td>\n    </tr>\n    <tr>\n      <th>5</th>\n      <td>조동성 외 인천대학교 가족 178명</td>\n      <td>대학을 버려야 대학이 산다</td>\n      <td>18000</td>\n    </tr>\n    <tr>\n      <th>6</th>\n      <td>양재삼</td>\n      <td>IT CookBook, 따라 하면서 배우는 사물인터넷</td>\n      <td>28000</td>\n    </tr>\n    <tr>\n      <th>7</th>\n      <td>카와하시 잇코 , 이와마 노리카즈 , 스즈키 마사유키</td>\n      <td>R로 하는 다변량 데이터 분석 : 이론부터 실무 활용까지</td>\n      <td>32000</td>\n    </tr>\n    <tr>\n      <th>8</th>\n      <td>김은경</td>\n      <td>창의적 공학설계(3판)</td>\n      <td>23000</td>\n    </tr>\n    <tr>\n      <th>9</th>\n      <td>함남우</td>\n      <td>공학 핵심수학(2판)  : 기초부터 심화까지 핵심만 쏙쏙</td>\n      <td>23000</td>\n    </tr>\n    <tr>\n      <th>10</th>\n      <td>이건명</td>\n      <td>응용이 보이는 선형대수학 : 파이썬과 함께하는 선형대수학 이론과 응용</td>\n      <td>31000</td>\n    </tr>\n    <tr>\n      <th>11</th>\n      <td>강문식</td>\n      <td>IT CookBook, 초연결 사회의 데이터통신과 네트워킹</td>\n      <td>29000</td>\n    </tr>\n    <tr>\n      <th>12</th>\n      <td>김선우 , 신화선</td>\n      <td>IT CookBook, 쉽게 배우는 MFC 윈도우 프로그래밍</td>\n      <td>30000</td>\n    </tr>\n    <tr>\n      <th>13</th>\n      <td>정기철</td>\n      <td>IT CookBook, 인공지능 시대를 위한 컴퓨터 과학 개론</td>\n      <td>27000</td>\n    </tr>\n    <tr>\n      <th>14</th>\n      <td>우재남 , 유혜림</td>\n      <td>IT CookBook, 코틀린을 활용한 안드로이드 프로그래밍</td>\n      <td>34000</td>\n    </tr>\n    <tr>\n      <th>15</th>\n      <td>김지홍</td>\n      <td>IT CookBook, 처음 만나는 신재생에너지</td>\n      <td>25000</td>\n    </tr>\n    <tr>\n      <th>16</th>\n      <td>스티븐 H. 프리드버그 , 아놀드 J. 인셀 , 로렌스 E. 스펜스</td>\n      <td>프리드버그 선형대수학</td>\n      <td>35000</td>\n    </tr>\n    <tr>\n      <th>17</th>\n      <td>이종원</td>\n      <td>IT CookBook, CentOS 리눅스</td>\n      <td>32000</td>\n    </tr>\n    <tr>\n      <th>18</th>\n      <td>David Besanko , Ronald Braeutigam</td>\n      <td>Microeconomics, 6th Edition, Asia Edition</td>\n      <td>49000</td>\n    </tr>\n    <tr>\n      <th>19</th>\n      <td>타니아이 히로키</td>\n      <td>누구나 파이썬 통계분석</td>\n      <td>26000</td>\n    </tr>\n  </tbody>\n</table>\n</div>"
     },
     "metadata": {},
     "execution_count": 35
    }
   ],
   "source": [
    "book_lists = pd.DataFrame({\n",
    "            'writer': book_writers,\n",
    "            'title': book_titles,\n",
    "            'price': book_prices,\n",
    "})\n",
    "book_lists"
   ]
  },
  {
   "cell_type": "code",
   "execution_count": 32,
   "metadata": {},
   "outputs": [
    {
     "output_type": "execute_result",
     "data": {
      "text/plain": [
       "'/academy/books/book_view.html?p_code=B4797877052'"
      ]
     },
     "metadata": {},
     "execution_count": 32
    }
   ],
   "source": [
    "book_url = books_list[0].find('a').attrs['href']\n",
    "book_url"
   ]
  }
 ],
 "metadata": {
  "kernelspec": {
   "display_name": "Python 3",
   "language": "python",
   "name": "python3"
  },
  "language_info": {
   "codemirror_mode": {
    "name": "ipython",
    "version": 3
   },
   "file_extension": ".py",
   "mimetype": "text/x-python",
   "name": "python",
   "nbconvert_exporter": "python",
   "pygments_lexer": "ipython3",
   "version": "3.8.3-final"
  }
 },
 "nbformat": 4,
 "nbformat_minor": 2
}