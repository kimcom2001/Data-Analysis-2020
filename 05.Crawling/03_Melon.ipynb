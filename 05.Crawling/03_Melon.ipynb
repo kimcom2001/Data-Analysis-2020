{
 "metadata": {
  "language_info": {
   "codemirror_mode": {
    "name": "ipython",
    "version": 3
   },
   "file_extension": ".py",
   "mimetype": "text/x-python",
   "name": "python",
   "nbconvert_exporter": "python",
   "pygments_lexer": "ipython3",
   "version": "3.8.3-final"
  },
  "orig_nbformat": 2,
  "kernelspec": {
   "name": "python3",
   "display_name": "Python 3"
  }
 },
 "nbformat": 4,
 "nbformat_minor": 2,
 "cells": [
  {
   "cell_type": "code",
   "execution_count": null,
   "metadata": {},
   "outputs": [],
   "source": []
  },
  {
   "source": [
    "# 멜론 주간 Top100 구하기"
   ],
   "cell_type": "markdown",
   "metadata": {}
  },
  {
   "cell_type": "code",
   "execution_count": 1,
   "metadata": {},
   "outputs": [],
   "source": [
    "from bs4 import BeautifulSoup\n",
    "import pandas as pd\n",
    "import urllib.request\n",
    "import requests "
   ]
  },
  {
   "cell_type": "code",
   "execution_count": 2,
   "metadata": {},
   "outputs": [],
   "source": [
    "url = 'https://www.melon.com/chart/week/index.htm'\n",
    "headers = {'user-agent': 'Mozilla/5.0 (Windows NT 10.0; Win64; x64) AppleWebKit/537.36 (KHTML, like Gecko) Chrome/79.0.3945.130 Safari/537.36'}\n",
    "req = requests.get(url, headers=headers)\n",
    "html = req.text"
   ]
  },
  {
   "cell_type": "code",
   "execution_count": 3,
   "metadata": {},
   "outputs": [],
   "source": [
    "soup = BeautifulSoup(req.text, 'html.parser')"
   ]
  },
  {
   "source": [
    "### 시작일 ~ 끝날"
   ],
   "cell_type": "markdown",
   "metadata": {}
  },
  {
   "cell_type": "code",
   "execution_count": 4,
   "metadata": {},
   "outputs": [
    {
     "output_type": "execute_result",
     "data": {
      "text/plain": [
       "'\\r\\n\\t\\t\\t\\t\\t\\t\\t2020.11.09 ~ 2020.11.15\\r\\n\\t\\t\\t\\t\\t\\t'"
      ]
     },
     "metadata": {},
     "execution_count": 4
    }
   ],
   "source": [
    "soup.select_one('.yyyymmdd').get_text()"
   ]
  },
  {
   "cell_type": "code",
   "execution_count": 5,
   "metadata": {},
   "outputs": [
    {
     "output_type": "execute_result",
     "data": {
      "text/plain": [
       "'2020.11.09 ~ 2020.11.15'"
      ]
     },
     "metadata": {},
     "execution_count": 5
    }
   ],
   "source": [
    "date = soup.select_one('.yyyymmdd').get_text().strip()\n",
    "date"
   ]
  },
  {
   "cell_type": "code",
   "execution_count": 6,
   "metadata": {},
   "outputs": [
    {
     "output_type": "execute_result",
     "data": {
      "text/plain": [
       "('2020.11.09', '2020.11.15')"
      ]
     },
     "metadata": {},
     "execution_count": 6
    }
   ],
   "source": [
    "start_day = date[:10]\n",
    "end_day = date[13:]\n",
    "start_day, end_day"
   ]
  },
  {
   "source": [
    "### 곡 리스트 찾기"
   ],
   "cell_type": "markdown",
   "metadata": {}
  },
  {
   "cell_type": "code",
   "execution_count": 7,
   "metadata": {},
   "outputs": [
    {
     "output_type": "execute_result",
     "data": {
      "text/plain": [
       "100"
      ]
     },
     "metadata": {},
     "execution_count": 7
    }
   ],
   "source": [
    "service_list = soup.select_one('.service_list_song')\n",
    "tbody = service_list.find('tbody')\n",
    "trs = tbody.find_all('tr')\n",
    "len(trs)"
   ]
  },
  {
   "cell_type": "code",
   "execution_count": 82,
   "metadata": {},
   "outputs": [
    {
     "output_type": "execute_result",
     "data": {
      "text/plain": [
       "1"
      ]
     },
     "metadata": {},
     "execution_count": 82
    }
   ],
   "source": [
    "rank = int(trs[0].select_one('.rank').string)\n",
    "rank"
   ]
  },
  {
   "cell_type": "code",
   "execution_count": 83,
   "metadata": {},
   "outputs": [
    {
     "output_type": "stream",
     "name": "stdout",
     "text": [
      "0\n1\n-1\n-100\n"
     ]
    }
   ],
   "source": [
    "for i in [0, 1, 2, 19]:\n",
    "    entry = trs[i].select_one('.rank_wrap')\n",
    "    spans = entry.find_all('span')\n",
    "    diff = -100\n",
    "    if len(spans) == 3:\n",
    "        diff = int(spans[2].string)\n",
    "        if diff != 0:\n",
    "            sign = spans[2].attrs['class']\n",
    "            if sign[0] == 'down':\n",
    "                diff *= -1\n",
    "            \n",
    "    print(diff)"
   ]
  },
  {
   "cell_type": "code",
   "execution_count": 84,
   "metadata": {},
   "outputs": [
    {
     "output_type": "execute_result",
     "data": {
      "text/plain": [
       "<span class=\"rank_wrap\" title=\"순위 동일\">\n",
       "<span class=\"bullet_icons rank_static\"><span class=\"none\">순위 동일</span></span>\n",
       "<span class=\"none\">0</span>\n",
       "</span>"
      ]
     },
     "metadata": {},
     "execution_count": 84
    }
   ],
   "source": [
    "trs[0].select_one('.rank_wrap')"
   ]
  },
  {
   "cell_type": "code",
   "execution_count": 85,
   "metadata": {},
   "outputs": [
    {
     "output_type": "execute_result",
     "data": {
      "text/plain": [
       "[<span class=\"bullet_icons rank_static\"><span class=\"none\">순위 동일</span></span>,\n",
       " <span class=\"none\">순위 동일</span>,\n",
       " <span class=\"none\">0</span>]"
      ]
     },
     "metadata": {},
     "execution_count": 85
    }
   ],
   "source": [
    "span = trs[0].select_one('.rank_wrap')\n",
    "span.find_all('span')"
   ]
  },
  {
   "cell_type": "code",
   "execution_count": 86,
   "metadata": {},
   "outputs": [
    {
     "output_type": "execute_result",
     "data": {
      "text/plain": [
       "[<span class=\"bullet_icons rank_up\"><span class=\"none\">단계 상승</span></span>,\n",
       " <span class=\"none\">단계 상승</span>,\n",
       " <span class=\"up\">1</span>]"
      ]
     },
     "metadata": {},
     "execution_count": 86
    }
   ],
   "source": [
    "span = trs[1].select_one('.rank_wrap')\n",
    "span.find_all('span')"
   ]
  },
  {
   "cell_type": "code",
   "execution_count": 87,
   "metadata": {},
   "outputs": [
    {
     "output_type": "execute_result",
     "data": {
      "text/plain": [
       "[<span class=\"bullet_icons rank_down\"><span class=\"none\">단계 하락</span></span>,\n",
       " <span class=\"none\">단계 하락</span>,\n",
       " <span class=\"down\">1</span>]"
      ]
     },
     "metadata": {},
     "execution_count": 87
    }
   ],
   "source": [
    "span = trs[2].select_one('.rank_wrap')\n",
    "span.find_all('span')"
   ]
  },
  {
   "cell_type": "code",
   "execution_count": 97,
   "metadata": {},
   "outputs": [
    {
     "output_type": "execute_result",
     "data": {
      "text/plain": [
       "('Dynamite', '방탄소년단', 'Dynamite (DayTime Version)')"
      ]
     },
     "metadata": {},
     "execution_count": 97
    }
   ],
   "source": [
    "info = trs[0].select_one('.ellipsis.rank01')\n",
    "title = info.find('a').string\n",
    "info = trs[0].select_one('.ellipsis.rank02')\n",
    "singer = info.find('a').string\n",
    "info = trs[0].select_one('.ellipsis.rank03')\n",
    "album = info.find('a').string\n",
    "title, singer, album"
   ]
  },
  {
   "cell_type": "code",
   "execution_count": 99,
   "metadata": {},
   "outputs": [
    {
     "output_type": "execute_result",
     "data": {
      "text/plain": [
       "('Dynamite', '방탄소년단', 'Dynamite (DayTime Version)')"
      ]
     },
     "metadata": {},
     "execution_count": 99
    }
   ],
   "source": [
    "info = trs[0].select('.ellipsis')\n",
    "title = info[0].find('a').string\n",
    "singer = info[1].find('a').string\n",
    "album = info[2].find('a').string\n",
    "title, singer, album"
   ]
  },
  {
   "source": [
    "#### DataFrame으로 만들기"
   ],
   "cell_type": "markdown",
   "metadata": {}
  },
  {
   "cell_type": "code",
   "execution_count": 119,
   "metadata": {},
   "outputs": [],
   "source": [
    "ranks = []; diffs = []; titles = []; singers = []; albums = []\n",
    "service_list = soup.select_one('.service_list_song')\n",
    "tbody = service_list.find('tbody')\n",
    "trs = tbody.find_all('tr')"
   ]
  },
  {
   "cell_type": "code",
   "execution_count": 120,
   "metadata": {},
   "outputs": [],
   "source": [
    "for tr in trs:\n",
    "    rank = int(tr.select_one('.rank').string)\n",
    "\n",
    "    info = tr.select_one('.ellipsis.rank01')\n",
    "    title = info.find('a').string\n",
    "    info = tr.select_one('.ellipsis.rank02')\n",
    "    singer = info.find('a').string\n",
    "    info = tr.select_one('.ellipsis.rank03')\n",
    "    album = info.find('a').string\n",
    "\n",
    "    entry = tr.select_one('.rank_wrap')\n",
    "    spans = entry.find_all('span')\n",
    "    diff = -100\n",
    "    if len(spans) == 3:\n",
    "        diff = int(spans[2].string)\n",
    "        if diff != 0:\n",
    "            sign = spans[2].attrs['class']\n",
    "            if sign[0] == 'down':\n",
    "                diff *= -1\n",
    "\n",
    "\n",
    "    ranks.append(rank)\n",
    "    diffs.append(diff)\n",
    "    titles.append(title)\n",
    "    singers.append(singer)\n",
    "    albums.append(album)"
   ]
  },
  {
   "cell_type": "code",
   "execution_count": 140,
   "metadata": {},
   "outputs": [
    {
     "output_type": "stream",
     "name": "stdout",
     "text": [
      "기간: 2020.11.09 ~ 2020.11.15\n"
     ]
    },
    {
     "output_type": "execute_result",
     "data": {
      "text/plain": [
       "      diff                  title          singer  \\\n",
       "rank                                                \n",
       "1        0               Dynamite           방탄소년단   \n",
       "2        1           힘든 건 사랑이 아니다             임창정   \n",
       "3       -1         Lovesick Girls       BLACKPINK   \n",
       "4        1  취기를 빌려 (취향저격 그녀 X 산들)              산들   \n",
       "5       -1         DON'T TOUCH ME           환불원정대   \n",
       "...    ...                    ...             ...   \n",
       "96      -4             화려하지 않은 고백    규현 (KYUHYUN)   \n",
       "97    -100                   MAGO  여자친구 (GFRIEND)   \n",
       "98      -3                   행복하니     케이시 (Kassy)   \n",
       "99    -100    My Love (Duet Ver.)             이승철   \n",
       "100   -100  너의 하루 (바른연애 길잡이 X 로꼬)              로꼬   \n",
       "\n",
       "                                 album  \n",
       "rank                                    \n",
       "1           Dynamite (DayTime Version)  \n",
       "2                         힘든 건 사랑이 아니다  \n",
       "3                            THE ALBUM  \n",
       "4                취기를 빌려 (취향저격 그녀 X 산들)  \n",
       "5                       DON'T TOUCH ME  \n",
       "...                                ...  \n",
       "96                슬기로운 의사생활 OST Part 4  \n",
       "97                   回:Walpurgis Night  \n",
       "98                               추(秋)억  \n",
       "99    이승철 35주년 기념 앨범 Special 'My Love'  \n",
       "100              너의 하루 (바른연애 길잡이 X 로꼬)  \n",
       "\n",
       "[100 rows x 4 columns]"
      ],
      "text/html": "<div>\n<style scoped>\n    .dataframe tbody tr th:only-of-type {\n        vertical-align: middle;\n    }\n\n    .dataframe tbody tr th {\n        vertical-align: top;\n    }\n\n    .dataframe thead th {\n        text-align: right;\n    }\n</style>\n<table border=\"1\" class=\"dataframe\">\n  <thead>\n    <tr style=\"text-align: right;\">\n      <th></th>\n      <th>diff</th>\n      <th>title</th>\n      <th>singer</th>\n      <th>album</th>\n    </tr>\n    <tr>\n      <th>rank</th>\n      <th></th>\n      <th></th>\n      <th></th>\n      <th></th>\n    </tr>\n  </thead>\n  <tbody>\n    <tr>\n      <th>1</th>\n      <td>0</td>\n      <td>Dynamite</td>\n      <td>방탄소년단</td>\n      <td>Dynamite (DayTime Version)</td>\n    </tr>\n    <tr>\n      <th>2</th>\n      <td>1</td>\n      <td>힘든 건 사랑이 아니다</td>\n      <td>임창정</td>\n      <td>힘든 건 사랑이 아니다</td>\n    </tr>\n    <tr>\n      <th>3</th>\n      <td>-1</td>\n      <td>Lovesick Girls</td>\n      <td>BLACKPINK</td>\n      <td>THE ALBUM</td>\n    </tr>\n    <tr>\n      <th>4</th>\n      <td>1</td>\n      <td>취기를 빌려 (취향저격 그녀 X 산들)</td>\n      <td>산들</td>\n      <td>취기를 빌려 (취향저격 그녀 X 산들)</td>\n    </tr>\n    <tr>\n      <th>5</th>\n      <td>-1</td>\n      <td>DON'T TOUCH ME</td>\n      <td>환불원정대</td>\n      <td>DON'T TOUCH ME</td>\n    </tr>\n    <tr>\n      <th>...</th>\n      <td>...</td>\n      <td>...</td>\n      <td>...</td>\n      <td>...</td>\n    </tr>\n    <tr>\n      <th>96</th>\n      <td>-4</td>\n      <td>화려하지 않은 고백</td>\n      <td>규현 (KYUHYUN)</td>\n      <td>슬기로운 의사생활 OST Part 4</td>\n    </tr>\n    <tr>\n      <th>97</th>\n      <td>-100</td>\n      <td>MAGO</td>\n      <td>여자친구 (GFRIEND)</td>\n      <td>回:Walpurgis Night</td>\n    </tr>\n    <tr>\n      <th>98</th>\n      <td>-3</td>\n      <td>행복하니</td>\n      <td>케이시 (Kassy)</td>\n      <td>추(秋)억</td>\n    </tr>\n    <tr>\n      <th>99</th>\n      <td>-100</td>\n      <td>My Love (Duet Ver.)</td>\n      <td>이승철</td>\n      <td>이승철 35주년 기념 앨범 Special 'My Love'</td>\n    </tr>\n    <tr>\n      <th>100</th>\n      <td>-100</td>\n      <td>너의 하루 (바른연애 길잡이 X 로꼬)</td>\n      <td>로꼬</td>\n      <td>너의 하루 (바른연애 길잡이 X 로꼬)</td>\n    </tr>\n  </tbody>\n</table>\n<p>100 rows × 4 columns</p>\n</div>"
     },
     "metadata": {},
     "execution_count": 140
    }
   ],
   "source": [
    "top100 = pd.DataFrame({\n",
    "            'rank': ranks,\n",
    "            'diff': diffs,\n",
    "            'title': titles,\n",
    "            'singer': singers,\n",
    "            'album': albums \n",
    "})\n",
    "top100 = top100.set_index('rank')\n",
    "print(f'기간: {start_day} ~ {end_day}')\n",
    "top100"
   ]
  }
 ]
}