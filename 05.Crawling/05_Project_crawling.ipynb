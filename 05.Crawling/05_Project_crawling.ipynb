{
 "metadata": {
  "language_info": {
   "codemirror_mode": {
    "name": "ipython",
    "version": 3
   },
   "file_extension": ".py",
   "mimetype": "text/x-python",
   "name": "python",
   "nbconvert_exporter": "python",
   "pygments_lexer": "ipython3",
   "version": "3.8.3-final"
  },
  "orig_nbformat": 2,
  "kernelspec": {
   "name": "python3",
   "display_name": "Python 3"
  }
 },
 "nbformat": 4,
 "nbformat_minor": 2,
 "cells": [
  {
   "cell_type": "code",
   "execution_count": 46,
   "metadata": {},
   "outputs": [],
   "source": [
    "from bs4 import BeautifulSoup\n",
    "from urllib.request import urlopen\n",
    "from urllib.parse import urljoin\n",
    "import pandas as pd\n",
    "from tqdm import tqdm_notebook\n",
    "import base64"
   ]
  },
  {
   "cell_type": "code",
   "execution_count": 2,
   "metadata": {},
   "outputs": [],
   "source": [
    "url_base = 'https://tv.naver.com/'\n",
    "url_sub = 'r'\n",
    "url = url_base + url_sub"
   ]
  },
  {
   "cell_type": "code",
   "execution_count": 3,
   "metadata": {},
   "outputs": [],
   "source": [
    "html = urlopen(url)\n",
    "soup = BeautifulSoup(html, 'html.parser')"
   ]
  },
  {
   "cell_type": "code",
   "execution_count": 4,
   "metadata": {},
   "outputs": [
    {
     "output_type": "execute_result",
     "data": {
      "text/plain": [
       "'11.18 오후 4시 ~ 오후 5시 기준 (재생수, 재생시간)'"
      ]
     },
     "metadata": {},
     "execution_count": 4
    }
   ],
   "source": [
    "date = soup.select_one('.noti').get_text()\n",
    "date"
   ]
  },
  {
   "cell_type": "code",
   "execution_count": 5,
   "metadata": {},
   "outputs": [
    {
     "output_type": "execute_result",
     "data": {
      "text/plain": [
       "'11.18 오후 4시 ~ 오후 5시'"
      ]
     },
     "metadata": {},
     "execution_count": 5
    }
   ],
   "source": [
    "week_date = ' '.join(date.split()[0:6])\n",
    "week_date\n",
    "# 기준 날짜"
   ]
  },
  {
   "cell_type": "code",
   "execution_count": 6,
   "metadata": {},
   "outputs": [],
   "source": [
    "top_song_lists = soup.select_one('.rolling')\n",
    "# top3 음악은 별도로 구분"
   ]
  },
  {
   "cell_type": "code",
   "execution_count": 7,
   "metadata": {},
   "outputs": [],
   "source": [
    "top_song_list = top_song_lists.select('.info')"
   ]
  },
  {
   "cell_type": "code",
   "execution_count": 8,
   "metadata": {},
   "outputs": [],
   "source": [
    "song_lists = soup.select_one('.cds_area')"
   ]
  },
  {
   "cell_type": "code",
   "execution_count": 9,
   "metadata": {},
   "outputs": [],
   "source": [
    "song_list = song_lists.select('.cds')"
   ]
  },
  {
   "cell_type": "code",
   "execution_count": 10,
   "metadata": {},
   "outputs": [
    {
     "output_type": "execute_result",
     "data": {
      "text/plain": [
       "'[앵커리포트] \"유모차 끈 엄마, 양보 없는 운전자\"...광주 스쿨존의 비극'"
      ]
     },
     "metadata": {},
     "execution_count": 10
    }
   ],
   "source": [
    "top_title = top_song_list[0].select_one('.tit').get_text()\n",
    "top_title\n",
    "# 제목"
   ]
  },
  {
   "cell_type": "code",
   "execution_count": 11,
   "metadata": {},
   "outputs": [
    {
     "output_type": "execute_result",
     "data": {
      "text/plain": [
       "'뉴스는 YTN'"
      ]
     },
     "metadata": {},
     "execution_count": 11
    }
   ],
   "source": [
    "top_channel = top_song_list[0].select_one('.chn').get_text().strip()\n",
    "top_channel\n",
    "# 채널"
   ]
  },
  {
   "cell_type": "code",
   "execution_count": 12,
   "metadata": {},
   "outputs": [
    {
     "output_type": "execute_result",
     "data": {
      "text/plain": [
       "'90517'"
      ]
     },
     "metadata": {},
     "execution_count": 12
    }
   ],
   "source": [
    "top_hit = top_song_list[0].select_one('.hit').get_text().replace('재생 수','').replace(',','')\n",
    "top_hit\n",
    "# 조회수"
   ]
  },
  {
   "cell_type": "code",
   "execution_count": 13,
   "metadata": {},
   "outputs": [
    {
     "output_type": "execute_result",
     "data": {
      "text/plain": [
       "'25'"
      ]
     },
     "metadata": {},
     "execution_count": 13
    }
   ],
   "source": [
    "top_like = top_song_list[0].select_one('.like').get_text().replace('좋아요 수','').replace(',','')\n",
    "top_like\n",
    "# 좋아요 수"
   ]
  },
  {
   "cell_type": "code",
   "execution_count": 14,
   "metadata": {},
   "outputs": [
    {
     "output_type": "execute_result",
     "data": {
      "text/plain": [
       "'1'"
      ]
     },
     "metadata": {},
     "execution_count": 14
    }
   ],
   "source": [
    "top_rank = top_song_list[0].select_one('.num').get_text()\n",
    "top_rank\n",
    "# 랭크"
   ]
  },
  {
   "cell_type": "code",
   "execution_count": 15,
   "metadata": {},
   "outputs": [
    {
     "output_type": "execute_result",
     "data": {
      "text/plain": [
       "'레전드 무대 예약😍 임영웅 ‘그날들’ ♫'"
      ]
     },
     "metadata": {},
     "execution_count": 15
    }
   ],
   "source": [
    "title = song_list[0].select_one('.title').get_text().strip()\n",
    "title\n",
    "# 제목"
   ]
  },
  {
   "cell_type": "code",
   "execution_count": 16,
   "metadata": {},
   "outputs": [
    {
     "output_type": "execute_result",
     "data": {
      "text/plain": [
       "'사랑의 콜센타'"
      ]
     },
     "metadata": {},
     "execution_count": 16
    }
   ],
   "source": [
    "channel = song_list[0].select_one('.chn').get_text().strip()\n",
    "channel\n",
    "# 채널"
   ]
  },
  {
   "cell_type": "code",
   "execution_count": 17,
   "metadata": {},
   "outputs": [
    {
     "output_type": "execute_result",
     "data": {
      "text/plain": [
       "'357253'"
      ]
     },
     "metadata": {},
     "execution_count": 17
    }
   ],
   "source": [
    "hit = song_list[0].select_one('.hit').get_text().replace('재생 수','').replace(',','')\n",
    "hit\n",
    "# 재생 수"
   ]
  },
  {
   "cell_type": "code",
   "execution_count": 18,
   "metadata": {},
   "outputs": [
    {
     "output_type": "execute_result",
     "data": {
      "text/plain": [
       "'26704'"
      ]
     },
     "metadata": {},
     "execution_count": 18
    }
   ],
   "source": [
    "like = song_list[0].select_one('.like').get_text().replace('좋아요 수','').replace(',','')\n",
    "like\n",
    "# 좋아요 수"
   ]
  },
  {
   "cell_type": "code",
   "execution_count": 19,
   "metadata": {},
   "outputs": [
    {
     "output_type": "execute_result",
     "data": {
      "text/plain": [
       "'4'"
      ]
     },
     "metadata": {},
     "execution_count": 19
    }
   ],
   "source": [
    "rank = song_list[0].select_one('.num').get_text()\n",
    "rank\n",
    "# 랭크"
   ]
  },
  {
   "cell_type": "code",
   "execution_count": 20,
   "metadata": {},
   "outputs": [
    {
     "output_type": "execute_result",
     "data": {
      "text/plain": [
       "'1'"
      ]
     },
     "metadata": {},
     "execution_count": 20
    }
   ],
   "source": [
    "top_song_list[0].select_one('.num').get_text()"
   ]
  },
  {
   "cell_type": "code",
   "execution_count": 21,
   "metadata": {},
   "outputs": [],
   "source": [
    "top_rank_list = []; top_channel_list = []; top_hit_list = []; top_like_list = []; top_title_list = []\n",
    "for list in top_song_list:\n",
    "\n",
    "    t_rank = int(list.select_one('.num').get_text())\n",
    "    t_channel = list.select_one('.chn').get_text().strip()\n",
    "    t_hit = int(list.select_one('.hit').get_text().replace('재생 수','').replace(',',''))\n",
    "    t_like = int(list.select_one('.like').get_text().replace('좋아요 수','').replace(',',''))\n",
    "    t_title = list.select_one('.title').get_text().strip()\n",
    "\n",
    "    top_rank_list.append(t_rank)\n",
    "    top_channel_list.append(t_channel)\n",
    "    top_hit_list.append(t_hit)\n",
    "    top_like_list.append(t_like)\n",
    "    top_title_list.append(t_title)"
   ]
  },
  {
   "cell_type": "code",
   "execution_count": 22,
   "metadata": {},
   "outputs": [
    {
     "output_type": "execute_result",
     "data": {
      "text/plain": [
       "   Rank                                              Title     Hit   Like  \\\n",
       "0     1         [앵커리포트] \"유모차 끈 엄마, 양보 없는 운전자\"...광주 스쿨존의 비극   90517     25   \n",
       "1     2          잠시만 안녕. 김호중 군복무전 마지막 무대 ＜배웅＞ㅣ김호중의파트너 EP.5  429735  21520   \n",
       "2     3  [선공개] 이것이 모범생의 광기다...! 어쩌다 'BTS 여고생' (feat. 조회...   29311    234   \n",
       "\n",
       "            Channel  \n",
       "0           뉴스는 YTN  \n",
       "1  아무도 모르게 김호중의 파트너  \n",
       "2       유 퀴즈 온 더 블럭  "
      ],
      "text/html": "<div>\n<style scoped>\n    .dataframe tbody tr th:only-of-type {\n        vertical-align: middle;\n    }\n\n    .dataframe tbody tr th {\n        vertical-align: top;\n    }\n\n    .dataframe thead th {\n        text-align: right;\n    }\n</style>\n<table border=\"1\" class=\"dataframe\">\n  <thead>\n    <tr style=\"text-align: right;\">\n      <th></th>\n      <th>Rank</th>\n      <th>Title</th>\n      <th>Hit</th>\n      <th>Like</th>\n      <th>Channel</th>\n    </tr>\n  </thead>\n  <tbody>\n    <tr>\n      <th>0</th>\n      <td>1</td>\n      <td>[앵커리포트] \"유모차 끈 엄마, 양보 없는 운전자\"...광주 스쿨존의 비극</td>\n      <td>90517</td>\n      <td>25</td>\n      <td>뉴스는 YTN</td>\n    </tr>\n    <tr>\n      <th>1</th>\n      <td>2</td>\n      <td>잠시만 안녕. 김호중 군복무전 마지막 무대 ＜배웅＞ㅣ김호중의파트너 EP.5</td>\n      <td>429735</td>\n      <td>21520</td>\n      <td>아무도 모르게 김호중의 파트너</td>\n    </tr>\n    <tr>\n      <th>2</th>\n      <td>3</td>\n      <td>[선공개] 이것이 모범생의 광기다...! 어쩌다 'BTS 여고생' (feat. 조회...</td>\n      <td>29311</td>\n      <td>234</td>\n      <td>유 퀴즈 온 더 블럭</td>\n    </tr>\n  </tbody>\n</table>\n</div>"
     },
     "metadata": {},
     "execution_count": 22
    }
   ],
   "source": [
    "df = pd.DataFrame({\n",
    "    'Rank': top_rank_list,\n",
    "    'Title': top_title_list,\n",
    "    'Hit': top_hit_list,\n",
    "    'Like': top_like_list,\n",
    "    'Channel': top_channel_list\n",
    "})\n",
    "df.head()"
   ]
  },
  {
   "cell_type": "code",
   "execution_count": 32,
   "metadata": {},
   "outputs": [],
   "source": [
    "rank_list = []; channel_list = []; hit_list = []; like_list = []; title_list = []\n",
    "for list in song_list:\n",
    "\n",
    "    rank = int(list.select_one('.num').get_text())\n",
    "    channel = list.select_one('.chn').get_text().strip()\n",
    "    hit = int(list.select_one('.hit').get_text().replace('재생 수','').replace(',',''))\n",
    "    like = int(list.select_one('.like').get_text().replace('좋아요 수','').replace(',',''))\n",
    "    title = list.select_one('.title').get_text().strip()\n",
    "\n",
    "    rank_list.append(rank)\n",
    "    channel_list.append(channel)\n",
    "    hit_list.append(hit)\n",
    "    like_list.append(like)\n",
    "    title_list.append(title)"
   ]
  },
  {
   "cell_type": "code",
   "execution_count": 33,
   "metadata": {},
   "outputs": [
    {
     "output_type": "execute_result",
     "data": {
      "text/plain": [
       "   Rank                                         Title     Hit   Like  \\\n",
       "0     4                        레전드 무대 예약😍 임영웅 ‘그날들’ ♫  357253  26704   \n",
       "1     5       [Full] 개학 첫 날부터 선 넘네? [라이브온] - EP.01~02  124550   2402   \n",
       "2     6              세 아이와 엄마 덮친 8.5t 트럭…'신호등은 왜 없었나'   14245     10   \n",
       "3     7                                   '소울' 메인 예고편   55599    676   \n",
       "4     8  [선공개] 헨리가 자존감을 상승시키는 꿀팁은?! (feat. 시선 만끽) 🚘🚘🚘   12268    469   \n",
       "\n",
       "                          Channel  \n",
       "0                         사랑의 콜센타  \n",
       "1  플레이리스트 오리지널 PLAYLIST ORIGINALS  \n",
       "2                          JTBC뉴스  \n",
       "3                  네이버 영화 예고편 저장소  \n",
       "4                           라디오스타  "
      ],
      "text/html": "<div>\n<style scoped>\n    .dataframe tbody tr th:only-of-type {\n        vertical-align: middle;\n    }\n\n    .dataframe tbody tr th {\n        vertical-align: top;\n    }\n\n    .dataframe thead th {\n        text-align: right;\n    }\n</style>\n<table border=\"1\" class=\"dataframe\">\n  <thead>\n    <tr style=\"text-align: right;\">\n      <th></th>\n      <th>Rank</th>\n      <th>Title</th>\n      <th>Hit</th>\n      <th>Like</th>\n      <th>Channel</th>\n    </tr>\n  </thead>\n  <tbody>\n    <tr>\n      <th>0</th>\n      <td>4</td>\n      <td>레전드 무대 예약😍 임영웅 ‘그날들’ ♫</td>\n      <td>357253</td>\n      <td>26704</td>\n      <td>사랑의 콜센타</td>\n    </tr>\n    <tr>\n      <th>1</th>\n      <td>5</td>\n      <td>[Full] 개학 첫 날부터 선 넘네? [라이브온] - EP.01~02</td>\n      <td>124550</td>\n      <td>2402</td>\n      <td>플레이리스트 오리지널 PLAYLIST ORIGINALS</td>\n    </tr>\n    <tr>\n      <th>2</th>\n      <td>6</td>\n      <td>세 아이와 엄마 덮친 8.5t 트럭…'신호등은 왜 없었나'</td>\n      <td>14245</td>\n      <td>10</td>\n      <td>JTBC뉴스</td>\n    </tr>\n    <tr>\n      <th>3</th>\n      <td>7</td>\n      <td>'소울' 메인 예고편</td>\n      <td>55599</td>\n      <td>676</td>\n      <td>네이버 영화 예고편 저장소</td>\n    </tr>\n    <tr>\n      <th>4</th>\n      <td>8</td>\n      <td>[선공개] 헨리가 자존감을 상승시키는 꿀팁은?! (feat. 시선 만끽) 🚘🚘🚘</td>\n      <td>12268</td>\n      <td>469</td>\n      <td>라디오스타</td>\n    </tr>\n  </tbody>\n</table>\n</div>"
     },
     "metadata": {},
     "execution_count": 33
    }
   ],
   "source": [
    "df2 = pd.DataFrame({\n",
    "    'Rank': rank_list,\n",
    "    'Title': title_list,\n",
    "    'Hit': hit_list,\n",
    "    'Like': like_list,\n",
    "    'Channel': channel_list\n",
    "})\n",
    "df2.head()"
   ]
  },
  {
   "cell_type": "code",
   "execution_count": 35,
   "metadata": {},
   "outputs": [],
   "source": [
    "df.to_csv('top_song_list.csv')"
   ]
  },
  {
   "cell_type": "code",
   "execution_count": 36,
   "metadata": {},
   "outputs": [],
   "source": [
    "df.to_csv('song_list.csv')"
   ]
  },
  {
   "cell_type": "code",
   "execution_count": 43,
   "metadata": {},
   "outputs": [
    {
     "output_type": "execute_result",
     "data": {
      "text/plain": [
       "   Rank                                              Title     Hit   Like  \\\n",
       "0     1         [앵커리포트] \"유모차 끈 엄마, 양보 없는 운전자\"...광주 스쿨존의 비극   90517     25   \n",
       "1     2          잠시만 안녕. 김호중 군복무전 마지막 무대 ＜배웅＞ㅣ김호중의파트너 EP.5  429735  21520   \n",
       "2     3  [선공개] 이것이 모범생의 광기다...! 어쩌다 'BTS 여고생' (feat. 조회...   29311    234   \n",
       "\n",
       "            Channel  \n",
       "0           뉴스는 YTN  \n",
       "1  아무도 모르게 김호중의 파트너  \n",
       "2       유 퀴즈 온 더 블럭  "
      ],
      "text/html": "<div>\n<style scoped>\n    .dataframe tbody tr th:only-of-type {\n        vertical-align: middle;\n    }\n\n    .dataframe tbody tr th {\n        vertical-align: top;\n    }\n\n    .dataframe thead th {\n        text-align: right;\n    }\n</style>\n<table border=\"1\" class=\"dataframe\">\n  <thead>\n    <tr style=\"text-align: right;\">\n      <th></th>\n      <th>Rank</th>\n      <th>Title</th>\n      <th>Hit</th>\n      <th>Like</th>\n      <th>Channel</th>\n    </tr>\n  </thead>\n  <tbody>\n    <tr>\n      <th>0</th>\n      <td>1</td>\n      <td>[앵커리포트] \"유모차 끈 엄마, 양보 없는 운전자\"...광주 스쿨존의 비극</td>\n      <td>90517</td>\n      <td>25</td>\n      <td>뉴스는 YTN</td>\n    </tr>\n    <tr>\n      <th>1</th>\n      <td>2</td>\n      <td>잠시만 안녕. 김호중 군복무전 마지막 무대 ＜배웅＞ㅣ김호중의파트너 EP.5</td>\n      <td>429735</td>\n      <td>21520</td>\n      <td>아무도 모르게 김호중의 파트너</td>\n    </tr>\n    <tr>\n      <th>2</th>\n      <td>3</td>\n      <td>[선공개] 이것이 모범생의 광기다...! 어쩌다 'BTS 여고생' (feat. 조회...</td>\n      <td>29311</td>\n      <td>234</td>\n      <td>유 퀴즈 온 더 블럭</td>\n    </tr>\n  </tbody>\n</table>\n</div>"
     },
     "metadata": {},
     "execution_count": 43
    }
   ],
   "source": [
    "df"
   ]
  },
  {
   "cell_type": "code",
   "execution_count": 44,
   "metadata": {},
   "outputs": [
    {
     "output_type": "execute_result",
     "data": {
      "text/plain": [
       "    Rank                                              Title     Hit   Like  \\\n",
       "0      4                             레전드 무대 예약😍 임영웅 ‘그날들’ ♫  357253  26704   \n",
       "1      5            [Full] 개학 첫 날부터 선 넘네? [라이브온] - EP.01~02  124550   2402   \n",
       "2      6                   세 아이와 엄마 덮친 8.5t 트럭…'신호등은 왜 없었나'   14245     10   \n",
       "3      7                                        '소울' 메인 예고편   55599    676   \n",
       "4      8       [선공개] 헨리가 자존감을 상승시키는 꿀팁은?! (feat. 시선 만끽) 🚘🚘🚘   12268    469   \n",
       "..   ...                                                ...     ...    ...   \n",
       "92    96                    ＜선공개＞ EXID! 개인 활동 후, 심경 최초 고백?!  211203    555   \n",
       "93    97                 2018-19 '아시아 최초 신인상' 다시 보는 임성재 활약상    7111      8   \n",
       "94    98  김범x김용지 여우 콤비의 귀염뽀짝 인터뷰! [구미호뎐  못다 한 이야기] 소개해드립니다♥   12262    334   \n",
       "95    99    [차홍스타일링] 동그란얼굴형, 사이드뱅으로 머리 예쁘게 길러 보아요💇💇‍♀️Round    4809     54   \n",
       "96   100                10명 이상 신규 집단감염 하루 10건...81일만에 3백 명대     817      0   \n",
       "\n",
       "                           Channel  \n",
       "0                          사랑의 콜센타  \n",
       "1   플레이리스트 오리지널 PLAYLIST ORIGINALS  \n",
       "2                           JTBC뉴스  \n",
       "3                   네이버 영화 예고편 저장소  \n",
       "4                            라디오스타  \n",
       "..                             ...  \n",
       "92                             미쓰백  \n",
       "93               GOLFTV X PGA TOUR  \n",
       "94                            구미호뎐  \n",
       "95             차홍 chahong official  \n",
       "96                         뉴스는 YTN  \n",
       "\n",
       "[97 rows x 5 columns]"
      ],
      "text/html": "<div>\n<style scoped>\n    .dataframe tbody tr th:only-of-type {\n        vertical-align: middle;\n    }\n\n    .dataframe tbody tr th {\n        vertical-align: top;\n    }\n\n    .dataframe thead th {\n        text-align: right;\n    }\n</style>\n<table border=\"1\" class=\"dataframe\">\n  <thead>\n    <tr style=\"text-align: right;\">\n      <th></th>\n      <th>Rank</th>\n      <th>Title</th>\n      <th>Hit</th>\n      <th>Like</th>\n      <th>Channel</th>\n    </tr>\n  </thead>\n  <tbody>\n    <tr>\n      <th>0</th>\n      <td>4</td>\n      <td>레전드 무대 예약😍 임영웅 ‘그날들’ ♫</td>\n      <td>357253</td>\n      <td>26704</td>\n      <td>사랑의 콜센타</td>\n    </tr>\n    <tr>\n      <th>1</th>\n      <td>5</td>\n      <td>[Full] 개학 첫 날부터 선 넘네? [라이브온] - EP.01~02</td>\n      <td>124550</td>\n      <td>2402</td>\n      <td>플레이리스트 오리지널 PLAYLIST ORIGINALS</td>\n    </tr>\n    <tr>\n      <th>2</th>\n      <td>6</td>\n      <td>세 아이와 엄마 덮친 8.5t 트럭…'신호등은 왜 없었나'</td>\n      <td>14245</td>\n      <td>10</td>\n      <td>JTBC뉴스</td>\n    </tr>\n    <tr>\n      <th>3</th>\n      <td>7</td>\n      <td>'소울' 메인 예고편</td>\n      <td>55599</td>\n      <td>676</td>\n      <td>네이버 영화 예고편 저장소</td>\n    </tr>\n    <tr>\n      <th>4</th>\n      <td>8</td>\n      <td>[선공개] 헨리가 자존감을 상승시키는 꿀팁은?! (feat. 시선 만끽) 🚘🚘🚘</td>\n      <td>12268</td>\n      <td>469</td>\n      <td>라디오스타</td>\n    </tr>\n    <tr>\n      <th>...</th>\n      <td>...</td>\n      <td>...</td>\n      <td>...</td>\n      <td>...</td>\n      <td>...</td>\n    </tr>\n    <tr>\n      <th>92</th>\n      <td>96</td>\n      <td>＜선공개＞ EXID! 개인 활동 후, 심경 최초 고백?!</td>\n      <td>211203</td>\n      <td>555</td>\n      <td>미쓰백</td>\n    </tr>\n    <tr>\n      <th>93</th>\n      <td>97</td>\n      <td>2018-19 '아시아 최초 신인상' 다시 보는 임성재 활약상</td>\n      <td>7111</td>\n      <td>8</td>\n      <td>GOLFTV X PGA TOUR</td>\n    </tr>\n    <tr>\n      <th>94</th>\n      <td>98</td>\n      <td>김범x김용지 여우 콤비의 귀염뽀짝 인터뷰! [구미호뎐  못다 한 이야기] 소개해드립니다♥</td>\n      <td>12262</td>\n      <td>334</td>\n      <td>구미호뎐</td>\n    </tr>\n    <tr>\n      <th>95</th>\n      <td>99</td>\n      <td>[차홍스타일링] 동그란얼굴형, 사이드뱅으로 머리 예쁘게 길러 보아요💇💇‍♀️Round</td>\n      <td>4809</td>\n      <td>54</td>\n      <td>차홍 chahong official</td>\n    </tr>\n    <tr>\n      <th>96</th>\n      <td>100</td>\n      <td>10명 이상 신규 집단감염 하루 10건...81일만에 3백 명대</td>\n      <td>817</td>\n      <td>0</td>\n      <td>뉴스는 YTN</td>\n    </tr>\n  </tbody>\n</table>\n<p>97 rows × 5 columns</p>\n</div>"
     },
     "metadata": {},
     "execution_count": 44
    }
   ],
   "source": [
    "df2"
   ]
  },
  {
   "cell_type": "code",
   "execution_count": 67,
   "metadata": {},
   "outputs": [
    {
     "output_type": "execute_result",
     "data": {
      "text/plain": [
       "    Rank                                              Title     Hit   Like  \\\n",
       "0      1         [앵커리포트] \"유모차 끈 엄마, 양보 없는 운전자\"...광주 스쿨존의 비극   90517     25   \n",
       "1      2          잠시만 안녕. 김호중 군복무전 마지막 무대 ＜배웅＞ㅣ김호중의파트너 EP.5  429735  21520   \n",
       "2      3  [선공개] 이것이 모범생의 광기다...! 어쩌다 'BTS 여고생' (feat. 조회...   29311    234   \n",
       "0      4                             레전드 무대 예약😍 임영웅 ‘그날들’ ♫  357253  26704   \n",
       "1      5            [Full] 개학 첫 날부터 선 넘네? [라이브온] - EP.01~02  124550   2402   \n",
       "..   ...                                                ...     ...    ...   \n",
       "92    96                    ＜선공개＞ EXID! 개인 활동 후, 심경 최초 고백?!  211203    555   \n",
       "93    97                 2018-19 '아시아 최초 신인상' 다시 보는 임성재 활약상    7111      8   \n",
       "94    98  김범x김용지 여우 콤비의 귀염뽀짝 인터뷰! [구미호뎐  못다 한 이야기] 소개해드립니다♥   12262    334   \n",
       "95    99    [차홍스타일링] 동그란얼굴형, 사이드뱅으로 머리 예쁘게 길러 보아요💇💇‍♀️Round    4809     54   \n",
       "96   100                10명 이상 신규 집단감염 하루 10건...81일만에 3백 명대     817      0   \n",
       "\n",
       "                           Channel  \n",
       "0                          뉴스는 YTN  \n",
       "1                 아무도 모르게 김호중의 파트너  \n",
       "2                      유 퀴즈 온 더 블럭  \n",
       "0                          사랑의 콜센타  \n",
       "1   플레이리스트 오리지널 PLAYLIST ORIGINALS  \n",
       "..                             ...  \n",
       "92                             미쓰백  \n",
       "93               GOLFTV X PGA TOUR  \n",
       "94                            구미호뎐  \n",
       "95             차홍 chahong official  \n",
       "96                         뉴스는 YTN  \n",
       "\n",
       "[100 rows x 5 columns]"
      ],
      "text/html": "<div>\n<style scoped>\n    .dataframe tbody tr th:only-of-type {\n        vertical-align: middle;\n    }\n\n    .dataframe tbody tr th {\n        vertical-align: top;\n    }\n\n    .dataframe thead th {\n        text-align: right;\n    }\n</style>\n<table border=\"1\" class=\"dataframe\">\n  <thead>\n    <tr style=\"text-align: right;\">\n      <th></th>\n      <th>Rank</th>\n      <th>Title</th>\n      <th>Hit</th>\n      <th>Like</th>\n      <th>Channel</th>\n    </tr>\n  </thead>\n  <tbody>\n    <tr>\n      <th>0</th>\n      <td>1</td>\n      <td>[앵커리포트] \"유모차 끈 엄마, 양보 없는 운전자\"...광주 스쿨존의 비극</td>\n      <td>90517</td>\n      <td>25</td>\n      <td>뉴스는 YTN</td>\n    </tr>\n    <tr>\n      <th>1</th>\n      <td>2</td>\n      <td>잠시만 안녕. 김호중 군복무전 마지막 무대 ＜배웅＞ㅣ김호중의파트너 EP.5</td>\n      <td>429735</td>\n      <td>21520</td>\n      <td>아무도 모르게 김호중의 파트너</td>\n    </tr>\n    <tr>\n      <th>2</th>\n      <td>3</td>\n      <td>[선공개] 이것이 모범생의 광기다...! 어쩌다 'BTS 여고생' (feat. 조회...</td>\n      <td>29311</td>\n      <td>234</td>\n      <td>유 퀴즈 온 더 블럭</td>\n    </tr>\n    <tr>\n      <th>0</th>\n      <td>4</td>\n      <td>레전드 무대 예약😍 임영웅 ‘그날들’ ♫</td>\n      <td>357253</td>\n      <td>26704</td>\n      <td>사랑의 콜센타</td>\n    </tr>\n    <tr>\n      <th>1</th>\n      <td>5</td>\n      <td>[Full] 개학 첫 날부터 선 넘네? [라이브온] - EP.01~02</td>\n      <td>124550</td>\n      <td>2402</td>\n      <td>플레이리스트 오리지널 PLAYLIST ORIGINALS</td>\n    </tr>\n    <tr>\n      <th>...</th>\n      <td>...</td>\n      <td>...</td>\n      <td>...</td>\n      <td>...</td>\n      <td>...</td>\n    </tr>\n    <tr>\n      <th>92</th>\n      <td>96</td>\n      <td>＜선공개＞ EXID! 개인 활동 후, 심경 최초 고백?!</td>\n      <td>211203</td>\n      <td>555</td>\n      <td>미쓰백</td>\n    </tr>\n    <tr>\n      <th>93</th>\n      <td>97</td>\n      <td>2018-19 '아시아 최초 신인상' 다시 보는 임성재 활약상</td>\n      <td>7111</td>\n      <td>8</td>\n      <td>GOLFTV X PGA TOUR</td>\n    </tr>\n    <tr>\n      <th>94</th>\n      <td>98</td>\n      <td>김범x김용지 여우 콤비의 귀염뽀짝 인터뷰! [구미호뎐  못다 한 이야기] 소개해드립니다♥</td>\n      <td>12262</td>\n      <td>334</td>\n      <td>구미호뎐</td>\n    </tr>\n    <tr>\n      <th>95</th>\n      <td>99</td>\n      <td>[차홍스타일링] 동그란얼굴형, 사이드뱅으로 머리 예쁘게 길러 보아요💇💇‍♀️Round</td>\n      <td>4809</td>\n      <td>54</td>\n      <td>차홍 chahong official</td>\n    </tr>\n    <tr>\n      <th>96</th>\n      <td>100</td>\n      <td>10명 이상 신규 집단감염 하루 10건...81일만에 3백 명대</td>\n      <td>817</td>\n      <td>0</td>\n      <td>뉴스는 YTN</td>\n    </tr>\n  </tbody>\n</table>\n<p>100 rows × 5 columns</p>\n</div>"
     },
     "metadata": {},
     "execution_count": 67
    }
   ],
   "source": [
    "x = pd.concat([df, df2])\n",
    "x"
   ]
  },
  {
   "cell_type": "code",
   "execution_count": 73,
   "metadata": {},
   "outputs": [],
   "source": [
    "x.to_csv('top100_song_list.csv',index=False)"
   ]
  },
  {
   "cell_type": "code",
   "execution_count": 74,
   "metadata": {},
   "outputs": [
    {
     "output_type": "execute_result",
     "data": {
      "text/plain": [
       "    Rank                                              Title     Hit   Like  \\\n",
       "0      1         [앵커리포트] \"유모차 끈 엄마, 양보 없는 운전자\"...광주 스쿨존의 비극   90517     25   \n",
       "1      2          잠시만 안녕. 김호중 군복무전 마지막 무대 ＜배웅＞ㅣ김호중의파트너 EP.5  429735  21520   \n",
       "2      3  [선공개] 이것이 모범생의 광기다...! 어쩌다 'BTS 여고생' (feat. 조회...   29311    234   \n",
       "3      4                             레전드 무대 예약😍 임영웅 ‘그날들’ ♫  357253  26704   \n",
       "4      5            [Full] 개학 첫 날부터 선 넘네? [라이브온] - EP.01~02  124550   2402   \n",
       "..   ...                                                ...     ...    ...   \n",
       "95    96                    ＜선공개＞ EXID! 개인 활동 후, 심경 최초 고백?!  211203    555   \n",
       "96    97                 2018-19 '아시아 최초 신인상' 다시 보는 임성재 활약상    7111      8   \n",
       "97    98  김범x김용지 여우 콤비의 귀염뽀짝 인터뷰! [구미호뎐  못다 한 이야기] 소개해드립니다♥   12262    334   \n",
       "98    99    [차홍스타일링] 동그란얼굴형, 사이드뱅으로 머리 예쁘게 길러 보아요💇💇‍♀️Round    4809     54   \n",
       "99   100                10명 이상 신규 집단감염 하루 10건...81일만에 3백 명대     817      0   \n",
       "\n",
       "                           Channel  \n",
       "0                          뉴스는 YTN  \n",
       "1                 아무도 모르게 김호중의 파트너  \n",
       "2                      유 퀴즈 온 더 블럭  \n",
       "3                          사랑의 콜센타  \n",
       "4   플레이리스트 오리지널 PLAYLIST ORIGINALS  \n",
       "..                             ...  \n",
       "95                             미쓰백  \n",
       "96               GOLFTV X PGA TOUR  \n",
       "97                            구미호뎐  \n",
       "98             차홍 chahong official  \n",
       "99                         뉴스는 YTN  \n",
       "\n",
       "[100 rows x 5 columns]"
      ],
      "text/html": "<div>\n<style scoped>\n    .dataframe tbody tr th:only-of-type {\n        vertical-align: middle;\n    }\n\n    .dataframe tbody tr th {\n        vertical-align: top;\n    }\n\n    .dataframe thead th {\n        text-align: right;\n    }\n</style>\n<table border=\"1\" class=\"dataframe\">\n  <thead>\n    <tr style=\"text-align: right;\">\n      <th></th>\n      <th>Rank</th>\n      <th>Title</th>\n      <th>Hit</th>\n      <th>Like</th>\n      <th>Channel</th>\n    </tr>\n  </thead>\n  <tbody>\n    <tr>\n      <th>0</th>\n      <td>1</td>\n      <td>[앵커리포트] \"유모차 끈 엄마, 양보 없는 운전자\"...광주 스쿨존의 비극</td>\n      <td>90517</td>\n      <td>25</td>\n      <td>뉴스는 YTN</td>\n    </tr>\n    <tr>\n      <th>1</th>\n      <td>2</td>\n      <td>잠시만 안녕. 김호중 군복무전 마지막 무대 ＜배웅＞ㅣ김호중의파트너 EP.5</td>\n      <td>429735</td>\n      <td>21520</td>\n      <td>아무도 모르게 김호중의 파트너</td>\n    </tr>\n    <tr>\n      <th>2</th>\n      <td>3</td>\n      <td>[선공개] 이것이 모범생의 광기다...! 어쩌다 'BTS 여고생' (feat. 조회...</td>\n      <td>29311</td>\n      <td>234</td>\n      <td>유 퀴즈 온 더 블럭</td>\n    </tr>\n    <tr>\n      <th>3</th>\n      <td>4</td>\n      <td>레전드 무대 예약😍 임영웅 ‘그날들’ ♫</td>\n      <td>357253</td>\n      <td>26704</td>\n      <td>사랑의 콜센타</td>\n    </tr>\n    <tr>\n      <th>4</th>\n      <td>5</td>\n      <td>[Full] 개학 첫 날부터 선 넘네? [라이브온] - EP.01~02</td>\n      <td>124550</td>\n      <td>2402</td>\n      <td>플레이리스트 오리지널 PLAYLIST ORIGINALS</td>\n    </tr>\n    <tr>\n      <th>...</th>\n      <td>...</td>\n      <td>...</td>\n      <td>...</td>\n      <td>...</td>\n      <td>...</td>\n    </tr>\n    <tr>\n      <th>95</th>\n      <td>96</td>\n      <td>＜선공개＞ EXID! 개인 활동 후, 심경 최초 고백?!</td>\n      <td>211203</td>\n      <td>555</td>\n      <td>미쓰백</td>\n    </tr>\n    <tr>\n      <th>96</th>\n      <td>97</td>\n      <td>2018-19 '아시아 최초 신인상' 다시 보는 임성재 활약상</td>\n      <td>7111</td>\n      <td>8</td>\n      <td>GOLFTV X PGA TOUR</td>\n    </tr>\n    <tr>\n      <th>97</th>\n      <td>98</td>\n      <td>김범x김용지 여우 콤비의 귀염뽀짝 인터뷰! [구미호뎐  못다 한 이야기] 소개해드립니다♥</td>\n      <td>12262</td>\n      <td>334</td>\n      <td>구미호뎐</td>\n    </tr>\n    <tr>\n      <th>98</th>\n      <td>99</td>\n      <td>[차홍스타일링] 동그란얼굴형, 사이드뱅으로 머리 예쁘게 길러 보아요💇💇‍♀️Round</td>\n      <td>4809</td>\n      <td>54</td>\n      <td>차홍 chahong official</td>\n    </tr>\n    <tr>\n      <th>99</th>\n      <td>100</td>\n      <td>10명 이상 신규 집단감염 하루 10건...81일만에 3백 명대</td>\n      <td>817</td>\n      <td>0</td>\n      <td>뉴스는 YTN</td>\n    </tr>\n  </tbody>\n</table>\n<p>100 rows × 5 columns</p>\n</div>"
     },
     "metadata": {},
     "execution_count": 74
    }
   ],
   "source": [
    "pd.read_csv('top100_song_list.csv')"
   ]
  },
  {
   "cell_type": "code",
   "execution_count": null,
   "metadata": {},
   "outputs": [],
   "source": []
  }
 ]
}