{
 "metadata": {
  "language_info": {
   "codemirror_mode": {
    "name": "ipython",
    "version": 3
   },
   "file_extension": ".py",
   "mimetype": "text/x-python",
   "name": "python",
   "nbconvert_exporter": "python",
   "pygments_lexer": "ipython3",
   "version": "3.8.3-final"
  },
  "orig_nbformat": 2,
  "kernelspec": {
   "name": "python3",
   "display_name": "Python 3"
  }
 },
 "nbformat": 4,
 "nbformat_minor": 2,
 "cells": [
  {
   "cell_type": "code",
   "execution_count": 1,
   "metadata": {},
   "outputs": [],
   "source": [
    "from bs4 import BeautifulSoup\n",
    "from urllib.request import urlopen\n",
    "from urllib.parse import urljoin\n",
    "import pandas as pd"
   ]
  },
  {
   "cell_type": "code",
   "execution_count": 3,
   "metadata": {},
   "outputs": [],
   "source": [
    "url_base = 'https://www.chicagomag.com/'\n",
    "url_sub = 'Chicago-Magazine/November-2012/Best-Sandwiches-Chicago/'\n",
    "url = url_base + url_sub"
   ]
  },
  {
   "cell_type": "code",
   "execution_count": 5,
   "metadata": {},
   "outputs": [],
   "source": [
    "html = urlopen(url)\n",
    "soup = BeautifulSoup(html, 'html.parser')"
   ]
  },
  {
   "cell_type": "code",
   "execution_count": 6,
   "metadata": {},
   "outputs": [
    {
     "output_type": "execute_result",
     "data": {
      "text/plain": [
       "<div class=\"sammy\" style=\"position: relative;\">\n",
       "<div class=\"sammyRank\">1</div>\n",
       "<div class=\"sammyListing\"><a href=\"/Chicago-Magazine/November-2012/Best-Sandwiches-in-Chicago-Old-Oak-Tap-BLT/\"><b>BLT</b><br>\n",
       "Old Oak Tap<br>\n",
       "<em>Read more</em> </br></br></a></div>\n",
       "</div>"
      ]
     },
     "metadata": {},
     "execution_count": 6
    }
   ],
   "source": [
    "rest_lists = soup.select('.sammy')\n",
    "rest_lists[0]"
   ]
  },
  {
   "cell_type": "code",
   "execution_count": 7,
   "metadata": {},
   "outputs": [
    {
     "output_type": "stream",
     "name": "stdout",
     "text": [
      "[<div class=\"sammy\" style=\"position: relative;\">\n<div class=\"sammyRank\">1</div>\n<div class=\"sammyListing\"><a href=\"/Chicago-Magazine/November-2012/Best-Sandwiches-in-Chicago-Old-Oak-Tap-BLT/\"><b>BLT</b><br>\nOld Oak Tap<br>\n<em>Read more</em> </br></br></a></div>\n</div>, <div class=\"sammy\" style=\"position: relative;\">\n<div class=\"sammyRank\">2</div>\n<div class=\"sammyListing\"><a href=\"/Chicago-Magazine/November-2012/Best-Sandwiches-in-Chicago-Au-Cheval-Fried-Bologna/\"><b>Fried Bologna</b><br/>\nAu Cheval<br/>\n<em>Read more</em> </a></div>\n</div>, <div class=\"sammy\" style=\"position: relative;\">\n<div class=\"sammyRank\">3</div>\n<div class=\"sammyListing\"><a href=\"/Chicago-Magazine/November-2012/Best-Sandwiches-in-Chicago-Xoco-Woodland-Mushroom/\"><b>Woodland Mushroom</b><br/>\nXoco<br/>\n<em>Read more</em> </a></div>\n</div>, <div class=\"sammy\" style=\"position: relative;\">\n<div class=\"sammyRank\">4</div>\n<div class=\"sammyListing\"><a href=\"/Chicago-Magazine/November-2012/Best-Sandwiches-in-Chicago-Als-Deli-Roast-Beef/\"><b>Roast Beef</b><br/>\nAl’s Deli<br/>\n<em>Read more</em> </a></div>\n</div>, <div class=\"sammy\" style=\"position: relative;\">\n<div class=\"sammyRank\">5</div>\n<div class=\"sammyListing\"><a href=\"/Chicago-Magazine/November-2012/Best-Sandwiches-in-Chicago-Publican-Quality-Meats-PB-L/\"><b>PB&amp;L</b><br/>\nPublican Quality Meats<br/>\n<em>Read more</em> </a></div>\n</div>, <div class=\"sammy\" style=\"position: relative;\">\n<div class=\"sammyRank\">6</div>\n<div class=\"sammyListing\"><a href=\"http://www.chicagomag.com/Chicago-Magazine/November-2012/Best-Sandwiches-in-Chicago-Hendrickx-Belgian-Bread-Crafter-Belgian-Chicken-Curry-Salad/\"><b>Belgian Chicken Curry Salad</b><br/>\nHendrickx Belgian Bread Crafter<br/>\n<em>Read more</em> </a></div>\n</div>, <div class=\"sammy\" style=\"position: relative;\">\n<div class=\"sammyRank\">7</div>\n<div class=\"sammyListing\"><a href=\"/Chicago-Magazine/November-2012/Best-Sandwiches-in-Chicago-Acadia-Lobster-Roll/\"><b>Lobster Roll</b><br/>\nAcadia<br/>\n<em>Read more</em> </a></div>\n</div>, <div class=\"sammy\" style=\"position: relative;\">\n<div class=\"sammyRank\">8</div>\n<div class=\"sammyListing\"><a href=\"/Chicago-Magazine/November-2012/Best-Sandwiches-in-Chicago-Birchwood-Kitchen-Smoked-Salmon-Salad/\"><b>Smoked Salmon Salad</b><br/>\nBirchwood Kitchen<br/>\n<em>Read more</em> </a></div>\n</div>, <div class=\"sammy\" style=\"position: relative;\">\n<div class=\"sammyRank\">9</div>\n<div class=\"sammyListing\"><a href=\"/Chicago-Magazine/November-2012/Best-Sandwiches-in-Chicago-Cemitas-Puebla-Atomica-Cemitas/\"><b>Atomica Cemitas</b><br/>\nCemitas Puebla<br/>\n<em>Read more</em> </a></div>\n</div>, <div class=\"sammy\" style=\"position: relative;\">\n<div class=\"sammyRank\">10</div>\n<div class=\"sammyListing\"><a href=\"/Chicago-Magazine/November-2012/Best-Sandwiches-in-Chicago-Nana-Grilled-Laughing-Bird-Shrimp-and-Fried-Oyster-Po-Boy/\"><b>Grilled Laughing Bird Shrimp and Fried Po’ Boy</b><br/>\nNana<br/>\n<em>Read more</em> </a></div>\n</div>, <div class=\"sammy\" style=\"position: relative;\">\n<div class=\"sammyRank\">11</div>\n<div class=\"sammyListing\"><a href=\"http://www.chicagomag.com/Chicago-Magazine/November-2012/Best-Sandwiches-in-Chicago-Lula-Cafe-Ham-and-Raclette-Panino/\"><b>Ham and Raclette Panino</b><br/>\nLula Cafe<br/>\n<em>Read more</em> </a></div>\n</div>, <div class=\"sammy\" style=\"position: relative;\">\n<div class=\"sammyRank\">12</div>\n<div class=\"sammyListing\"><a href=\"http://www.chicagomag.com/Chicago-Magazine/November-2012/Best-Sandwiches-in-Chicago-Ricobenes-Breaded-Steak/\"><b>Breaded Steak</b><br/>\nRicobene’s<br/>\n<em>Read more</em> </a></div>\n</div>, <div class=\"sammy\" style=\"position: relative;\">\n<div class=\"sammyRank\">13</div>\n<div class=\"sammyListing\"><a href=\"http://www.chicagomag.com/Chicago-Magazine/November-2012/Best-Sandwiches-in-Chicago-Frog-n-Snail-The-Hawkeye/\"><b>The Hawkeye</b><br/>\nFrog n Snail<br/>\n<em>Read more</em> </a></div>\n</div>, <div class=\"sammy\" style=\"position: relative;\">\n<div class=\"sammyRank\">14</div>\n<div class=\"sammyListing\"><a href=\"http://www.chicagomag.com/Chicago-Magazine/November-2012/Best-Sandwiches-in-Chicago-Crosbys-Kitchen-Chicken-Dip/\"><b>Chicken Dip</b><br/>\nCrosby’s Kitchen<br/>\n<em>Read more</em> </a></div>\n</div>, <div class=\"sammy\" style=\"position: relative;\">\n<div class=\"sammyRank\">15</div>\n<div class=\"sammyListing\"><a href=\"http://www.chicagomag.com/Chicago-Magazine/November-2012/Best-Sandwiches-in-Chicago-Longman-and-Eagle-Wild-Boar-Sloppy-Joe/\"><b>Wild Boar Sloppy Joe</b><br/>\nLongman &amp; Eagle<br/>\n<em>Read more</em> </a></div>\n</div>, <div class=\"sammy\" style=\"position: relative;\">\n<div class=\"sammyRank\">16</div>\n<div class=\"sammyListing\"><a href=\"http://www.chicagomag.com/Chicago-Magazine/November-2012/Best-Sandwiches-in-Chicago-Bari-Meatball-Sub/\"><b>Meatball Sub</b><br/>\nBari<br/>\n<em>Read more</em> </a></div>\n</div>, <div class=\"sammy\" style=\"position: relative;\">\n<div class=\"sammyRank\">17</div>\n<div class=\"sammyListing\"><a href=\"http://www.chicagomag.com/Chicago-Magazine/November-2012/Best-Sandwiches-in-Chicago-Mannys-Corned-Beef/\"><b>Corned Beef</b><br/>\nManny’s<br/>\n<em>Read more</em> </a></div>\n</div>, <div class=\"sammy\" style=\"position: relative;\">\n<div class=\"sammyRank\">18</div>\n<div class=\"sammyListing\"><a href=\"http://www.chicagomag.com/Chicago-Magazine/November-2012/Best-Sandwiches-in-Chicago-Eggys-Turkey-Club/\"><b>Turkey Club</b><br/>\nEggy’s<br/>\n<em>Read more</em> </a></div>\n</div>, <div class=\"sammy\" style=\"position: relative;\">\n<div class=\"sammyRank\">19</div>\n<div class=\"sammyListing\"><a href=\"http://www.chicagomag.com/Chicago-Magazine/November-2012/Best-Sandwiches-in-Chicago-Old-Jerusalem-Falafel/\"><b>Falafel</b><br/>\nOld Jerusalem<br/>\n<em>Read more</em> </a></div>\n</div>, <div class=\"sammy\" style=\"position: relative;\">\n<div class=\"sammyRank\">20</div>\n<div class=\"sammyListing\"><a href=\"http://www.chicagomag.com/Chicago-Magazine/November-2012/Best-Sandwiches-in-Chicago-Mindys-HotChocolate-Crab-Cake/\"><b>Crab Cake</b><br/>\nMindy’s HotChocolate<br/>\n<em>Read more</em> </a></div>\n</div>, <div class=\"sammy\" style=\"position: relative;\">\n<div class=\"sammyRank\">21</div>\n<div class=\"sammyListing\"><a href=\"http://www.chicagomag.com/Chicago-Magazine/November-2012/Best-Sandwiches-in-Chicago-Olgas-Delicatessen-Chicken-Schnitzel/\"><b>Chicken Schnitzel</b><br/>\nOlga’s Delicatessen<br/>\n<em>Read more</em> </a></div>\n</div>, <div class=\"sammy\" style=\"position: relative;\">\n<div class=\"sammyRank\">22</div>\n<div class=\"sammyListing\"><a href=\"http://www.chicagomag.com/Chicago-Magazine/November-2012/Best-Sandwiches-in-Chicago-Dawali-Mediterranean-Kitchen-Shawarma/\"><b>Shawarma</b><br/>\nDawali Mediterranean Kitchen<br/>\n<em>Read more</em> </a></div>\n</div>, <div class=\"sammy\" style=\"position: relative;\">\n<div class=\"sammyRank\">23</div>\n<div class=\"sammyListing\"><a href=\"http://www.chicagomag.com/Chicago-Magazine/November-2012/Best-Sandwiches-in-Chicago-Big-Jones-Toasted-Pimiento-Cheese/\"><b>Toasted Pimiento Cheese</b><br/>\nBig Jones<br/>\n<em>Read more</em> </a></div>\n</div>, <div class=\"sammy\" style=\"position: relative;\">\n<div class=\"sammyRank\">24</div>\n<div class=\"sammyListing\"><a href=\"http://www.chicagomag.com/Chicago-Magazine/November-2012/Best-Sandwiches-in-Chicago-La-Pane-Vegetarian-Panino/\"><b>Vegetarian Panino</b><br/>\nLa Pane<br/>\n<em>Read more</em> </a></div>\n</div>, <div class=\"sammy\" style=\"position: relative;\">\n<div class=\"sammyRank\">25</div>\n<div class=\"sammyListing\"><a href=\"/Chicago-Magazine/November-2012/Best-Sandwiches-in-Chicago-Pastoral-Cali-Chevre/\"><b>Cali Chèvre</b><br/>\nPastoral<br/>\n<em>Read more</em> </a></div>\n</div>, <div class=\"sammy\" style=\"position: relative;\">\n<div class=\"sammyRank\">26</div>\n<div class=\"sammyListing\"><a href=\"http://www.chicagomag.com/Chicago-Magazine/November-2012/Best-Sandwiches-in-Chicago-Maxs-Deli-Pastrami/\"><b>Pastrami</b><br/>\nMax’s Deli<br/>\n<em>Read more</em> </a></div>\n</div>, <div class=\"sammy\" style=\"position: relative;\">\n<div class=\"sammyRank\">27</div>\n<div class=\"sammyListing\"><a href=\"http://www.chicagomag.com/Chicago-Magazine/November-2012/Best-Sandwiches-in-Chicago-Luckys-Sandwich-Co-The-Fredo/\"><b>The Fredo</b><br/>\nLucky’s Sandwich Co.<br/>\n<em>Read more</em> </a></div>\n</div>, <div class=\"sammy\" style=\"position: relative;\">\n<div class=\"sammyRank\">28</div>\n<div class=\"sammyListing\"><a href=\"http://www.chicagomag.com/Chicago-Magazine/November-2012/Best-Sandwiches-in-Chicago-City-Provisions-Smoked-Ham/\"><b>Smoked Ham</b><br/>\nCity Provisions<br/>\n<em>Read more</em> </a></div>\n</div>, <div class=\"sammy\" style=\"position: relative;\">\n<div class=\"sammyRank\">29</div>\n<div class=\"sammyListing\"><a href=\"http://www.chicagomag.com/Chicago-Magazine/November-2012/Best-Sandwiches-in-Chicago-Papas-Cache-Sabroso-Jibarito/\"><b>Jibarito</b><br/>\nPapa’s Cache Sabroso<br/>\n<em>Read more</em> </a></div>\n</div>, <div class=\"sammy\" style=\"position: relative;\">\n<div class=\"sammyRank\">30</div>\n<div class=\"sammyListing\"><a href=\"http://www.chicagomag.com/Chicago-Magazine/November-2012/Best-Sandwiches-in-Chicago-Bavettes-Bar-and-Boeuf-Shaved-Prime-Rib/\"><b>Shaved Prime Rib</b><br/>\nBavette’s Bar &amp; Boeuf<br/>\n<em>Read more</em> </a></div>\n</div>, <div class=\"sammy\" style=\"position: relative;\">\n<div class=\"sammyRank\">31</div>\n<div class=\"sammyListing\"><a href=\"http://www.chicagomag.com/Chicago-Magazine/November-2012/Best-Sandwiches-in-Chicago-Hannahs-Bretzel-Serrano-Ham-and-Manchego-Cheese/\"><b>Serrano Ham and Manchego Cheese</b><br/>\nHannah’s Bretzel<br/>\n<em>Read more</em> </a></div>\n</div>, <div class=\"sammy\" style=\"position: relative;\">\n<div class=\"sammyRank\">32</div>\n<div class=\"sammyListing\"><a href=\"http://www.chicagomag.com/Chicago-Magazine/November-2012/Best-Sandwiches-in-Chicago-La-Fournette-Tuna-Salad/\"><b>Tuna Salad</b><br/>\nLa Fournette<br/>\n<em>Read more</em> </a></div>\n</div>, <div class=\"sammy\" style=\"position: relative;\">\n<div class=\"sammyRank\">33</div>\n<div class=\"sammyListing\"><a href=\"http://www.chicagomag.com/Chicago-Magazine/November-2012/Best-Sandwiches-in-Chicago-Paramount-Room-Paramount-Reuben/\"><b>Paramount Reuben</b><br/>\nParamount Room<br/>\n<em>Read more</em> </a></div>\n</div>, <div class=\"sammy\" style=\"position: relative;\">\n<div class=\"sammyRank\">34</div>\n<div class=\"sammyListing\"><a href=\"http://www.chicagomag.com/Chicago-Magazine/November-2012/Best-Sandwiches-in-Chicago-Melt-Sandwich-Shoppe-The-Istanbul/\"><b>The Istanbul</b><br/>\nMelt Sandwich Shoppe<br/>\n<em>Read more</em> </a></div>\n</div>, <div class=\"sammy\" style=\"position: relative;\">\n<div class=\"sammyRank\">35</div>\n<div class=\"sammyListing\"><a href=\"http://www.chicagomag.com/Chicago-Magazine/November-2012/Best-Sandwiches-in-Chicago-Floriole-Cafe-and-Bakery-BAD/\"><b>B.A.D.</b><br/>\nFloriole Cafe &amp; Bakery<br/>\n<em>Read more</em> </a></div>\n</div>, <div class=\"sammy\" style=\"position: relative;\">\n<div class=\"sammyRank\">36</div>\n<div class=\"sammyListing\"><a href=\"http://www.chicagomag.com/Chicago-Magazine/November-2012/Best-Sandwiches-in-Chicago-First-Slice-Pie-Cafe-Duck-Confit-and-Mozzarella/\"><b>Duck Confit and Mozzarella</b><br/>\nFirst Slice Pie Café<br/>\n<em>Read more</em> </a></div>\n</div>, <div class=\"sammy\" style=\"position: relative;\">\n<div class=\"sammyRank\">37</div>\n<div class=\"sammyListing\"><a href=\"http://www.chicagomag.com/Chicago-Magazine/November-2012/Best-Sandwiches-in-Chicago-Troquet-Croque-Monsieur/\"><b>Croque Monsieur</b><br/>\nTroquet<br/>\n<em>Read more</em> </a></div>\n</div>, <div class=\"sammy\" style=\"position: relative;\">\n<div class=\"sammyRank\">38</div>\n<div class=\"sammyListing\"><a href=\"http://www.chicagomag.com/Chicago-Magazine/November-2012/Best-Sandwiches-in-Chicago-Grahamwich-Green-Garbanzo/\"><b>Green Garbanzo</b><br/>\nGrahamwich<br/>\n<em>Read more</em> </a></div>\n</div>, <div class=\"sammy\" style=\"position: relative;\">\n<div class=\"sammyRank\">39</div>\n<div class=\"sammyListing\"><a href=\"http://www.chicagomag.com/Chicago-Magazine/November-2012/Best-Sandwiches-in-Chicago-Saigon-Sisters-The-Hen-House/\"><b>The Hen House</b><br/>\nSaigon Sisters<br/>\n<em>Read more</em> </a></div>\n</div>, <div class=\"sammy\" style=\"position: relative;\">\n<div class=\"sammyRank\">40</div>\n<div class=\"sammyListing\"><a href=\"http://www.chicagomag.com/Chicago-Magazine/November-2012/Best-Sandwiches-in-Chicago-Rosalias-Deli-Tuscan-Chicken/\"><b>Tuscan Chicken</b><br/>\nRosalia’s Deli<br/>\n<em>Read more</em> </a></div>\n</div>, <div class=\"sammy\" style=\"position: relative;\">\n<div class=\"sammyRank\">41</div>\n<div class=\"sammyListing\"><a href=\"http://www.chicagomag.com/Chicago-Magazine/November-2012/Best-Sandwiches-in-Chicago-Z-and-H-MarketCafe-The-Marty/\"><b>The Marty </b><br/>\nZ&amp;H MarketCafe<br/>\n<em>Read more</em> </a></div>\n</div>, <div class=\"sammy\" style=\"position: relative;\">\n<div class=\"sammyRank\">42</div>\n<div class=\"sammyListing\"><a href=\"http://www.chicagomag.com/Chicago-Magazine/November-2012/Best-Sandwiches-in-Chicago-Market-House-on-the-Square-Whitefish/\"><b>Whitefish</b><br/>\nMarket House on the Square<br/>\n<em>Read more</em> </a></div>\n</div>, <div class=\"sammy\" style=\"position: relative;\">\n<div class=\"sammyRank\">43</div>\n<div class=\"sammyListing\"><a href=\"http://www.chicagomag.com/Chicago-Magazine/November-2012/Best-Sandwiches-in-Chicago-Elaines-Coffee-Call-Oat-Bread-Pecan-Butter-and-Fruit-Jam/\"><b>Oat Bread, Pecan Butter, and Fruit Jam</b><br/>\nElaine’s Coffee Call<br/>\n<em>Read more</em> </a></div>\n</div>, <div class=\"sammy\" style=\"position: relative;\">\n<div class=\"sammyRank\">44</div>\n<div class=\"sammyListing\"><a href=\"http://www.chicagomag.com/Chicago-Magazine/November-2012/Best-Sandwiches-in-Chicago-Marion-Street-Cheese-Market-Cauliflower-Melt/\"><b>Cauliflower Melt</b><br/>\nMarion Street Cheese Market<br/>\n<em>Read more</em> </a></div>\n</div>, <div class=\"sammy\" style=\"position: relative;\">\n<div class=\"sammyRank\">45</div>\n<div class=\"sammyListing\"><a href=\"http://www.chicagomag.com/Chicago-Magazine/November-2012/Best-Sandwiches-in-Chicago-Cafecito-Cubano/\"><b>Cubana</b><br/>\nCafecito<br/>\n<em>Read more</em> </a></div>\n</div>, <div class=\"sammy\" style=\"position: relative;\">\n<div class=\"sammyRank\">46</div>\n<div class=\"sammyListing\"><a href=\"http://www.chicagomag.com/Chicago-Magazine/November-2012/Best-Sandwiches-in-Chicago-Chickpea-Kufta/\"><b>Kufta</b><br/>\nChickpea<br/>\n<em>Read more</em> </a></div>\n</div>, <div class=\"sammy\" style=\"position: relative;\">\n<div class=\"sammyRank\">47</div>\n<div class=\"sammyListing\"><a href=\"http://www.chicagomag.com/Chicago-Magazine/November-2012/Best-Sandwiches-in-Chicago-The-Goddess-and-Grocer-Debbies-Egg-Salad/\"><b>Debbie’s Egg Salad</b><br/>\nThe Goddess and Grocer<br/>\n<em>Read more</em> </a></div>\n</div>, <div class=\"sammy\" style=\"position: relative;\">\n<div class=\"sammyRank\">48</div>\n<div class=\"sammyListing\"><a href=\"http://www.chicagomag.com/Chicago-Magazine/November-2012/Best-Sandwiches-in-Chicago-Zenwich-Beef-Curry/\"><b>Beef Curry</b><br/>\nZenwich<br/>\n<em>Read more</em> </a></div>\n</div>, <div class=\"sammy\" style=\"position: relative;\">\n<div class=\"sammyRank\">49</div>\n<div class=\"sammyListing\"><a href=\"http://www.chicagomag.com/Chicago-Magazine/November-2012/Best-Sandwiches-in-Chicago-Toni-Patisserie-Le-Vegetarien/\"><b>Le Végétarien</b><br/>\nToni Patisserie<br/>\n<em>Read more</em> </a></div>\n</div>, <div class=\"sammy\" style=\"position: relative; border-bottom: 0\">\n<div class=\"sammyRank\">50</div>\n<div class=\"sammyListing\"><a href=\"http://www.chicagomag.com/Chicago-Magazine/November-2012/Best-Sandwiches-in-Chicago-Phoebes-Bakery-The-Gatsby/\"><b>The Gatsby</b><br/>\nPhoebe’s Bakery<br/>\n<em>Read more</em> </a></div>\n</div>]\n"
     ]
    }
   ],
   "source": [
    "print(soup.find_all('div', 'sammy'))"
   ]
  },
  {
   "cell_type": "code",
   "execution_count": 8,
   "metadata": {},
   "outputs": [
    {
     "output_type": "execute_result",
     "data": {
      "text/plain": [
       "50"
      ]
     },
     "metadata": {},
     "execution_count": 8
    }
   ],
   "source": [
    "len(soup.find_all('div', 'sammy'))"
   ]
  },
  {
   "cell_type": "code",
   "execution_count": 9,
   "metadata": {},
   "outputs": [
    {
     "output_type": "stream",
     "name": "stdout",
     "text": [
      "<div class=\"sammy\" style=\"position: relative;\">\n<div class=\"sammyRank\">1</div>\n<div class=\"sammyListing\"><a href=\"/Chicago-Magazine/November-2012/Best-Sandwiches-in-Chicago-Old-Oak-Tap-BLT/\"><b>BLT</b><br>\nOld Oak Tap<br>\n<em>Read more</em> </br></br></a></div>\n</div>\n"
     ]
    }
   ],
   "source": [
    "print(soup.find_all('div', 'sammy')[0])"
   ]
  },
  {
   "cell_type": "code",
   "execution_count": 10,
   "metadata": {},
   "outputs": [
    {
     "output_type": "execute_result",
     "data": {
      "text/plain": [
       "bs4.element.Tag"
      ]
     },
     "metadata": {},
     "execution_count": 10
    }
   ],
   "source": [
    "tmp_one = soup.find_all('div', 'sammy')[0]\n",
    "type(tmp_one)\n",
    "# bs4.element.Tag는 그 변수에 다시 태그로 찾는 (find, find_all) 명령을 사용할 수 있다."
   ]
  },
  {
   "cell_type": "code",
   "execution_count": 11,
   "metadata": {},
   "outputs": [
    {
     "output_type": "execute_result",
     "data": {
      "text/plain": [
       "<div class=\"sammyRank\">1</div>"
      ]
     },
     "metadata": {},
     "execution_count": 11
    }
   ],
   "source": [
    "tmp_one.find(class_='sammyRank')"
   ]
  },
  {
   "cell_type": "code",
   "execution_count": 12,
   "metadata": {},
   "outputs": [
    {
     "output_type": "execute_result",
     "data": {
      "text/plain": [
       "'1'"
      ]
     },
     "metadata": {},
     "execution_count": 12
    }
   ],
   "source": [
    "tmp_one.find(class_='sammyRank').get_text()"
   ]
  },
  {
   "cell_type": "code",
   "execution_count": 13,
   "metadata": {},
   "outputs": [
    {
     "output_type": "execute_result",
     "data": {
      "text/plain": [
       "'BLT\\r\\nOld Oak Tap\\nRead more '"
      ]
     },
     "metadata": {},
     "execution_count": 13
    }
   ],
   "source": [
    "tmp_one.find(class_='sammyListing').get_text()"
   ]
  },
  {
   "cell_type": "code",
   "execution_count": 14,
   "metadata": {},
   "outputs": [
    {
     "output_type": "execute_result",
     "data": {
      "text/plain": [
       "'/Chicago-Magazine/November-2012/Best-Sandwiches-in-Chicago-Old-Oak-Tap-BLT/'"
      ]
     },
     "metadata": {},
     "execution_count": 14
    }
   ],
   "source": [
    "tmp_one.find('a')['href']"
   ]
  },
  {
   "cell_type": "code",
   "execution_count": 15,
   "metadata": {},
   "outputs": [],
   "source": [
    "import re"
   ]
  },
  {
   "cell_type": "code",
   "execution_count": 16,
   "metadata": {},
   "outputs": [
    {
     "output_type": "stream",
     "name": "stdout",
     "text": [
      "BLT\nOld Oak Tap\n"
     ]
    }
   ],
   "source": [
    "tmp_string = tmp_one.find(class_='sammyListing').get_text()\n",
    "\n",
    "re.split(('\\n|\\r\\n'), tmp_string)\n",
    "\n",
    "print(re.split(('\\n|\\r\\n'), tmp_string)[0])\n",
    "print(re.split(('\\n|\\r\\n'), tmp_string)[1])"
   ]
  },
  {
   "cell_type": "code",
   "execution_count": 17,
   "metadata": {},
   "outputs": [],
   "source": [
    "cafe_name = []; rank = []; url_add = []; main_menu = []\n",
    "\n",
    "list_soup = soup.find_all('div', 'sammy')\n",
    "for item in list_soup:\n",
    "    \n",
    "    tmp_string = item.find(class_='sammyListing').get_text()\n",
    "\n",
    "    rank.append(int(item.find(class_='sammyRank').get_text()))\n",
    "    main_menu.append(re.split(('\\n|\\r\\n'), tmp_string)[0])\n",
    "    cafe_name.append(re.split(('\\n|\\r\\n'), tmp_string)[1])\n",
    "\n",
    "    url_add.append(urljoin(url_base, item.find('a')['href']))\n",
    "    # urljoin은 Full-path와 partial-path를 하나로 통일해준다."
   ]
  },
  {
   "cell_type": "code",
   "execution_count": 18,
   "metadata": {},
   "outputs": [
    {
     "output_type": "execute_result",
     "data": {
      "text/plain": [
       "   Rank                    Cafe               Menu  \\\n",
       "0     1             Old Oak Tap                BLT   \n",
       "1     2               Au Cheval      Fried Bologna   \n",
       "2     3                    Xoco  Woodland Mushroom   \n",
       "3     4               Al’s Deli         Roast Beef   \n",
       "4     5  Publican Quality Meats               PB&L   \n",
       "\n",
       "                                                 URL  \n",
       "0  https://www.chicagomag.com/Chicago-Magazine/No...  \n",
       "1  https://www.chicagomag.com/Chicago-Magazine/No...  \n",
       "2  https://www.chicagomag.com/Chicago-Magazine/No...  \n",
       "3  https://www.chicagomag.com/Chicago-Magazine/No...  \n",
       "4  https://www.chicagomag.com/Chicago-Magazine/No...  "
      ],
      "text/html": "<div>\n<style scoped>\n    .dataframe tbody tr th:only-of-type {\n        vertical-align: middle;\n    }\n\n    .dataframe tbody tr th {\n        vertical-align: top;\n    }\n\n    .dataframe thead th {\n        text-align: right;\n    }\n</style>\n<table border=\"1\" class=\"dataframe\">\n  <thead>\n    <tr style=\"text-align: right;\">\n      <th></th>\n      <th>Rank</th>\n      <th>Cafe</th>\n      <th>Menu</th>\n      <th>URL</th>\n    </tr>\n  </thead>\n  <tbody>\n    <tr>\n      <th>0</th>\n      <td>1</td>\n      <td>Old Oak Tap</td>\n      <td>BLT</td>\n      <td>https://www.chicagomag.com/Chicago-Magazine/No...</td>\n    </tr>\n    <tr>\n      <th>1</th>\n      <td>2</td>\n      <td>Au Cheval</td>\n      <td>Fried Bologna</td>\n      <td>https://www.chicagomag.com/Chicago-Magazine/No...</td>\n    </tr>\n    <tr>\n      <th>2</th>\n      <td>3</td>\n      <td>Xoco</td>\n      <td>Woodland Mushroom</td>\n      <td>https://www.chicagomag.com/Chicago-Magazine/No...</td>\n    </tr>\n    <tr>\n      <th>3</th>\n      <td>4</td>\n      <td>Al’s Deli</td>\n      <td>Roast Beef</td>\n      <td>https://www.chicagomag.com/Chicago-Magazine/No...</td>\n    </tr>\n    <tr>\n      <th>4</th>\n      <td>5</td>\n      <td>Publican Quality Meats</td>\n      <td>PB&amp;L</td>\n      <td>https://www.chicagomag.com/Chicago-Magazine/No...</td>\n    </tr>\n  </tbody>\n</table>\n</div>"
     },
     "metadata": {},
     "execution_count": 18
    }
   ],
   "source": [
    "import pandas as pd\n",
    "\n",
    "cafe = pd.DataFrame({\n",
    "    'Rank': rank,\n",
    "    'Cafe': cafe_name,\n",
    "    'Menu': main_menu,\n",
    "    'URL': url_add\n",
    "})\n",
    "cafe.head()"
   ]
  },
  {
   "cell_type": "code",
   "execution_count": 19,
   "metadata": {},
   "outputs": [],
   "source": [
    "cafe.to_csv('chicago.csv', sep=',', encoding='utf-8')"
   ]
  },
  {
   "cell_type": "code",
   "execution_count": 20,
   "metadata": {},
   "outputs": [
    {
     "output_type": "execute_result",
     "data": {
      "text/plain": [
       "(50, 50, 50, 50)"
      ]
     },
     "metadata": {},
     "execution_count": 20
    }
   ],
   "source": [
    "len(rank), len(cafe_name), len(main_menu), len(url_add)"
   ]
  },
  {
   "source": [
    "### 다수의 웹 페이지에 자동으로 접근해서 원하는 정보 가져오기"
   ],
   "cell_type": "markdown",
   "metadata": {}
  },
  {
   "cell_type": "code",
   "execution_count": 21,
   "metadata": {},
   "outputs": [],
   "source": [
    "html = urlopen(cafe['URL'][0])\n",
    "soup_tmp = BeautifulSoup(html, 'html.parser')"
   ]
  },
  {
   "cell_type": "code",
   "execution_count": 22,
   "metadata": {},
   "outputs": [
    {
     "output_type": "execute_result",
     "data": {
      "text/plain": [
       "<p class=\"addy\">\n",
       "<em>$10. 2109 W. Chicago Ave., 773-772-0406, <a href=\"http://www.theoldoaktap.com/\">theoldoaktap.com</a></em></p>"
      ]
     },
     "metadata": {},
     "execution_count": 22
    }
   ],
   "source": [
    "soup_tmp.select_one('.addy')"
   ]
  },
  {
   "cell_type": "code",
   "execution_count": 23,
   "metadata": {},
   "outputs": [
    {
     "output_type": "execute_result",
     "data": {
      "text/plain": [
       "3"
      ]
     },
     "metadata": {},
     "execution_count": 23
    }
   ],
   "source": [
    "tmp = soup_tmp.select_one('.addy').get_text().split(',')\n",
    "len(tmp)\n",
    "# .sting()은 중간에 태그가 있는경우 나오지 않는다. 주의하기!!\n",
    "# 3은 홈페이지가 있고, 2는 홈페이지가 없다."
   ]
  },
  {
   "cell_type": "code",
   "execution_count": 24,
   "metadata": {},
   "outputs": [
    {
     "output_type": "execute_result",
     "data": {
      "text/plain": [
       "'\\n$10. 2109 W. Chicago Ave.'"
      ]
     },
     "metadata": {},
     "execution_count": 24
    }
   ],
   "source": [
    "tmp[0]"
   ]
  },
  {
   "cell_type": "code",
   "execution_count": 25,
   "metadata": {},
   "outputs": [
    {
     "output_type": "execute_result",
     "data": {
      "text/plain": [
       "'$10'"
      ]
     },
     "metadata": {},
     "execution_count": 25
    }
   ],
   "source": [
    "price = tmp[0].split()[0][:-1]\n",
    "price"
   ]
  },
  {
   "cell_type": "code",
   "execution_count": 26,
   "metadata": {},
   "outputs": [
    {
     "output_type": "execute_result",
     "data": {
      "text/plain": [
       "'773-772-0406'"
      ]
     },
     "metadata": {},
     "execution_count": 26
    }
   ],
   "source": [
    "tmp[1].strip()"
   ]
  },
  {
   "cell_type": "code",
   "execution_count": 27,
   "metadata": {},
   "outputs": [
    {
     "output_type": "execute_result",
     "data": {
      "text/plain": [
       "'2109 W. Chicago Ave.'"
      ]
     },
     "metadata": {},
     "execution_count": 27
    }
   ],
   "source": [
    "addr = ' '.join(tmp[0].split()[1:])\n",
    "addr"
   ]
  },
  {
   "cell_type": "code",
   "execution_count": 28,
   "metadata": {},
   "outputs": [
    {
     "output_type": "execute_result",
     "data": {
      "text/plain": [
       "('\\n$10. 2109 W. Chicago Ave.', ' theoldoaktap.com', ' 773-772-040')"
      ]
     },
     "metadata": {},
     "execution_count": 28
    }
   ],
   "source": [
    "tmp[0], tmp[-1], tmp[-2][:-1]"
   ]
  },
  {
   "cell_type": "code",
   "execution_count": 29,
   "metadata": {},
   "outputs": [
    {
     "output_type": "execute_result",
     "data": {
      "text/plain": [
       "'$10'"
      ]
     },
     "metadata": {},
     "execution_count": 29
    }
   ],
   "source": [
    "price = tmp[0].split()[0][:-1]\n",
    "price"
   ]
  },
  {
   "cell_type": "code",
   "execution_count": 30,
   "metadata": {},
   "outputs": [],
   "source": [
    "from tqdm import tqdm_notebook"
   ]
  },
  {
   "cell_type": "code",
   "execution_count": 34,
   "metadata": {},
   "outputs": [
    {
     "output_type": "execute_result",
     "data": {
      "text/plain": [
       "<div class=\"sammy\" style=\"position: relative;\">\n",
       "<div class=\"sammyRank\">1</div>\n",
       "<div class=\"sammyListing\"><a href=\"/Chicago-Magazine/November-2012/Best-Sandwiches-in-Chicago-Old-Oak-Tap-BLT/\"><b>BLT</b><br>\n",
       "Old Oak Tap<br>\n",
       "<em>Read more</em> </br></br></a></div>\n",
       "</div>"
      ]
     },
     "metadata": {},
     "execution_count": 34
    }
   ],
   "source": [
    "rest_list = soup.select('.sammy')\n",
    "rest_list[0]"
   ]
  },
  {
   "cell_type": "code",
   "execution_count": 35,
   "metadata": {},
   "outputs": [
    {
     "output_type": "display_data",
     "data": {
      "text/plain": "HBox(children=(FloatProgress(value=0.0, max=50.0), HTML(value='')))",
      "application/vnd.jupyter.widget-view+json": {
       "version_major": 2,
       "version_minor": 0,
       "model_id": "1c7204adb8124a47a3d3b5878301b1c7"
      }
     },
     "metadata": {}
    },
    {
     "output_type": "stream",
     "name": "stdout",
     "text": [
      "\n"
     ]
    }
   ],
   "source": [
    "rank_list = []; url_list = []; menu_list = []; cafe_list = []\n",
    "price_list = []; addr_list = []; tel_list = []; hp_list = []\n",
    "for rest in tqdm_notebook(rest_list):\n",
    "    rank = int(rest.select_one('.sammyRank').string)\n",
    "    url = urljoin(url_base, rest.find('a')['href'])\n",
    "    tmp = rest.find('a').get_text().split('\\n')\n",
    "    menu = tmp[0].replace('\\r', '')\n",
    "    cafe = tmp[1]\n",
    "    rank_list.append(rank)\n",
    "    url_list.append(url)\n",
    "    menu_list.append(menu)\n",
    "    cafe_list.append(cafe)\n",
    "\n",
    "    html = urlopen(url)\n",
    "    soup_tmp = BeautifulSoup(html, 'html.parser')\n",
    "    tmp = soup_tmp.select_one('.addy').get_text().split(',')\n",
    "    price = tmp[0].split()[0][:-1]\n",
    "    price_list.append(price)\n",
    "    addr = ' '.join(tmp[0].split()[1:])\n",
    "    if len(tmp) == 1:\n",
    "        addr_list.append(addr)\n",
    "        tel_list.append(' ')\n",
    "        hp_list.append(' ')\n",
    "    elif len(tmp) == 2:\n",
    "        if addr.find('Multiple') >= 0:\n",
    "            addr_list.append(' ')\n",
    "            tel_list.append(' ')\n",
    "            hp_list.append(tmp[1])\n",
    "        else:\n",
    "            addr_list.append(addr)\n",
    "            tel_list.append(tmp[1].strip())\n",
    "            hp_list.append(' ')\n",
    "    elif len(tmp) == 3:\n",
    "        addr_list.append(addr)\n",
    "        tel_list.append(tmp[1].strip())\n",
    "        hp_list.append(tmp[2])\n",
    "    elif len(tmp) == 4:\n",
    "        addr += ', ' + tmp[1]\n",
    "        addr_list.append(addr)\n",
    "        tel_list.append(tmp[2].strip())\n",
    "        hp_list.append(tmp[3])"
   ]
  },
  {
   "cell_type": "code",
   "execution_count": 44,
   "metadata": {},
   "outputs": [
    {
     "output_type": "error",
     "ename": "SyntaxError",
     "evalue": "invalid syntax (<ipython-input-44-90405a873976>, line 11)",
     "traceback": [
      "\u001b[1;36m  File \u001b[1;32m\"<ipython-input-44-90405a873976>\"\u001b[1;36m, line \u001b[1;32m11\u001b[0m\n\u001b[1;33m    (.tail()\u001b[0m\n\u001b[1;37m     ^\u001b[0m\n\u001b[1;31mSyntaxError\u001b[0m\u001b[1;31m:\u001b[0m invalid syntax\n"
     ]
    }
   ],
   "source": [
    "df2 = pd.DataFrame({\n",
    "    'Rank': rank_list,\n",
    "    'Cafe': cafe_list,\n",
    "    'Menu': menu_list,\n",
    "    'Price': price_list,\n",
    "    'Address': addr_list,\n",
    "    'Telephone': tel_list,\n",
    "    'Home Page': hp_list\n",
    "})\n",
    "df2.head()"
   ]
  },
  {
   "cell_type": "code",
   "execution_count": 37,
   "metadata": {},
   "outputs": [],
   "source": [
    "df2.to_csv('chicago2.csv', sep=',', encoding='utf-8')"
   ]
  },
  {
   "cell_type": "code",
   "execution_count": 46,
   "metadata": {},
   "outputs": [
    {
     "output_type": "execute_result",
     "data": {
      "text/plain": [
       "    Rank                             Cafe  \\\n",
       "0      1                      Old Oak Tap   \n",
       "1      2                        Au Cheval   \n",
       "2      3                             Xoco   \n",
       "3      4                        Al’s Deli   \n",
       "4      5           Publican Quality Meats   \n",
       "5      6  Hendrickx Belgian Bread Crafter   \n",
       "6      7                           Acadia   \n",
       "7      8                Birchwood Kitchen   \n",
       "8      9                   Cemitas Puebla   \n",
       "9     10                             Nana   \n",
       "10    11                        Lula Cafe   \n",
       "11    12                       Ricobene’s   \n",
       "12    13                     Frog n Snail   \n",
       "13    14                 Crosby’s Kitchen   \n",
       "14    15                  Longman & Eagle   \n",
       "15    16                             Bari   \n",
       "16    17                          Manny’s   \n",
       "17    18                           Eggy’s   \n",
       "18    19                    Old Jerusalem   \n",
       "19    20             Mindy’s HotChocolate   \n",
       "20    21              Olga’s Delicatessen   \n",
       "21    22     Dawali Mediterranean Kitchen   \n",
       "22    23                        Big Jones   \n",
       "23    24                          La Pane   \n",
       "24    25                         Pastoral   \n",
       "25    26                       Max’s Deli   \n",
       "26    27             Lucky’s Sandwich Co.   \n",
       "27    28                  City Provisions   \n",
       "28    29             Papa’s Cache Sabroso   \n",
       "29    30            Bavette’s Bar & Boeuf   \n",
       "30    31                 Hannah’s Bretzel   \n",
       "31    32                     La Fournette   \n",
       "32    33                   Paramount Room   \n",
       "33    34             Melt Sandwich Shoppe   \n",
       "34    35           Floriole Cafe & Bakery   \n",
       "35    36             First Slice Pie Café   \n",
       "36    37                          Troquet   \n",
       "37    38                       Grahamwich   \n",
       "38    39                   Saigon Sisters   \n",
       "39    40                   Rosalia’s Deli   \n",
       "40    41                   Z&H MarketCafe   \n",
       "41    42       Market House on the Square   \n",
       "42    43             Elaine’s Coffee Call   \n",
       "43    44      Marion Street Cheese Market   \n",
       "44    45                         Cafecito   \n",
       "45    46                         Chickpea   \n",
       "46    47           The Goddess and Grocer   \n",
       "47    48                          Zenwich   \n",
       "48    49                  Toni Patisserie   \n",
       "49    50                  Phoebe’s Bakery   \n",
       "\n",
       "                                              Menu   Price  \\\n",
       "0                                              BLT     $10   \n",
       "1                                    Fried Bologna      $9   \n",
       "2                                Woodland Mushroom   $9.50   \n",
       "3                                       Roast Beef   $9.40   \n",
       "4                                             PB&L     $10   \n",
       "5                      Belgian Chicken Curry Salad   $7.25   \n",
       "6                                     Lobster Roll     $16   \n",
       "7                              Smoked Salmon Salad     $10   \n",
       "8                                  Atomica Cemitas      $9   \n",
       "9   Grilled Laughing Bird Shrimp and Fried Po’ Boy     $17   \n",
       "10                         Ham and Raclette Panino     $11   \n",
       "11                                   Breaded Steak   $5.49   \n",
       "12                                     The Hawkeye     $14   \n",
       "13                                     Chicken Dip     $10   \n",
       "14                            Wild Boar Sloppy Joe     $13   \n",
       "15                                    Meatball Sub   $4.50   \n",
       "16                                     Corned Beef  $11.95   \n",
       "17                                     Turkey Club  $11.50   \n",
       "18                                         Falafel   $6.25   \n",
       "19                                       Crab Cake     $15   \n",
       "20                               Chicken Schnitzel      $5   \n",
       "21                                        Shawarma      $6   \n",
       "22                         Toasted Pimiento Cheese      $8   \n",
       "23                               Vegetarian Panino   $5.99   \n",
       "24                                     Cali Chèvre   $7.52   \n",
       "25                                        Pastrami  $11.95   \n",
       "26                                       The Fredo   $7.50   \n",
       "27                                      Smoked Ham  $12.95   \n",
       "28                                        Jibarito      $7   \n",
       "29                                Shaved Prime Rib     $21   \n",
       "30                 Serrano Ham and Manchego Cheese   $9.79   \n",
       "31                                      Tuna Salad   $9.75   \n",
       "32                                Paramount Reuben     $13   \n",
       "33                                    The Istanbul   $7.95   \n",
       "34                                          B.A.D.      $9   \n",
       "35                      Duck Confit and Mozzarella      $9   \n",
       "36                                 Croque Monsieur      $8   \n",
       "37                                  Green Garbanzo      $8   \n",
       "38                                   The Hen House      $7   \n",
       "39                                  Tuscan Chicken      $6   \n",
       "40                                      The Marty    $7.25   \n",
       "41                                       Whitefish     $11   \n",
       "42          Oat Bread, Pecan Butter, and Fruit Jam      $6   \n",
       "43                                Cauliflower Melt      $9   \n",
       "44                                          Cubana   $5.49   \n",
       "45                                           Kufta      $8   \n",
       "46                              Debbie’s Egg Salad   $6.50   \n",
       "47                                      Beef Curry   $7.50   \n",
       "48                                   Le Végétarien   $8.75   \n",
       "49                                      The Gatsby   $6.85   \n",
       "\n",
       "                                  Address     Telephone  \\\n",
       "0                    2109 W. Chicago Ave.  773-772-0406   \n",
       "1                     800 W. Randolph St.  312-929-4580   \n",
       "2                        445 N. Clark St.  312-334-3688   \n",
       "3                914 Noyes St.,  Evanston  847-475-9400   \n",
       "4                      825 W. Fulton Mkt.  312-445-8977   \n",
       "5                       100 E. Walton St.  312-649-6717   \n",
       "6                     1639 S. Wabash Ave.  312-360-9500   \n",
       "7                      2211 W. North Ave.  773-276-2100   \n",
       "8                      3619 W. North Ave.  773-772-8435   \n",
       "9                     3267 S. Halsted St.  312-929-2486   \n",
       "10                   2537 N. Kedzie Blvd.  773-489-9554   \n",
       "11                                                        \n",
       "12                       3124 N. Broadway  773-661-9166   \n",
       "13                 3455 N. Southport Ave.  773-883-2525   \n",
       "14                    2657 N. Kedzie Ave.  773-276-7110   \n",
       "15                     1120 W. Grand Ave.  312-666-0730   \n",
       "16                  1141 S. Jefferson St.  312-939-2855   \n",
       "17                      333 E. Benton Pl.  773-234-3449   \n",
       "18                      1411 N. Wells St.  312-944-0459   \n",
       "19                     1747 N. Damen Ave.  773-489-1747   \n",
       "20                3209 W. Irving Park Rd.  773-539-8038   \n",
       "21                                                        \n",
       "22                      5347 N. Clark St.  773-275-5725   \n",
       "23                2954 W. Irving Park Rd.  773-539-5321   \n",
       "24                                                        \n",
       "25  191 Skokie Valley Rd.,  Highland Park  847-831-0600   \n",
       "26                                                        \n",
       "27                    1818 W. Wilson Ave.  773-293-2489   \n",
       "28                   2517 W. Division St.  773-862-8313   \n",
       "29                      218 W. Kinzie St.  312-624-8154   \n",
       "30                                                        \n",
       "31                      1547 N. Wells St.  312-624-9430   \n",
       "32                  415 N. Milwaukee Ave.  312-829-6300   \n",
       "33                     1840 N. Damen Ave.  773-681-9914   \n",
       "34                   1220 W. Webster Ave.  773-883-1313   \n",
       "35                   5357 N. Ashland Ave.  773-275-4297   \n",
       "36                  1834 W. Montrose Ave.  773-334-5664   \n",
       "37                       615 N. State St.  312-265-0434   \n",
       "38                                                        \n",
       "39             241 N. York Rd.,  Elmhurst  630-516-3354   \n",
       "40                       1323 E. 57th St.  773-538-7372   \n",
       "41          655 Forest Ave.,  Lake Forest  847-234-8800   \n",
       "42      Hotel Lincoln,  1816 N. Clark St.  312-254-4665   \n",
       "43           100 S. Marion St.,  Oak Park  708-725-7200   \n",
       "44                   26 E. Congress Pkwy.  312-922-2233   \n",
       "45                   2018 W. Chicago Ave.  773-384-9930   \n",
       "46                     25 E. Delaware Pl.  312-896-2600   \n",
       "47             416 N. York St.,  Elmhurst  630-359-5234   \n",
       "48                   65 E. Washington St.  312-726-2020   \n",
       "49                       3351 N. Broadway  773-868-4000   \n",
       "\n",
       "                                Home Page  \n",
       "0                        theoldoaktap.com  \n",
       "1                     aucheval.tumblr.com  \n",
       "2                         rickbayless.com  \n",
       "3                             alsdeli.net  \n",
       "4                publicanqualitymeats.com  \n",
       "5                                          \n",
       "6                       acadiachicago.com  \n",
       "7                    birchwoodkitchen.com  \n",
       "8                       cemitaspuebla.com  \n",
       "9                         nanaorganic.com  \n",
       "10                           lulacafe.com  \n",
       "11                     ricobenespizza.com  \n",
       "12                         frognsnail.com  \n",
       "13              crosbyskitchenchicago.com  \n",
       "14                    longmanandeagle.com  \n",
       "15                    bariitaliansubs.com  \n",
       "16                         mannysdeli.com  \n",
       "17                         eggysdiner.com  \n",
       "18                oldjerusalemchicago.com  \n",
       "19                hotchocolatechicago.com  \n",
       "20                                         \n",
       "21                      dawalikitchen.com  \n",
       "22                    bigjoneschicago.com  \n",
       "23                      lapanechicago.com  \n",
       "24                    pastoralartisan.com  \n",
       "25                          maxs-deli.com  \n",
       "26                      luckysandwich.com  \n",
       "27                     cityprovisions.com  \n",
       "28                  papascachesabroso.com  \n",
       "29                                         \n",
       "30                     hannahsbretzel.com  \n",
       "31                        lafournette.com  \n",
       "32                      paramountroom.com  \n",
       "33          meltsandwichshoppechicago.com  \n",
       "34                           floriole.com  \n",
       "35                         firstslice.org  \n",
       "36                     troquetchicago.com  \n",
       "37                         grahamwich.com  \n",
       "38                      saigonsisters.com  \n",
       "39                       rosaliasdeli.com  \n",
       "40                       zhmarketcafe.com  \n",
       "41                     themarkethouse.com  \n",
       "42   jdvhotels.com/hotels/chicago/lincoln  \n",
       "43           marionstreetcheesemarket.com  \n",
       "44                    cafecitochicago.com  \n",
       "45                    chickpeaonthego.com  \n",
       "46                   goddessandgrocer.com  \n",
       "47                       eatmyzenwich.com  \n",
       "48                     tonipatisserie.com  \n",
       "49                      phoebesbakery.com  "
      ],
      "text/html": "<div>\n<style scoped>\n    .dataframe tbody tr th:only-of-type {\n        vertical-align: middle;\n    }\n\n    .dataframe tbody tr th {\n        vertical-align: top;\n    }\n\n    .dataframe thead th {\n        text-align: right;\n    }\n</style>\n<table border=\"1\" class=\"dataframe\">\n  <thead>\n    <tr style=\"text-align: right;\">\n      <th></th>\n      <th>Rank</th>\n      <th>Cafe</th>\n      <th>Menu</th>\n      <th>Price</th>\n      <th>Address</th>\n      <th>Telephone</th>\n      <th>Home Page</th>\n    </tr>\n  </thead>\n  <tbody>\n    <tr>\n      <th>0</th>\n      <td>1</td>\n      <td>Old Oak Tap</td>\n      <td>BLT</td>\n      <td>$10</td>\n      <td>2109 W. Chicago Ave.</td>\n      <td>773-772-0406</td>\n      <td>theoldoaktap.com</td>\n    </tr>\n    <tr>\n      <th>1</th>\n      <td>2</td>\n      <td>Au Cheval</td>\n      <td>Fried Bologna</td>\n      <td>$9</td>\n      <td>800 W. Randolph St.</td>\n      <td>312-929-4580</td>\n      <td>aucheval.tumblr.com</td>\n    </tr>\n    <tr>\n      <th>2</th>\n      <td>3</td>\n      <td>Xoco</td>\n      <td>Woodland Mushroom</td>\n      <td>$9.50</td>\n      <td>445 N. Clark St.</td>\n      <td>312-334-3688</td>\n      <td>rickbayless.com</td>\n    </tr>\n    <tr>\n      <th>3</th>\n      <td>4</td>\n      <td>Al’s Deli</td>\n      <td>Roast Beef</td>\n      <td>$9.40</td>\n      <td>914 Noyes St.,  Evanston</td>\n      <td>847-475-9400</td>\n      <td>alsdeli.net</td>\n    </tr>\n    <tr>\n      <th>4</th>\n      <td>5</td>\n      <td>Publican Quality Meats</td>\n      <td>PB&amp;L</td>\n      <td>$10</td>\n      <td>825 W. Fulton Mkt.</td>\n      <td>312-445-8977</td>\n      <td>publicanqualitymeats.com</td>\n    </tr>\n    <tr>\n      <th>5</th>\n      <td>6</td>\n      <td>Hendrickx Belgian Bread Crafter</td>\n      <td>Belgian Chicken Curry Salad</td>\n      <td>$7.25</td>\n      <td>100 E. Walton St.</td>\n      <td>312-649-6717</td>\n      <td></td>\n    </tr>\n    <tr>\n      <th>6</th>\n      <td>7</td>\n      <td>Acadia</td>\n      <td>Lobster Roll</td>\n      <td>$16</td>\n      <td>1639 S. Wabash Ave.</td>\n      <td>312-360-9500</td>\n      <td>acadiachicago.com</td>\n    </tr>\n    <tr>\n      <th>7</th>\n      <td>8</td>\n      <td>Birchwood Kitchen</td>\n      <td>Smoked Salmon Salad</td>\n      <td>$10</td>\n      <td>2211 W. North Ave.</td>\n      <td>773-276-2100</td>\n      <td>birchwoodkitchen.com</td>\n    </tr>\n    <tr>\n      <th>8</th>\n      <td>9</td>\n      <td>Cemitas Puebla</td>\n      <td>Atomica Cemitas</td>\n      <td>$9</td>\n      <td>3619 W. North Ave.</td>\n      <td>773-772-8435</td>\n      <td>cemitaspuebla.com</td>\n    </tr>\n    <tr>\n      <th>9</th>\n      <td>10</td>\n      <td>Nana</td>\n      <td>Grilled Laughing Bird Shrimp and Fried Po’ Boy</td>\n      <td>$17</td>\n      <td>3267 S. Halsted St.</td>\n      <td>312-929-2486</td>\n      <td>nanaorganic.com</td>\n    </tr>\n    <tr>\n      <th>10</th>\n      <td>11</td>\n      <td>Lula Cafe</td>\n      <td>Ham and Raclette Panino</td>\n      <td>$11</td>\n      <td>2537 N. Kedzie Blvd.</td>\n      <td>773-489-9554</td>\n      <td>lulacafe.com</td>\n    </tr>\n    <tr>\n      <th>11</th>\n      <td>12</td>\n      <td>Ricobene’s</td>\n      <td>Breaded Steak</td>\n      <td>$5.49</td>\n      <td></td>\n      <td></td>\n      <td>ricobenespizza.com</td>\n    </tr>\n    <tr>\n      <th>12</th>\n      <td>13</td>\n      <td>Frog n Snail</td>\n      <td>The Hawkeye</td>\n      <td>$14</td>\n      <td>3124 N. Broadway</td>\n      <td>773-661-9166</td>\n      <td>frognsnail.com</td>\n    </tr>\n    <tr>\n      <th>13</th>\n      <td>14</td>\n      <td>Crosby’s Kitchen</td>\n      <td>Chicken Dip</td>\n      <td>$10</td>\n      <td>3455 N. Southport Ave.</td>\n      <td>773-883-2525</td>\n      <td>crosbyskitchenchicago.com</td>\n    </tr>\n    <tr>\n      <th>14</th>\n      <td>15</td>\n      <td>Longman &amp; Eagle</td>\n      <td>Wild Boar Sloppy Joe</td>\n      <td>$13</td>\n      <td>2657 N. Kedzie Ave.</td>\n      <td>773-276-7110</td>\n      <td>longmanandeagle.com</td>\n    </tr>\n    <tr>\n      <th>15</th>\n      <td>16</td>\n      <td>Bari</td>\n      <td>Meatball Sub</td>\n      <td>$4.50</td>\n      <td>1120 W. Grand Ave.</td>\n      <td>312-666-0730</td>\n      <td>bariitaliansubs.com</td>\n    </tr>\n    <tr>\n      <th>16</th>\n      <td>17</td>\n      <td>Manny’s</td>\n      <td>Corned Beef</td>\n      <td>$11.95</td>\n      <td>1141 S. Jefferson St.</td>\n      <td>312-939-2855</td>\n      <td>mannysdeli.com</td>\n    </tr>\n    <tr>\n      <th>17</th>\n      <td>18</td>\n      <td>Eggy’s</td>\n      <td>Turkey Club</td>\n      <td>$11.50</td>\n      <td>333 E. Benton Pl.</td>\n      <td>773-234-3449</td>\n      <td>eggysdiner.com</td>\n    </tr>\n    <tr>\n      <th>18</th>\n      <td>19</td>\n      <td>Old Jerusalem</td>\n      <td>Falafel</td>\n      <td>$6.25</td>\n      <td>1411 N. Wells St.</td>\n      <td>312-944-0459</td>\n      <td>oldjerusalemchicago.com</td>\n    </tr>\n    <tr>\n      <th>19</th>\n      <td>20</td>\n      <td>Mindy’s HotChocolate</td>\n      <td>Crab Cake</td>\n      <td>$15</td>\n      <td>1747 N. Damen Ave.</td>\n      <td>773-489-1747</td>\n      <td>hotchocolatechicago.com</td>\n    </tr>\n    <tr>\n      <th>20</th>\n      <td>21</td>\n      <td>Olga’s Delicatessen</td>\n      <td>Chicken Schnitzel</td>\n      <td>$5</td>\n      <td>3209 W. Irving Park Rd.</td>\n      <td>773-539-8038</td>\n      <td></td>\n    </tr>\n    <tr>\n      <th>21</th>\n      <td>22</td>\n      <td>Dawali Mediterranean Kitchen</td>\n      <td>Shawarma</td>\n      <td>$6</td>\n      <td></td>\n      <td></td>\n      <td>dawalikitchen.com</td>\n    </tr>\n    <tr>\n      <th>22</th>\n      <td>23</td>\n      <td>Big Jones</td>\n      <td>Toasted Pimiento Cheese</td>\n      <td>$8</td>\n      <td>5347 N. Clark St.</td>\n      <td>773-275-5725</td>\n      <td>bigjoneschicago.com</td>\n    </tr>\n    <tr>\n      <th>23</th>\n      <td>24</td>\n      <td>La Pane</td>\n      <td>Vegetarian Panino</td>\n      <td>$5.99</td>\n      <td>2954 W. Irving Park Rd.</td>\n      <td>773-539-5321</td>\n      <td>lapanechicago.com</td>\n    </tr>\n    <tr>\n      <th>24</th>\n      <td>25</td>\n      <td>Pastoral</td>\n      <td>Cali Chèvre</td>\n      <td>$7.52</td>\n      <td></td>\n      <td></td>\n      <td>pastoralartisan.com</td>\n    </tr>\n    <tr>\n      <th>25</th>\n      <td>26</td>\n      <td>Max’s Deli</td>\n      <td>Pastrami</td>\n      <td>$11.95</td>\n      <td>191 Skokie Valley Rd.,  Highland Park</td>\n      <td>847-831-0600</td>\n      <td>maxs-deli.com</td>\n    </tr>\n    <tr>\n      <th>26</th>\n      <td>27</td>\n      <td>Lucky’s Sandwich Co.</td>\n      <td>The Fredo</td>\n      <td>$7.50</td>\n      <td></td>\n      <td></td>\n      <td>luckysandwich.com</td>\n    </tr>\n    <tr>\n      <th>27</th>\n      <td>28</td>\n      <td>City Provisions</td>\n      <td>Smoked Ham</td>\n      <td>$12.95</td>\n      <td>1818 W. Wilson Ave.</td>\n      <td>773-293-2489</td>\n      <td>cityprovisions.com</td>\n    </tr>\n    <tr>\n      <th>28</th>\n      <td>29</td>\n      <td>Papa’s Cache Sabroso</td>\n      <td>Jibarito</td>\n      <td>$7</td>\n      <td>2517 W. Division St.</td>\n      <td>773-862-8313</td>\n      <td>papascachesabroso.com</td>\n    </tr>\n    <tr>\n      <th>29</th>\n      <td>30</td>\n      <td>Bavette’s Bar &amp; Boeuf</td>\n      <td>Shaved Prime Rib</td>\n      <td>$21</td>\n      <td>218 W. Kinzie St.</td>\n      <td>312-624-8154</td>\n      <td></td>\n    </tr>\n    <tr>\n      <th>30</th>\n      <td>31</td>\n      <td>Hannah’s Bretzel</td>\n      <td>Serrano Ham and Manchego Cheese</td>\n      <td>$9.79</td>\n      <td></td>\n      <td></td>\n      <td>hannahsbretzel.com</td>\n    </tr>\n    <tr>\n      <th>31</th>\n      <td>32</td>\n      <td>La Fournette</td>\n      <td>Tuna Salad</td>\n      <td>$9.75</td>\n      <td>1547 N. Wells St.</td>\n      <td>312-624-9430</td>\n      <td>lafournette.com</td>\n    </tr>\n    <tr>\n      <th>32</th>\n      <td>33</td>\n      <td>Paramount Room</td>\n      <td>Paramount Reuben</td>\n      <td>$13</td>\n      <td>415 N. Milwaukee Ave.</td>\n      <td>312-829-6300</td>\n      <td>paramountroom.com</td>\n    </tr>\n    <tr>\n      <th>33</th>\n      <td>34</td>\n      <td>Melt Sandwich Shoppe</td>\n      <td>The Istanbul</td>\n      <td>$7.95</td>\n      <td>1840 N. Damen Ave.</td>\n      <td>773-681-9914</td>\n      <td>meltsandwichshoppechicago.com</td>\n    </tr>\n    <tr>\n      <th>34</th>\n      <td>35</td>\n      <td>Floriole Cafe &amp; Bakery</td>\n      <td>B.A.D.</td>\n      <td>$9</td>\n      <td>1220 W. Webster Ave.</td>\n      <td>773-883-1313</td>\n      <td>floriole.com</td>\n    </tr>\n    <tr>\n      <th>35</th>\n      <td>36</td>\n      <td>First Slice Pie Café</td>\n      <td>Duck Confit and Mozzarella</td>\n      <td>$9</td>\n      <td>5357 N. Ashland Ave.</td>\n      <td>773-275-4297</td>\n      <td>firstslice.org</td>\n    </tr>\n    <tr>\n      <th>36</th>\n      <td>37</td>\n      <td>Troquet</td>\n      <td>Croque Monsieur</td>\n      <td>$8</td>\n      <td>1834 W. Montrose Ave.</td>\n      <td>773-334-5664</td>\n      <td>troquetchicago.com</td>\n    </tr>\n    <tr>\n      <th>37</th>\n      <td>38</td>\n      <td>Grahamwich</td>\n      <td>Green Garbanzo</td>\n      <td>$8</td>\n      <td>615 N. State St.</td>\n      <td>312-265-0434</td>\n      <td>grahamwich.com</td>\n    </tr>\n    <tr>\n      <th>38</th>\n      <td>39</td>\n      <td>Saigon Sisters</td>\n      <td>The Hen House</td>\n      <td>$7</td>\n      <td></td>\n      <td></td>\n      <td>saigonsisters.com</td>\n    </tr>\n    <tr>\n      <th>39</th>\n      <td>40</td>\n      <td>Rosalia’s Deli</td>\n      <td>Tuscan Chicken</td>\n      <td>$6</td>\n      <td>241 N. York Rd.,  Elmhurst</td>\n      <td>630-516-3354</td>\n      <td>rosaliasdeli.com</td>\n    </tr>\n    <tr>\n      <th>40</th>\n      <td>41</td>\n      <td>Z&amp;H MarketCafe</td>\n      <td>The Marty</td>\n      <td>$7.25</td>\n      <td>1323 E. 57th St.</td>\n      <td>773-538-7372</td>\n      <td>zhmarketcafe.com</td>\n    </tr>\n    <tr>\n      <th>41</th>\n      <td>42</td>\n      <td>Market House on the Square</td>\n      <td>Whitefish</td>\n      <td>$11</td>\n      <td>655 Forest Ave.,  Lake Forest</td>\n      <td>847-234-8800</td>\n      <td>themarkethouse.com</td>\n    </tr>\n    <tr>\n      <th>42</th>\n      <td>43</td>\n      <td>Elaine’s Coffee Call</td>\n      <td>Oat Bread, Pecan Butter, and Fruit Jam</td>\n      <td>$6</td>\n      <td>Hotel Lincoln,  1816 N. Clark St.</td>\n      <td>312-254-4665</td>\n      <td>jdvhotels.com/hotels/chicago/lincoln</td>\n    </tr>\n    <tr>\n      <th>43</th>\n      <td>44</td>\n      <td>Marion Street Cheese Market</td>\n      <td>Cauliflower Melt</td>\n      <td>$9</td>\n      <td>100 S. Marion St.,  Oak Park</td>\n      <td>708-725-7200</td>\n      <td>marionstreetcheesemarket.com</td>\n    </tr>\n    <tr>\n      <th>44</th>\n      <td>45</td>\n      <td>Cafecito</td>\n      <td>Cubana</td>\n      <td>$5.49</td>\n      <td>26 E. Congress Pkwy.</td>\n      <td>312-922-2233</td>\n      <td>cafecitochicago.com</td>\n    </tr>\n    <tr>\n      <th>45</th>\n      <td>46</td>\n      <td>Chickpea</td>\n      <td>Kufta</td>\n      <td>$8</td>\n      <td>2018 W. Chicago Ave.</td>\n      <td>773-384-9930</td>\n      <td>chickpeaonthego.com</td>\n    </tr>\n    <tr>\n      <th>46</th>\n      <td>47</td>\n      <td>The Goddess and Grocer</td>\n      <td>Debbie’s Egg Salad</td>\n      <td>$6.50</td>\n      <td>25 E. Delaware Pl.</td>\n      <td>312-896-2600</td>\n      <td>goddessandgrocer.com</td>\n    </tr>\n    <tr>\n      <th>47</th>\n      <td>48</td>\n      <td>Zenwich</td>\n      <td>Beef Curry</td>\n      <td>$7.50</td>\n      <td>416 N. York St.,  Elmhurst</td>\n      <td>630-359-5234</td>\n      <td>eatmyzenwich.com</td>\n    </tr>\n    <tr>\n      <th>48</th>\n      <td>49</td>\n      <td>Toni Patisserie</td>\n      <td>Le Végétarien</td>\n      <td>$8.75</td>\n      <td>65 E. Washington St.</td>\n      <td>312-726-2020</td>\n      <td>tonipatisserie.com</td>\n    </tr>\n    <tr>\n      <th>49</th>\n      <td>50</td>\n      <td>Phoebe’s Bakery</td>\n      <td>The Gatsby</td>\n      <td>$6.85</td>\n      <td>3351 N. Broadway</td>\n      <td>773-868-4000</td>\n      <td>phoebesbakery.com</td>\n    </tr>\n  </tbody>\n</table>\n</div>"
     },
     "metadata": {},
     "execution_count": 46
    }
   ],
   "source": [
    "df2"
   ]
  },
  {
   "cell_type": "code",
   "execution_count": null,
   "metadata": {},
   "outputs": [],
   "source": []
  }
 ]
}