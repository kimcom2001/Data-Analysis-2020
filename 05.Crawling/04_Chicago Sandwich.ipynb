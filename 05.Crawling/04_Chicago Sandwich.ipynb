{
 "metadata": {
  "language_info": {
   "codemirror_mode": {
    "name": "ipython",
    "version": 3
   },
   "file_extension": ".py",
   "mimetype": "text/x-python",
   "name": "python",
   "nbconvert_exporter": "python",
   "pygments_lexer": "ipython3",
   "version": "3.8.3-final"
  },
  "orig_nbformat": 2,
  "kernelspec": {
   "name": "python3",
   "display_name": "Python 3"
  }
 },
 "nbformat": 4,
 "nbformat_minor": 2,
 "cells": [
  {
   "cell_type": "code",
   "execution_count": 1,
   "metadata": {},
   "outputs": [],
   "source": [
    "from bs4 import BeautifulSoup\n",
    "from urllib.request import urlopen\n",
    "from urllib.parse import urljoin\n",
    "import pandas as pd"
   ]
  },
  {
   "cell_type": "code",
   "execution_count": 3,
   "metadata": {},
   "outputs": [],
   "source": [
    "url_base = 'https://www.chicagomag.com/'\n",
    "url_sub = 'Chicago-Magazine/November-2012/Best-Sandwiches-Chicago/'\n",
    "url = url_base + url_sub"
   ]
  },
  {
   "cell_type": "code",
   "execution_count": 5,
   "metadata": {},
   "outputs": [],
   "source": [
    "html = urlopen(url)\n",
    "soup = BeautifulSoup(html, 'html.parser')"
   ]
  },
  {
   "cell_type": "code",
   "execution_count": 6,
   "metadata": {},
   "outputs": [
    {
     "output_type": "execute_result",
     "data": {
      "text/plain": [
       "<div class=\"sammy\" style=\"position: relative;\">\n",
       "<div class=\"sammyRank\">1</div>\n",
       "<div class=\"sammyListing\"><a href=\"/Chicago-Magazine/November-2012/Best-Sandwiches-in-Chicago-Old-Oak-Tap-BLT/\"><b>BLT</b><br>\n",
       "Old Oak Tap<br>\n",
       "<em>Read more</em> </br></br></a></div>\n",
       "</div>"
      ]
     },
     "metadata": {},
     "execution_count": 6
    }
   ],
   "source": [
    "rest_lists = soup.select('.sammy')\n",
    "rest_lists[0]"
   ]
  },
  {
   "cell_type": "code",
   "execution_count": 7,
   "metadata": {},
   "outputs": [
    {
     "output_type": "stream",
     "name": "stdout",
     "text": [
      "[<div class=\"sammy\" style=\"position: relative;\">\n<div class=\"sammyRank\">1</div>\n<div class=\"sammyListing\"><a href=\"/Chicago-Magazine/November-2012/Best-Sandwiches-in-Chicago-Old-Oak-Tap-BLT/\"><b>BLT</b><br>\nOld Oak Tap<br>\n<em>Read more</em> </br></br></a></div>\n</div>, <div class=\"sammy\" style=\"position: relative;\">\n<div class=\"sammyRank\">2</div>\n<div class=\"sammyListing\"><a href=\"/Chicago-Magazine/November-2012/Best-Sandwiches-in-Chicago-Au-Cheval-Fried-Bologna/\"><b>Fried Bologna</b><br/>\nAu Cheval<br/>\n<em>Read more</em> </a></div>\n</div>, <div class=\"sammy\" style=\"position: relative;\">\n<div class=\"sammyRank\">3</div>\n<div class=\"sammyListing\"><a href=\"/Chicago-Magazine/November-2012/Best-Sandwiches-in-Chicago-Xoco-Woodland-Mushroom/\"><b>Woodland Mushroom</b><br/>\nXoco<br/>\n<em>Read more</em> </a></div>\n</div>, <div class=\"sammy\" style=\"position: relative;\">\n<div class=\"sammyRank\">4</div>\n<div class=\"sammyListing\"><a href=\"/Chicago-Magazine/November-2012/Best-Sandwiches-in-Chicago-Als-Deli-Roast-Beef/\"><b>Roast Beef</b><br/>\nAl’s Deli<br/>\n<em>Read more</em> </a></div>\n</div>, <div class=\"sammy\" style=\"position: relative;\">\n<div class=\"sammyRank\">5</div>\n<div class=\"sammyListing\"><a href=\"/Chicago-Magazine/November-2012/Best-Sandwiches-in-Chicago-Publican-Quality-Meats-PB-L/\"><b>PB&amp;L</b><br/>\nPublican Quality Meats<br/>\n<em>Read more</em> </a></div>\n</div>, <div class=\"sammy\" style=\"position: relative;\">\n<div class=\"sammyRank\">6</div>\n<div class=\"sammyListing\"><a href=\"http://www.chicagomag.com/Chicago-Magazine/November-2012/Best-Sandwiches-in-Chicago-Hendrickx-Belgian-Bread-Crafter-Belgian-Chicken-Curry-Salad/\"><b>Belgian Chicken Curry Salad</b><br/>\nHendrickx Belgian Bread Crafter<br/>\n<em>Read more</em> </a></div>\n</div>, <div class=\"sammy\" style=\"position: relative;\">\n<div class=\"sammyRank\">7</div>\n<div class=\"sammyListing\"><a href=\"/Chicago-Magazine/November-2012/Best-Sandwiches-in-Chicago-Acadia-Lobster-Roll/\"><b>Lobster Roll</b><br/>\nAcadia<br/>\n<em>Read more</em> </a></div>\n</div>, <div class=\"sammy\" style=\"position: relative;\">\n<div class=\"sammyRank\">8</div>\n<div class=\"sammyListing\"><a href=\"/Chicago-Magazine/November-2012/Best-Sandwiches-in-Chicago-Birchwood-Kitchen-Smoked-Salmon-Salad/\"><b>Smoked Salmon Salad</b><br/>\nBirchwood Kitchen<br/>\n<em>Read more</em> </a></div>\n</div>, <div class=\"sammy\" style=\"position: relative;\">\n<div class=\"sammyRank\">9</div>\n<div class=\"sammyListing\"><a href=\"/Chicago-Magazine/November-2012/Best-Sandwiches-in-Chicago-Cemitas-Puebla-Atomica-Cemitas/\"><b>Atomica Cemitas</b><br/>\nCemitas Puebla<br/>\n<em>Read more</em> </a></div>\n</div>, <div class=\"sammy\" style=\"position: relative;\">\n<div class=\"sammyRank\">10</div>\n<div class=\"sammyListing\"><a href=\"/Chicago-Magazine/November-2012/Best-Sandwiches-in-Chicago-Nana-Grilled-Laughing-Bird-Shrimp-and-Fried-Oyster-Po-Boy/\"><b>Grilled Laughing Bird Shrimp and Fried Po’ Boy</b><br/>\nNana<br/>\n<em>Read more</em> </a></div>\n</div>, <div class=\"sammy\" style=\"position: relative;\">\n<div class=\"sammyRank\">11</div>\n<div class=\"sammyListing\"><a href=\"http://www.chicagomag.com/Chicago-Magazine/November-2012/Best-Sandwiches-in-Chicago-Lula-Cafe-Ham-and-Raclette-Panino/\"><b>Ham and Raclette Panino</b><br/>\nLula Cafe<br/>\n<em>Read more</em> </a></div>\n</div>, <div class=\"sammy\" style=\"position: relative;\">\n<div class=\"sammyRank\">12</div>\n<div class=\"sammyListing\"><a href=\"http://www.chicagomag.com/Chicago-Magazine/November-2012/Best-Sandwiches-in-Chicago-Ricobenes-Breaded-Steak/\"><b>Breaded Steak</b><br/>\nRicobene’s<br/>\n<em>Read more</em> </a></div>\n</div>, <div class=\"sammy\" style=\"position: relative;\">\n<div class=\"sammyRank\">13</div>\n<div class=\"sammyListing\"><a href=\"http://www.chicagomag.com/Chicago-Magazine/November-2012/Best-Sandwiches-in-Chicago-Frog-n-Snail-The-Hawkeye/\"><b>The Hawkeye</b><br/>\nFrog n Snail<br/>\n<em>Read more</em> </a></div>\n</div>, <div class=\"sammy\" style=\"position: relative;\">\n<div class=\"sammyRank\">14</div>\n<div class=\"sammyListing\"><a href=\"http://www.chicagomag.com/Chicago-Magazine/November-2012/Best-Sandwiches-in-Chicago-Crosbys-Kitchen-Chicken-Dip/\"><b>Chicken Dip</b><br/>\nCrosby’s Kitchen<br/>\n<em>Read more</em> </a></div>\n</div>, <div class=\"sammy\" style=\"position: relative;\">\n<div class=\"sammyRank\">15</div>\n<div class=\"sammyListing\"><a href=\"http://www.chicagomag.com/Chicago-Magazine/November-2012/Best-Sandwiches-in-Chicago-Longman-and-Eagle-Wild-Boar-Sloppy-Joe/\"><b>Wild Boar Sloppy Joe</b><br/>\nLongman &amp; Eagle<br/>\n<em>Read more</em> </a></div>\n</div>, <div class=\"sammy\" style=\"position: relative;\">\n<div class=\"sammyRank\">16</div>\n<div class=\"sammyListing\"><a href=\"http://www.chicagomag.com/Chicago-Magazine/November-2012/Best-Sandwiches-in-Chicago-Bari-Meatball-Sub/\"><b>Meatball Sub</b><br/>\nBari<br/>\n<em>Read more</em> </a></div>\n</div>, <div class=\"sammy\" style=\"position: relative;\">\n<div class=\"sammyRank\">17</div>\n<div class=\"sammyListing\"><a href=\"http://www.chicagomag.com/Chicago-Magazine/November-2012/Best-Sandwiches-in-Chicago-Mannys-Corned-Beef/\"><b>Corned Beef</b><br/>\nManny’s<br/>\n<em>Read more</em> </a></div>\n</div>, <div class=\"sammy\" style=\"position: relative;\">\n<div class=\"sammyRank\">18</div>\n<div class=\"sammyListing\"><a href=\"http://www.chicagomag.com/Chicago-Magazine/November-2012/Best-Sandwiches-in-Chicago-Eggys-Turkey-Club/\"><b>Turkey Club</b><br/>\nEggy’s<br/>\n<em>Read more</em> </a></div>\n</div>, <div class=\"sammy\" style=\"position: relative;\">\n<div class=\"sammyRank\">19</div>\n<div class=\"sammyListing\"><a href=\"http://www.chicagomag.com/Chicago-Magazine/November-2012/Best-Sandwiches-in-Chicago-Old-Jerusalem-Falafel/\"><b>Falafel</b><br/>\nOld Jerusalem<br/>\n<em>Read more</em> </a></div>\n</div>, <div class=\"sammy\" style=\"position: relative;\">\n<div class=\"sammyRank\">20</div>\n<div class=\"sammyListing\"><a href=\"http://www.chicagomag.com/Chicago-Magazine/November-2012/Best-Sandwiches-in-Chicago-Mindys-HotChocolate-Crab-Cake/\"><b>Crab Cake</b><br/>\nMindy’s HotChocolate<br/>\n<em>Read more</em> </a></div>\n</div>, <div class=\"sammy\" style=\"position: relative;\">\n<div class=\"sammyRank\">21</div>\n<div class=\"sammyListing\"><a href=\"http://www.chicagomag.com/Chicago-Magazine/November-2012/Best-Sandwiches-in-Chicago-Olgas-Delicatessen-Chicken-Schnitzel/\"><b>Chicken Schnitzel</b><br/>\nOlga’s Delicatessen<br/>\n<em>Read more</em> </a></div>\n</div>, <div class=\"sammy\" style=\"position: relative;\">\n<div class=\"sammyRank\">22</div>\n<div class=\"sammyListing\"><a href=\"http://www.chicagomag.com/Chicago-Magazine/November-2012/Best-Sandwiches-in-Chicago-Dawali-Mediterranean-Kitchen-Shawarma/\"><b>Shawarma</b><br/>\nDawali Mediterranean Kitchen<br/>\n<em>Read more</em> </a></div>\n</div>, <div class=\"sammy\" style=\"position: relative;\">\n<div class=\"sammyRank\">23</div>\n<div class=\"sammyListing\"><a href=\"http://www.chicagomag.com/Chicago-Magazine/November-2012/Best-Sandwiches-in-Chicago-Big-Jones-Toasted-Pimiento-Cheese/\"><b>Toasted Pimiento Cheese</b><br/>\nBig Jones<br/>\n<em>Read more</em> </a></div>\n</div>, <div class=\"sammy\" style=\"position: relative;\">\n<div class=\"sammyRank\">24</div>\n<div class=\"sammyListing\"><a href=\"http://www.chicagomag.com/Chicago-Magazine/November-2012/Best-Sandwiches-in-Chicago-La-Pane-Vegetarian-Panino/\"><b>Vegetarian Panino</b><br/>\nLa Pane<br/>\n<em>Read more</em> </a></div>\n</div>, <div class=\"sammy\" style=\"position: relative;\">\n<div class=\"sammyRank\">25</div>\n<div class=\"sammyListing\"><a href=\"/Chicago-Magazine/November-2012/Best-Sandwiches-in-Chicago-Pastoral-Cali-Chevre/\"><b>Cali Chèvre</b><br/>\nPastoral<br/>\n<em>Read more</em> </a></div>\n</div>, <div class=\"sammy\" style=\"position: relative;\">\n<div class=\"sammyRank\">26</div>\n<div class=\"sammyListing\"><a href=\"http://www.chicagomag.com/Chicago-Magazine/November-2012/Best-Sandwiches-in-Chicago-Maxs-Deli-Pastrami/\"><b>Pastrami</b><br/>\nMax’s Deli<br/>\n<em>Read more</em> </a></div>\n</div>, <div class=\"sammy\" style=\"position: relative;\">\n<div class=\"sammyRank\">27</div>\n<div class=\"sammyListing\"><a href=\"http://www.chicagomag.com/Chicago-Magazine/November-2012/Best-Sandwiches-in-Chicago-Luckys-Sandwich-Co-The-Fredo/\"><b>The Fredo</b><br/>\nLucky’s Sandwich Co.<br/>\n<em>Read more</em> </a></div>\n</div>, <div class=\"sammy\" style=\"position: relative;\">\n<div class=\"sammyRank\">28</div>\n<div class=\"sammyListing\"><a href=\"http://www.chicagomag.com/Chicago-Magazine/November-2012/Best-Sandwiches-in-Chicago-City-Provisions-Smoked-Ham/\"><b>Smoked Ham</b><br/>\nCity Provisions<br/>\n<em>Read more</em> </a></div>\n</div>, <div class=\"sammy\" style=\"position: relative;\">\n<div class=\"sammyRank\">29</div>\n<div class=\"sammyListing\"><a href=\"http://www.chicagomag.com/Chicago-Magazine/November-2012/Best-Sandwiches-in-Chicago-Papas-Cache-Sabroso-Jibarito/\"><b>Jibarito</b><br/>\nPapa’s Cache Sabroso<br/>\n<em>Read more</em> </a></div>\n</div>, <div class=\"sammy\" style=\"position: relative;\">\n<div class=\"sammyRank\">30</div>\n<div class=\"sammyListing\"><a href=\"http://www.chicagomag.com/Chicago-Magazine/November-2012/Best-Sandwiches-in-Chicago-Bavettes-Bar-and-Boeuf-Shaved-Prime-Rib/\"><b>Shaved Prime Rib</b><br/>\nBavette’s Bar &amp; Boeuf<br/>\n<em>Read more</em> </a></div>\n</div>, <div class=\"sammy\" style=\"position: relative;\">\n<div class=\"sammyRank\">31</div>\n<div class=\"sammyListing\"><a href=\"http://www.chicagomag.com/Chicago-Magazine/November-2012/Best-Sandwiches-in-Chicago-Hannahs-Bretzel-Serrano-Ham-and-Manchego-Cheese/\"><b>Serrano Ham and Manchego Cheese</b><br/>\nHannah’s Bretzel<br/>\n<em>Read more</em> </a></div>\n</div>, <div class=\"sammy\" style=\"position: relative;\">\n<div class=\"sammyRank\">32</div>\n<div class=\"sammyListing\"><a href=\"http://www.chicagomag.com/Chicago-Magazine/November-2012/Best-Sandwiches-in-Chicago-La-Fournette-Tuna-Salad/\"><b>Tuna Salad</b><br/>\nLa Fournette<br/>\n<em>Read more</em> </a></div>\n</div>, <div class=\"sammy\" style=\"position: relative;\">\n<div class=\"sammyRank\">33</div>\n<div class=\"sammyListing\"><a href=\"http://www.chicagomag.com/Chicago-Magazine/November-2012/Best-Sandwiches-in-Chicago-Paramount-Room-Paramount-Reuben/\"><b>Paramount Reuben</b><br/>\nParamount Room<br/>\n<em>Read more</em> </a></div>\n</div>, <div class=\"sammy\" style=\"position: relative;\">\n<div class=\"sammyRank\">34</div>\n<div class=\"sammyListing\"><a href=\"http://www.chicagomag.com/Chicago-Magazine/November-2012/Best-Sandwiches-in-Chicago-Melt-Sandwich-Shoppe-The-Istanbul/\"><b>The Istanbul</b><br/>\nMelt Sandwich Shoppe<br/>\n<em>Read more</em> </a></div>\n</div>, <div class=\"sammy\" style=\"position: relative;\">\n<div class=\"sammyRank\">35</div>\n<div class=\"sammyListing\"><a href=\"http://www.chicagomag.com/Chicago-Magazine/November-2012/Best-Sandwiches-in-Chicago-Floriole-Cafe-and-Bakery-BAD/\"><b>B.A.D.</b><br/>\nFloriole Cafe &amp; Bakery<br/>\n<em>Read more</em> </a></div>\n</div>, <div class=\"sammy\" style=\"position: relative;\">\n<div class=\"sammyRank\">36</div>\n<div class=\"sammyListing\"><a href=\"http://www.chicagomag.com/Chicago-Magazine/November-2012/Best-Sandwiches-in-Chicago-First-Slice-Pie-Cafe-Duck-Confit-and-Mozzarella/\"><b>Duck Confit and Mozzarella</b><br/>\nFirst Slice Pie Café<br/>\n<em>Read more</em> </a></div>\n</div>, <div class=\"sammy\" style=\"position: relative;\">\n<div class=\"sammyRank\">37</div>\n<div class=\"sammyListing\"><a href=\"http://www.chicagomag.com/Chicago-Magazine/November-2012/Best-Sandwiches-in-Chicago-Troquet-Croque-Monsieur/\"><b>Croque Monsieur</b><br/>\nTroquet<br/>\n<em>Read more</em> </a></div>\n</div>, <div class=\"sammy\" style=\"position: relative;\">\n<div class=\"sammyRank\">38</div>\n<div class=\"sammyListing\"><a href=\"http://www.chicagomag.com/Chicago-Magazine/November-2012/Best-Sandwiches-in-Chicago-Grahamwich-Green-Garbanzo/\"><b>Green Garbanzo</b><br/>\nGrahamwich<br/>\n<em>Read more</em> </a></div>\n</div>, <div class=\"sammy\" style=\"position: relative;\">\n<div class=\"sammyRank\">39</div>\n<div class=\"sammyListing\"><a href=\"http://www.chicagomag.com/Chicago-Magazine/November-2012/Best-Sandwiches-in-Chicago-Saigon-Sisters-The-Hen-House/\"><b>The Hen House</b><br/>\nSaigon Sisters<br/>\n<em>Read more</em> </a></div>\n</div>, <div class=\"sammy\" style=\"position: relative;\">\n<div class=\"sammyRank\">40</div>\n<div class=\"sammyListing\"><a href=\"http://www.chicagomag.com/Chicago-Magazine/November-2012/Best-Sandwiches-in-Chicago-Rosalias-Deli-Tuscan-Chicken/\"><b>Tuscan Chicken</b><br/>\nRosalia’s Deli<br/>\n<em>Read more</em> </a></div>\n</div>, <div class=\"sammy\" style=\"position: relative;\">\n<div class=\"sammyRank\">41</div>\n<div class=\"sammyListing\"><a href=\"http://www.chicagomag.com/Chicago-Magazine/November-2012/Best-Sandwiches-in-Chicago-Z-and-H-MarketCafe-The-Marty/\"><b>The Marty </b><br/>\nZ&amp;H MarketCafe<br/>\n<em>Read more</em> </a></div>\n</div>, <div class=\"sammy\" style=\"position: relative;\">\n<div class=\"sammyRank\">42</div>\n<div class=\"sammyListing\"><a href=\"http://www.chicagomag.com/Chicago-Magazine/November-2012/Best-Sandwiches-in-Chicago-Market-House-on-the-Square-Whitefish/\"><b>Whitefish</b><br/>\nMarket House on the Square<br/>\n<em>Read more</em> </a></div>\n</div>, <div class=\"sammy\" style=\"position: relative;\">\n<div class=\"sammyRank\">43</div>\n<div class=\"sammyListing\"><a href=\"http://www.chicagomag.com/Chicago-Magazine/November-2012/Best-Sandwiches-in-Chicago-Elaines-Coffee-Call-Oat-Bread-Pecan-Butter-and-Fruit-Jam/\"><b>Oat Bread, Pecan Butter, and Fruit Jam</b><br/>\nElaine’s Coffee Call<br/>\n<em>Read more</em> </a></div>\n</div>, <div class=\"sammy\" style=\"position: relative;\">\n<div class=\"sammyRank\">44</div>\n<div class=\"sammyListing\"><a href=\"http://www.chicagomag.com/Chicago-Magazine/November-2012/Best-Sandwiches-in-Chicago-Marion-Street-Cheese-Market-Cauliflower-Melt/\"><b>Cauliflower Melt</b><br/>\nMarion Street Cheese Market<br/>\n<em>Read more</em> </a></div>\n</div>, <div class=\"sammy\" style=\"position: relative;\">\n<div class=\"sammyRank\">45</div>\n<div class=\"sammyListing\"><a href=\"http://www.chicagomag.com/Chicago-Magazine/November-2012/Best-Sandwiches-in-Chicago-Cafecito-Cubano/\"><b>Cubana</b><br/>\nCafecito<br/>\n<em>Read more</em> </a></div>\n</div>, <div class=\"sammy\" style=\"position: relative;\">\n<div class=\"sammyRank\">46</div>\n<div class=\"sammyListing\"><a href=\"http://www.chicagomag.com/Chicago-Magazine/November-2012/Best-Sandwiches-in-Chicago-Chickpea-Kufta/\"><b>Kufta</b><br/>\nChickpea<br/>\n<em>Read more</em> </a></div>\n</div>, <div class=\"sammy\" style=\"position: relative;\">\n<div class=\"sammyRank\">47</div>\n<div class=\"sammyListing\"><a href=\"http://www.chicagomag.com/Chicago-Magazine/November-2012/Best-Sandwiches-in-Chicago-The-Goddess-and-Grocer-Debbies-Egg-Salad/\"><b>Debbie’s Egg Salad</b><br/>\nThe Goddess and Grocer<br/>\n<em>Read more</em> </a></div>\n</div>, <div class=\"sammy\" style=\"position: relative;\">\n<div class=\"sammyRank\">48</div>\n<div class=\"sammyListing\"><a href=\"http://www.chicagomag.com/Chicago-Magazine/November-2012/Best-Sandwiches-in-Chicago-Zenwich-Beef-Curry/\"><b>Beef Curry</b><br/>\nZenwich<br/>\n<em>Read more</em> </a></div>\n</div>, <div class=\"sammy\" style=\"position: relative;\">\n<div class=\"sammyRank\">49</div>\n<div class=\"sammyListing\"><a href=\"http://www.chicagomag.com/Chicago-Magazine/November-2012/Best-Sandwiches-in-Chicago-Toni-Patisserie-Le-Vegetarien/\"><b>Le Végétarien</b><br/>\nToni Patisserie<br/>\n<em>Read more</em> </a></div>\n</div>, <div class=\"sammy\" style=\"position: relative; border-bottom: 0\">\n<div class=\"sammyRank\">50</div>\n<div class=\"sammyListing\"><a href=\"http://www.chicagomag.com/Chicago-Magazine/November-2012/Best-Sandwiches-in-Chicago-Phoebes-Bakery-The-Gatsby/\"><b>The Gatsby</b><br/>\nPhoebe’s Bakery<br/>\n<em>Read more</em> </a></div>\n</div>]\n"
     ]
    }
   ],
   "source": [
    "print(soup.find_all('div', 'sammy'))"
   ]
  },
  {
   "cell_type": "code",
   "execution_count": 8,
   "metadata": {},
   "outputs": [
    {
     "output_type": "execute_result",
     "data": {
      "text/plain": [
       "50"
      ]
     },
     "metadata": {},
     "execution_count": 8
    }
   ],
   "source": [
    "len(soup.find_all('div', 'sammy'))"
   ]
  },
  {
   "cell_type": "code",
   "execution_count": 9,
   "metadata": {},
   "outputs": [
    {
     "output_type": "stream",
     "name": "stdout",
     "text": [
      "<div class=\"sammy\" style=\"position: relative;\">\n<div class=\"sammyRank\">1</div>\n<div class=\"sammyListing\"><a href=\"/Chicago-Magazine/November-2012/Best-Sandwiches-in-Chicago-Old-Oak-Tap-BLT/\"><b>BLT</b><br>\nOld Oak Tap<br>\n<em>Read more</em> </br></br></a></div>\n</div>\n"
     ]
    }
   ],
   "source": [
    "print(soup.find_all('div', 'sammy')[0])"
   ]
  },
  {
   "cell_type": "code",
   "execution_count": 10,
   "metadata": {},
   "outputs": [
    {
     "output_type": "execute_result",
     "data": {
      "text/plain": [
       "bs4.element.Tag"
      ]
     },
     "metadata": {},
     "execution_count": 10
    }
   ],
   "source": [
    "tmp_one = soup.find_all('div', 'sammy')[0]\n",
    "type(tmp_one)\n",
    "# bs4.element.Tag는 그 변수에 다시 태그로 찾는 (find, find_all) 명령을 사용할 수 있다."
   ]
  },
  {
   "cell_type": "code",
   "execution_count": 11,
   "metadata": {},
   "outputs": [
    {
     "output_type": "execute_result",
     "data": {
      "text/plain": [
       "<div class=\"sammyRank\">1</div>"
      ]
     },
     "metadata": {},
     "execution_count": 11
    }
   ],
   "source": [
    "tmp_one.find(class_='sammyRank')"
   ]
  },
  {
   "cell_type": "code",
   "execution_count": 12,
   "metadata": {},
   "outputs": [
    {
     "output_type": "execute_result",
     "data": {
      "text/plain": [
       "'1'"
      ]
     },
     "metadata": {},
     "execution_count": 12
    }
   ],
   "source": [
    "tmp_one.find(class_='sammyRank').get_text()"
   ]
  },
  {
   "cell_type": "code",
   "execution_count": 13,
   "metadata": {},
   "outputs": [
    {
     "output_type": "execute_result",
     "data": {
      "text/plain": [
       "'BLT\\r\\nOld Oak Tap\\nRead more '"
      ]
     },
     "metadata": {},
     "execution_count": 13
    }
   ],
   "source": [
    "tmp_one.find(class_='sammyListing').get_text()"
   ]
  },
  {
   "cell_type": "code",
   "execution_count": 14,
   "metadata": {},
   "outputs": [
    {
     "output_type": "execute_result",
     "data": {
      "text/plain": [
       "'/Chicago-Magazine/November-2012/Best-Sandwiches-in-Chicago-Old-Oak-Tap-BLT/'"
      ]
     },
     "metadata": {},
     "execution_count": 14
    }
   ],
   "source": [
    "tmp_one.find('a')['href']"
   ]
  },
  {
   "cell_type": "code",
   "execution_count": 15,
   "metadata": {},
   "outputs": [],
   "source": [
    "import re"
   ]
  },
  {
   "cell_type": "code",
   "execution_count": 16,
   "metadata": {},
   "outputs": [
    {
     "output_type": "stream",
     "name": "stdout",
     "text": [
      "BLT\nOld Oak Tap\n"
     ]
    }
   ],
   "source": [
    "tmp_string = tmp_one.find(class_='sammyListing').get_text()\n",
    "\n",
    "re.split(('\\n|\\r\\n'), tmp_string)\n",
    "\n",
    "print(re.split(('\\n|\\r\\n'), tmp_string)[0])\n",
    "print(re.split(('\\n|\\r\\n'), tmp_string)[1])"
   ]
  },
  {
   "cell_type": "code",
   "execution_count": 17,
   "metadata": {},
   "outputs": [],
   "source": [
    "cafe_name = []; rank = []; url_add = []; main_menu = []\n",
    "\n",
    "list_soup = soup.find_all('div', 'sammy')\n",
    "for item in list_soup:\n",
    "    \n",
    "    tmp_string = item.find(class_='sammyListing').get_text()\n",
    "\n",
    "    rank.append(int(item.find(class_='sammyRank').get_text()))\n",
    "    main_menu.append(re.split(('\\n|\\r\\n'), tmp_string)[0])\n",
    "    cafe_name.append(re.split(('\\n|\\r\\n'), tmp_string)[1])\n",
    "\n",
    "    url_add.append(urljoin(url_base, item.find('a')['href']))\n",
    "    # urljoin은 Full-path와 partial-path를 하나로 통일해준다."
   ]
  },
  {
   "cell_type": "code",
   "execution_count": 18,
   "metadata": {},
   "outputs": [
    {
     "output_type": "execute_result",
     "data": {
      "text/plain": [
       "   Rank                    Cafe               Menu  \\\n",
       "0     1             Old Oak Tap                BLT   \n",
       "1     2               Au Cheval      Fried Bologna   \n",
       "2     3                    Xoco  Woodland Mushroom   \n",
       "3     4               Al’s Deli         Roast Beef   \n",
       "4     5  Publican Quality Meats               PB&L   \n",
       "\n",
       "                                                 URL  \n",
       "0  https://www.chicagomag.com/Chicago-Magazine/No...  \n",
       "1  https://www.chicagomag.com/Chicago-Magazine/No...  \n",
       "2  https://www.chicagomag.com/Chicago-Magazine/No...  \n",
       "3  https://www.chicagomag.com/Chicago-Magazine/No...  \n",
       "4  https://www.chicagomag.com/Chicago-Magazine/No...  "
      ],
      "text/html": "<div>\n<style scoped>\n    .dataframe tbody tr th:only-of-type {\n        vertical-align: middle;\n    }\n\n    .dataframe tbody tr th {\n        vertical-align: top;\n    }\n\n    .dataframe thead th {\n        text-align: right;\n    }\n</style>\n<table border=\"1\" class=\"dataframe\">\n  <thead>\n    <tr style=\"text-align: right;\">\n      <th></th>\n      <th>Rank</th>\n      <th>Cafe</th>\n      <th>Menu</th>\n      <th>URL</th>\n    </tr>\n  </thead>\n  <tbody>\n    <tr>\n      <th>0</th>\n      <td>1</td>\n      <td>Old Oak Tap</td>\n      <td>BLT</td>\n      <td>https://www.chicagomag.com/Chicago-Magazine/No...</td>\n    </tr>\n    <tr>\n      <th>1</th>\n      <td>2</td>\n      <td>Au Cheval</td>\n      <td>Fried Bologna</td>\n      <td>https://www.chicagomag.com/Chicago-Magazine/No...</td>\n    </tr>\n    <tr>\n      <th>2</th>\n      <td>3</td>\n      <td>Xoco</td>\n      <td>Woodland Mushroom</td>\n      <td>https://www.chicagomag.com/Chicago-Magazine/No...</td>\n    </tr>\n    <tr>\n      <th>3</th>\n      <td>4</td>\n      <td>Al’s Deli</td>\n      <td>Roast Beef</td>\n      <td>https://www.chicagomag.com/Chicago-Magazine/No...</td>\n    </tr>\n    <tr>\n      <th>4</th>\n      <td>5</td>\n      <td>Publican Quality Meats</td>\n      <td>PB&amp;L</td>\n      <td>https://www.chicagomag.com/Chicago-Magazine/No...</td>\n    </tr>\n  </tbody>\n</table>\n</div>"
     },
     "metadata": {},
     "execution_count": 18
    }
   ],
   "source": [
    "import pandas as pd\n",
    "\n",
    "cafe = pd.DataFrame({\n",
    "    'Rank': rank,\n",
    "    'Cafe': cafe_name,\n",
    "    'Menu': main_menu,\n",
    "    'URL': url_add\n",
    "})\n",
    "cafe.head()"
   ]
  },
  {
   "cell_type": "code",
   "execution_count": 19,
   "metadata": {},
   "outputs": [],
   "source": [
    "cafe.to_csv('chicago.csv', sep=',', encoding='utf-8')"
   ]
  },
  {
   "cell_type": "code",
   "execution_count": 20,
   "metadata": {},
   "outputs": [
    {
     "output_type": "execute_result",
     "data": {
      "text/plain": [
       "(50, 50, 50, 50)"
      ]
     },
     "metadata": {},
     "execution_count": 20
    }
   ],
   "source": [
    "len(rank), len(cafe_name), len(main_menu), len(url_add)"
   ]
  },
  {
   "source": [
    "### 다수의 웹 페이지에 자동으로 접근해서 원하는 정보 가져오기"
   ],
   "cell_type": "markdown",
   "metadata": {}
  },
  {
   "cell_type": "code",
   "execution_count": 21,
   "metadata": {},
   "outputs": [],
   "source": [
    "html = urlopen(cafe['URL'][0])\n",
    "soup_tmp = BeautifulSoup(html, 'html.parser')"
   ]
  },
  {
   "cell_type": "code",
   "execution_count": 22,
   "metadata": {},
   "outputs": [
    {
     "output_type": "execute_result",
     "data": {
      "text/plain": [
       "<p class=\"addy\">\n",
       "<em>$10. 2109 W. Chicago Ave., 773-772-0406, <a href=\"http://www.theoldoaktap.com/\">theoldoaktap.com</a></em></p>"
      ]
     },
     "metadata": {},
     "execution_count": 22
    }
   ],
   "source": [
    "soup_tmp.select_one('.addy')"
   ]
  },
  {
   "cell_type": "code",
   "execution_count": 23,
   "metadata": {},
   "outputs": [
    {
     "output_type": "execute_result",
     "data": {
      "text/plain": [
       "3"
      ]
     },
     "metadata": {},
     "execution_count": 23
    }
   ],
   "source": [
    "tmp = soup_tmp.select_one('.addy').get_text().split(',')\n",
    "len(tmp)\n",
    "# .sting()은 중간에 태그가 있는경우 나오지 않는다. 주의하기!!\n",
    "# 3은 홈페이지가 있고, 2는 홈페이지가 없다."
   ]
  },
  {
   "cell_type": "code",
   "execution_count": 24,
   "metadata": {},
   "outputs": [
    {
     "output_type": "execute_result",
     "data": {
      "text/plain": [
       "'\\n$10. 2109 W. Chicago Ave.'"
      ]
     },
     "metadata": {},
     "execution_count": 24
    }
   ],
   "source": [
    "tmp[0]"
   ]
  },
  {
   "cell_type": "code",
   "execution_count": 25,
   "metadata": {},
   "outputs": [
    {
     "output_type": "execute_result",
     "data": {
      "text/plain": [
       "'$10'"
      ]
     },
     "metadata": {},
     "execution_count": 25
    }
   ],
   "source": [
    "price = tmp[0].split()[0][:-1]\n",
    "price"
   ]
  },
  {
   "cell_type": "code",
   "execution_count": 26,
   "metadata": {},
   "outputs": [
    {
     "output_type": "execute_result",
     "data": {
      "text/plain": [
       "'773-772-0406'"
      ]
     },
     "metadata": {},
     "execution_count": 26
    }
   ],
   "source": [
    "tmp[1].strip()"
   ]
  },
  {
   "cell_type": "code",
   "execution_count": 27,
   "metadata": {},
   "outputs": [
    {
     "output_type": "execute_result",
     "data": {
      "text/plain": [
       "'2109 W. Chicago Ave.'"
      ]
     },
     "metadata": {},
     "execution_count": 27
    }
   ],
   "source": [
    "addr = ' '.join(tmp[0].split()[1:])\n",
    "addr"
   ]
  },
  {
   "cell_type": "code",
   "execution_count": 28,
   "metadata": {},
   "outputs": [
    {
     "output_type": "execute_result",
     "data": {
      "text/plain": [
       "('\\n$10. 2109 W. Chicago Ave.', ' theoldoaktap.com', ' 773-772-040')"
      ]
     },
     "metadata": {},
     "execution_count": 28
    }
   ],
   "source": [
    "tmp[0], tmp[-1], tmp[-2][:-1]"
   ]
  },
  {
   "cell_type": "code",
   "execution_count": 29,
   "metadata": {},
   "outputs": [
    {
     "output_type": "execute_result",
     "data": {
      "text/plain": [
       "'$10'"
      ]
     },
     "metadata": {},
     "execution_count": 29
    }
   ],
   "source": [
    "price = tmp[0].split()[0][:-1]\n",
    "price"
   ]
  },
  {
   "cell_type": "code",
   "execution_count": 30,
   "metadata": {},
   "outputs": [],
   "source": [
    "from tqdm import tqdm_notebook"
   ]
  },
  {
   "cell_type": "code",
   "execution_count": 34,
   "metadata": {},
   "outputs": [
    {
     "output_type": "execute_result",
     "data": {
      "text/plain": [
       "<div class=\"sammy\" style=\"position: relative;\">\n",
       "<div class=\"sammyRank\">1</div>\n",
       "<div class=\"sammyListing\"><a href=\"/Chicago-Magazine/November-2012/Best-Sandwiches-in-Chicago-Old-Oak-Tap-BLT/\"><b>BLT</b><br>\n",
       "Old Oak Tap<br>\n",
       "<em>Read more</em> </br></br></a></div>\n",
       "</div>"
      ]
     },
     "metadata": {},
     "execution_count": 34
    }
   ],
   "source": [
    "rest_list = soup.select('.sammy')\n",
    "rest_list[0]"
   ]
  },
  {
   "cell_type": "code",
   "execution_count": 35,
   "metadata": {},
   "outputs": [
    {
     "output_type": "display_data",
     "data": {
      "text/plain": "HBox(children=(FloatProgress(value=0.0, max=50.0), HTML(value='')))",
      "application/vnd.jupyter.widget-view+json": {
       "version_major": 2,
       "version_minor": 0,
       "model_id": "1c7204adb8124a47a3d3b5878301b1c7"
      }
     },
     "metadata": {}
    },
    {
     "output_type": "stream",
     "name": "stdout",
     "text": [
      "\n"
     ]
    }
   ],
   "source": [
    "rank_list = []; url_list = []; menu_list = []; cafe_list = []\n",
    "price_list = []; addr_list = []; tel_list = []; hp_list = []\n",
    "for rest in tqdm_notebook(rest_list):\n",
    "    rank = int(rest.select_one('.sammyRank').string)\n",
    "    url = urljoin(url_base, rest.find('a')['href'])\n",
    "    tmp = rest.find('a').get_text().split('\\n')\n",
    "    menu = tmp[0].replace('\\r', '')\n",
    "    cafe = tmp[1]\n",
    "    rank_list.append(rank)\n",
    "    url_list.append(url)\n",
    "    menu_list.append(menu)\n",
    "    cafe_list.append(cafe)\n",
    "\n",
    "    html = urlopen(url)\n",
    "    soup_tmp = BeautifulSoup(html, 'html.parser')\n",
    "    tmp = soup_tmp.select_one('.addy').get_text().split(',')\n",
    "    price = tmp[0].split()[0][:-1]\n",
    "    price_list.append(price)\n",
    "    addr = ' '.join(tmp[0].split()[1:])\n",
    "    if len(tmp) == 1:\n",
    "        addr_list.append(addr)\n",
    "        tel_list.append(' ')\n",
    "        hp_list.append(' ')\n",
    "    elif len(tmp) == 2:\n",
    "        if addr.find('Multiple') >= 0:\n",
    "            addr_list.append(' ')\n",
    "            tel_list.append(' ')\n",
    "            hp_list.append(tmp[1])\n",
    "        else:\n",
    "            addr_list.append(addr)\n",
    "            tel_list.append(tmp[1].strip())\n",
    "            hp_list.append(' ')\n",
    "    elif len(tmp) == 3:\n",
    "        addr_list.append(addr)\n",
    "        tel_list.append(tmp[1].strip())\n",
    "        hp_list.append(tmp[2])\n",
    "    elif len(tmp) == 4:\n",
    "        addr += ', ' + tmp[1]\n",
    "        addr_list.append(addr)\n",
    "        tel_list.append(tmp[2].strip())\n",
    "        hp_list.append(tmp[3])"
   ]
  },
  {
   "cell_type": "code",
   "execution_count": 36,
   "metadata": {},
   "outputs": [
    {
     "output_type": "execute_result",
     "data": {
      "text/plain": [
       "   Rank                    Cafe               Menu  Price  \\\n",
       "0     1             Old Oak Tap                BLT    $10   \n",
       "1     2               Au Cheval      Fried Bologna     $9   \n",
       "2     3                    Xoco  Woodland Mushroom  $9.50   \n",
       "3     4               Al’s Deli         Roast Beef  $9.40   \n",
       "4     5  Publican Quality Meats               PB&L    $10   \n",
       "\n",
       "                    Address     Telephone                  Home Page  \n",
       "0      2109 W. Chicago Ave.  773-772-0406           theoldoaktap.com  \n",
       "1       800 W. Randolph St.  312-929-4580        aucheval.tumblr.com  \n",
       "2          445 N. Clark St.  312-334-3688            rickbayless.com  \n",
       "3  914 Noyes St.,  Evanston  847-475-9400                alsdeli.net  \n",
       "4        825 W. Fulton Mkt.  312-445-8977   publicanqualitymeats.com  "
      ],
      "text/html": "<div>\n<style scoped>\n    .dataframe tbody tr th:only-of-type {\n        vertical-align: middle;\n    }\n\n    .dataframe tbody tr th {\n        vertical-align: top;\n    }\n\n    .dataframe thead th {\n        text-align: right;\n    }\n</style>\n<table border=\"1\" class=\"dataframe\">\n  <thead>\n    <tr style=\"text-align: right;\">\n      <th></th>\n      <th>Rank</th>\n      <th>Cafe</th>\n      <th>Menu</th>\n      <th>Price</th>\n      <th>Address</th>\n      <th>Telephone</th>\n      <th>Home Page</th>\n    </tr>\n  </thead>\n  <tbody>\n    <tr>\n      <th>0</th>\n      <td>1</td>\n      <td>Old Oak Tap</td>\n      <td>BLT</td>\n      <td>$10</td>\n      <td>2109 W. Chicago Ave.</td>\n      <td>773-772-0406</td>\n      <td>theoldoaktap.com</td>\n    </tr>\n    <tr>\n      <th>1</th>\n      <td>2</td>\n      <td>Au Cheval</td>\n      <td>Fried Bologna</td>\n      <td>$9</td>\n      <td>800 W. Randolph St.</td>\n      <td>312-929-4580</td>\n      <td>aucheval.tumblr.com</td>\n    </tr>\n    <tr>\n      <th>2</th>\n      <td>3</td>\n      <td>Xoco</td>\n      <td>Woodland Mushroom</td>\n      <td>$9.50</td>\n      <td>445 N. Clark St.</td>\n      <td>312-334-3688</td>\n      <td>rickbayless.com</td>\n    </tr>\n    <tr>\n      <th>3</th>\n      <td>4</td>\n      <td>Al’s Deli</td>\n      <td>Roast Beef</td>\n      <td>$9.40</td>\n      <td>914 Noyes St.,  Evanston</td>\n      <td>847-475-9400</td>\n      <td>alsdeli.net</td>\n    </tr>\n    <tr>\n      <th>4</th>\n      <td>5</td>\n      <td>Publican Quality Meats</td>\n      <td>PB&amp;L</td>\n      <td>$10</td>\n      <td>825 W. Fulton Mkt.</td>\n      <td>312-445-8977</td>\n      <td>publicanqualitymeats.com</td>\n    </tr>\n  </tbody>\n</table>\n</div>"
     },
     "metadata": {},
     "execution_count": 36
    }
   ],
   "source": [
    "df2 = pd.DataFrame({\n",
    "    'Rank': rank_list,\n",
    "    'Cafe': cafe_list,\n",
    "    'Menu': menu_list,\n",
    "    'Price': price_list,\n",
    "    'Address': addr_list,\n",
    "    'Telephone': tel_list,\n",
    "    'Home Page': hp_list\n",
    "})\n",
    "df2.head()"
   ]
  },
  {
   "cell_type": "code",
   "execution_count": 92,
   "metadata": {},
   "outputs": [],
   "source": [
    "df2.to_csv('chicago2.csv', sep=',', encoding='utf-8')"
   ]
  }
 ]
}