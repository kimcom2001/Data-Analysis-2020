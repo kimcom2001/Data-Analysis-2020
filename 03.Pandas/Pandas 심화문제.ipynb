{
 "metadata": {
  "language_info": {
   "codemirror_mode": {
    "name": "ipython",
    "version": 3
   },
   "file_extension": ".py",
   "mimetype": "text/x-python",
   "name": "python",
   "nbconvert_exporter": "python",
   "pygments_lexer": "ipython3",
   "version": "3.8.3-final"
  },
  "orig_nbformat": 2,
  "kernelspec": {
   "name": "Python 3.8.3 64-bit (conda)",
   "display_name": "Python 3.8.3 64-bit (conda)",
   "metadata": {
    "interpreter": {
     "hash": "b3ba2566441a7c06988d0923437866b63cedc61552a5af99d1f4fb67d367b25f"
    }
   }
  }
 },
 "nbformat": 4,
 "nbformat_minor": 2,
 "cells": [
  {
   "cell_type": "code",
   "execution_count": 3,
   "metadata": {},
   "outputs": [],
   "source": [
    "import numpy as np\n",
    "import pandas as pd\n",
    "import seaborn as sns"
   ]
  },
  {
   "source": [
    "### 1. Iris - sns.load_dataset('Iris')\n",
    "\n",
    "a. 붓꽃 종(species)별로 꽃잎길이(sepal_length), 꽃잎폭(sepal_width), 꽃받침길이(petal_length), 꽃받침폭(petal_width)의 평균, 표준편차 등 기초통계량(describe())을 구하시오.\n",
    "\n",
    "b. 3분위수 (Q3)와 1분위수(Q1)의 차이보다 1.5배 크거나 작은 데이터는 이상치이다. 즉, Q1 - 1.5 * (Q3 - Q1)보다 작은 데이터 혹은 Q1 + 1.5 * (Q3 - Q1)보다 큰 데이터는 이상치이므로 제거하고 위의 4가지 항목에 대해서 평균, 표준편차를 구하시오."
   ],
   "cell_type": "markdown",
   "metadata": {}
  },
  {
   "cell_type": "code",
   "execution_count": 33,
   "metadata": {},
   "outputs": [],
   "source": [
    "import seaborn as sns\n",
    "iris = sns.load_dataset(\"Iris\")"
   ]
  },
  {
   "cell_type": "code",
   "execution_count": 138,
   "metadata": {},
   "outputs": [
    {
     "output_type": "execute_result",
     "data": {
      "text/plain": [
       "species                setosa  versicolor  virginica\n",
       "sepal_length count  50.000000   50.000000  50.000000\n",
       "             mean    5.006000    5.936000   6.588000\n",
       "             std     0.352490    0.516171   0.635880\n",
       "             min     4.300000    4.900000   4.900000\n",
       "             25%     4.800000    5.600000   6.225000\n",
       "             50%     5.000000    5.900000   6.500000\n",
       "             75%     5.200000    6.300000   6.900000\n",
       "             max     5.800000    7.000000   7.900000\n",
       "sepal_width  count  50.000000   50.000000  50.000000\n",
       "             mean    3.428000    2.770000   2.974000\n",
       "             std     0.379064    0.313798   0.322497\n",
       "             min     2.300000    2.000000   2.200000\n",
       "             25%     3.200000    2.525000   2.800000\n",
       "             50%     3.400000    2.800000   3.000000\n",
       "             75%     3.675000    3.000000   3.175000\n",
       "             max     4.400000    3.400000   3.800000\n",
       "petal_length count  50.000000   50.000000  50.000000\n",
       "             mean    1.462000    4.260000   5.552000\n",
       "             std     0.173664    0.469911   0.551895\n",
       "             min     1.000000    3.000000   4.500000\n",
       "             25%     1.400000    4.000000   5.100000\n",
       "             50%     1.500000    4.350000   5.550000\n",
       "             75%     1.575000    4.600000   5.875000\n",
       "             max     1.900000    5.100000   6.900000\n",
       "petal_width  count  50.000000   50.000000  50.000000\n",
       "             mean    0.246000    1.326000   2.026000\n",
       "             std     0.105386    0.197753   0.274650\n",
       "             min     0.100000    1.000000   1.400000\n",
       "             25%     0.200000    1.200000   1.800000\n",
       "             50%     0.200000    1.300000   2.000000\n",
       "             75%     0.300000    1.500000   2.300000\n",
       "             max     0.600000    1.800000   2.500000"
      ],
      "text/html": "<div>\n<style scoped>\n    .dataframe tbody tr th:only-of-type {\n        vertical-align: middle;\n    }\n\n    .dataframe tbody tr th {\n        vertical-align: top;\n    }\n\n    .dataframe thead th {\n        text-align: right;\n    }\n</style>\n<table border=\"1\" class=\"dataframe\">\n  <thead>\n    <tr style=\"text-align: right;\">\n      <th></th>\n      <th>species</th>\n      <th>setosa</th>\n      <th>versicolor</th>\n      <th>virginica</th>\n    </tr>\n  </thead>\n  <tbody>\n    <tr>\n      <th rowspan=\"8\" valign=\"top\">sepal_length</th>\n      <th>count</th>\n      <td>50.000000</td>\n      <td>50.000000</td>\n      <td>50.000000</td>\n    </tr>\n    <tr>\n      <th>mean</th>\n      <td>5.006000</td>\n      <td>5.936000</td>\n      <td>6.588000</td>\n    </tr>\n    <tr>\n      <th>std</th>\n      <td>0.352490</td>\n      <td>0.516171</td>\n      <td>0.635880</td>\n    </tr>\n    <tr>\n      <th>min</th>\n      <td>4.300000</td>\n      <td>4.900000</td>\n      <td>4.900000</td>\n    </tr>\n    <tr>\n      <th>25%</th>\n      <td>4.800000</td>\n      <td>5.600000</td>\n      <td>6.225000</td>\n    </tr>\n    <tr>\n      <th>50%</th>\n      <td>5.000000</td>\n      <td>5.900000</td>\n      <td>6.500000</td>\n    </tr>\n    <tr>\n      <th>75%</th>\n      <td>5.200000</td>\n      <td>6.300000</td>\n      <td>6.900000</td>\n    </tr>\n    <tr>\n      <th>max</th>\n      <td>5.800000</td>\n      <td>7.000000</td>\n      <td>7.900000</td>\n    </tr>\n    <tr>\n      <th rowspan=\"8\" valign=\"top\">sepal_width</th>\n      <th>count</th>\n      <td>50.000000</td>\n      <td>50.000000</td>\n      <td>50.000000</td>\n    </tr>\n    <tr>\n      <th>mean</th>\n      <td>3.428000</td>\n      <td>2.770000</td>\n      <td>2.974000</td>\n    </tr>\n    <tr>\n      <th>std</th>\n      <td>0.379064</td>\n      <td>0.313798</td>\n      <td>0.322497</td>\n    </tr>\n    <tr>\n      <th>min</th>\n      <td>2.300000</td>\n      <td>2.000000</td>\n      <td>2.200000</td>\n    </tr>\n    <tr>\n      <th>25%</th>\n      <td>3.200000</td>\n      <td>2.525000</td>\n      <td>2.800000</td>\n    </tr>\n    <tr>\n      <th>50%</th>\n      <td>3.400000</td>\n      <td>2.800000</td>\n      <td>3.000000</td>\n    </tr>\n    <tr>\n      <th>75%</th>\n      <td>3.675000</td>\n      <td>3.000000</td>\n      <td>3.175000</td>\n    </tr>\n    <tr>\n      <th>max</th>\n      <td>4.400000</td>\n      <td>3.400000</td>\n      <td>3.800000</td>\n    </tr>\n    <tr>\n      <th rowspan=\"8\" valign=\"top\">petal_length</th>\n      <th>count</th>\n      <td>50.000000</td>\n      <td>50.000000</td>\n      <td>50.000000</td>\n    </tr>\n    <tr>\n      <th>mean</th>\n      <td>1.462000</td>\n      <td>4.260000</td>\n      <td>5.552000</td>\n    </tr>\n    <tr>\n      <th>std</th>\n      <td>0.173664</td>\n      <td>0.469911</td>\n      <td>0.551895</td>\n    </tr>\n    <tr>\n      <th>min</th>\n      <td>1.000000</td>\n      <td>3.000000</td>\n      <td>4.500000</td>\n    </tr>\n    <tr>\n      <th>25%</th>\n      <td>1.400000</td>\n      <td>4.000000</td>\n      <td>5.100000</td>\n    </tr>\n    <tr>\n      <th>50%</th>\n      <td>1.500000</td>\n      <td>4.350000</td>\n      <td>5.550000</td>\n    </tr>\n    <tr>\n      <th>75%</th>\n      <td>1.575000</td>\n      <td>4.600000</td>\n      <td>5.875000</td>\n    </tr>\n    <tr>\n      <th>max</th>\n      <td>1.900000</td>\n      <td>5.100000</td>\n      <td>6.900000</td>\n    </tr>\n    <tr>\n      <th rowspan=\"8\" valign=\"top\">petal_width</th>\n      <th>count</th>\n      <td>50.000000</td>\n      <td>50.000000</td>\n      <td>50.000000</td>\n    </tr>\n    <tr>\n      <th>mean</th>\n      <td>0.246000</td>\n      <td>1.326000</td>\n      <td>2.026000</td>\n    </tr>\n    <tr>\n      <th>std</th>\n      <td>0.105386</td>\n      <td>0.197753</td>\n      <td>0.274650</td>\n    </tr>\n    <tr>\n      <th>min</th>\n      <td>0.100000</td>\n      <td>1.000000</td>\n      <td>1.400000</td>\n    </tr>\n    <tr>\n      <th>25%</th>\n      <td>0.200000</td>\n      <td>1.200000</td>\n      <td>1.800000</td>\n    </tr>\n    <tr>\n      <th>50%</th>\n      <td>0.200000</td>\n      <td>1.300000</td>\n      <td>2.000000</td>\n    </tr>\n    <tr>\n      <th>75%</th>\n      <td>0.300000</td>\n      <td>1.500000</td>\n      <td>2.300000</td>\n    </tr>\n    <tr>\n      <th>max</th>\n      <td>0.600000</td>\n      <td>1.800000</td>\n      <td>2.500000</td>\n    </tr>\n  </tbody>\n</table>\n</div>"
     },
     "metadata": {},
     "execution_count": 138
    }
   ],
   "source": [
    "# a\n",
    "iris.groupby(iris.species)['sepal_length', 'sepal_width', 'petal_length', 'petal_width'].describe().T"
   ]
  },
  {
   "cell_type": "code",
   "execution_count": 173,
   "metadata": {
    "tags": []
   },
   "outputs": [
    {
     "output_type": "stream",
     "name": "stdout",
     "text": [
      "[5.1] ['setosa']\n[4.9] ['setosa']\n[4.7] ['setosa']\n[4.6] ['setosa']\n[5.0] ['setosa']\n[5.4] ['setosa']\n[4.6] ['setosa']\n[5.0] ['setosa']\n[4.4] ['setosa']\n[4.9] ['setosa']\n[5.4] ['setosa']\n[4.8] ['setosa']\n[4.8] ['setosa']\n[4.3] ['setosa']\n[5.8] ['setosa']\n[5.7] ['setosa']\n[5.4] ['setosa']\n[5.1] ['setosa']\n[5.7] ['setosa']\n[5.1] ['setosa']\n[5.4] ['setosa']\n[5.1] ['setosa']\n[4.6] ['setosa']\n[5.1] ['setosa']\n[4.8] ['setosa']\n[5.0] ['setosa']\n[5.0] ['setosa']\n[5.2] ['setosa']\n[5.2] ['setosa']\n[4.7] ['setosa']\n[4.8] ['setosa']\n[5.4] ['setosa']\n[5.2] ['setosa']\n[5.5] ['setosa']\n[4.9] ['setosa']\n[5.0] ['setosa']\n[5.5] ['setosa']\n[4.9] ['setosa']\n[4.4] ['setosa']\n[5.1] ['setosa']\n[5.0] ['setosa']\n[4.5] ['setosa']\n[4.4] ['setosa']\n[5.0] ['setosa']\n[5.1] ['setosa']\n[4.8] ['setosa']\n[5.1] ['setosa']\n[4.6] ['setosa']\n[5.3] ['setosa']\n[5.0] ['setosa']\n[7.0] ['versicolor']\n[6.4] ['versicolor']\n[6.9] ['versicolor']\n[5.5] ['versicolor']\n[6.5] ['versicolor']\n[5.7] ['versicolor']\n[6.3] ['versicolor']\n[4.9] ['versicolor']\n[6.6] ['versicolor']\n[5.2] ['versicolor']\n[5.0] ['versicolor']\n[5.9] ['versicolor']\n[6.0] ['versicolor']\n[6.1] ['versicolor']\n[5.6] ['versicolor']\n[6.7] ['versicolor']\n[5.6] ['versicolor']\n[5.8] ['versicolor']\n[6.2] ['versicolor']\n[5.6] ['versicolor']\n[5.9] ['versicolor']\n[6.1] ['versicolor']\n[6.3] ['versicolor']\n[6.1] ['versicolor']\n[6.4] ['versicolor']\n[6.6] ['versicolor']\n[6.8] ['versicolor']\n[6.7] ['versicolor']\n[6.0] ['versicolor']\n[5.7] ['versicolor']\n[5.5] ['versicolor']\n[5.5] ['versicolor']\n[5.8] ['versicolor']\n[6.0] ['versicolor']\n[5.4] ['versicolor']\n[6.0] ['versicolor']\n[6.7] ['versicolor']\n[6.3] ['versicolor']\n[5.6] ['versicolor']\n[5.5] ['versicolor']\n[5.5] ['versicolor']\n[6.1] ['versicolor']\n[5.8] ['versicolor']\n[5.0] ['versicolor']\n[5.6] ['versicolor']\n[5.7] ['versicolor']\n[5.7] ['versicolor']\n[6.2] ['versicolor']\n[5.1] ['versicolor']\n[5.7] ['versicolor']\n[6.3] ['virginica']\n[5.8] ['virginica']\n[7.1] ['virginica']\n[6.3] ['virginica']\n[6.5] ['virginica']\n[7.6] ['virginica']\n[4.9] ['virginica']\n[7.3] ['virginica']\n[6.7] ['virginica']\n[7.2] ['virginica']\n[6.5] ['virginica']\n[6.4] ['virginica']\n[6.8] ['virginica']\n[5.7] ['virginica']\n[5.8] ['virginica']\n[6.4] ['virginica']\n[6.5] ['virginica']\n[7.7] ['virginica']\n[7.7] ['virginica']\n[6.0] ['virginica']\n[6.9] ['virginica']\n[5.6] ['virginica']\n[7.7] ['virginica']\n[6.3] ['virginica']\n[6.7] ['virginica']\n[7.2] ['virginica']\n[6.2] ['virginica']\n[6.1] ['virginica']\n[6.4] ['virginica']\n[7.2] ['virginica']\n[7.4] ['virginica']\n[7.9] ['virginica']\n[6.4] ['virginica']\n[6.3] ['virginica']\n[6.1] ['virginica']\n[7.7] ['virginica']\n[6.3] ['virginica']\n[6.4] ['virginica']\n[6.0] ['virginica']\n[6.9] ['virginica']\n[6.7] ['virginica']\n[6.9] ['virginica']\n[5.8] ['virginica']\n[6.8] ['virginica']\n[6.7] ['virginica']\n[6.7] ['virginica']\n[6.3] ['virginica']\n[6.5] ['virginica']\n[6.2] ['virginica']\n[5.9] ['virginica']\n[3.5] ['setosa']\n[3.0] ['setosa']\n[3.2] ['setosa']\n[3.1] ['setosa']\n[3.6] ['setosa']\n[3.9] ['setosa']\n[3.4] ['setosa']\n[3.4] ['setosa']\n[2.9] ['setosa']\n[3.1] ['setosa']\n[3.7] ['setosa']\n[3.4] ['setosa']\n[3.0] ['setosa']\n[3.0] ['setosa']\n[4.0] ['setosa']\n[3.9] ['setosa']\n[3.5] ['setosa']\n[3.8] ['setosa']\n[3.8] ['setosa']\n[3.4] ['setosa']\n[3.7] ['setosa']\n[3.6] ['setosa']\n[3.3] ['setosa']\n[3.4] ['setosa']\n[3.0] ['setosa']\n[3.4] ['setosa']\n[3.5] ['setosa']\n[3.4] ['setosa']\n[3.2] ['setosa']\n[3.1] ['setosa']\n[3.4] ['setosa']\n[3.1] ['setosa']\n[3.2] ['setosa']\n[3.5] ['setosa']\n[3.6] ['setosa']\n[3.0] ['setosa']\n[3.4] ['setosa']\n[3.5] ['setosa']\n[2.3] ['setosa']\n[3.2] ['setosa']\n[3.5] ['setosa']\n[3.8] ['setosa']\n[3.0] ['setosa']\n[3.8] ['setosa']\n[3.2] ['setosa']\n[3.7] ['setosa']\n[3.3] ['setosa']\n[3.2] ['versicolor']\n[3.2] ['versicolor']\n[3.1] ['versicolor']\n[2.3] ['versicolor']\n[2.8] ['versicolor']\n[2.8] ['versicolor']\n[3.3] ['versicolor']\n[2.4] ['versicolor']\n[2.9] ['versicolor']\n[2.7] ['versicolor']\n[3.0] ['versicolor']\n[2.2] ['versicolor']\n[2.9] ['versicolor']\n[2.9] ['versicolor']\n[3.1] ['versicolor']\n[3.0] ['versicolor']\n[2.7] ['versicolor']\n[2.2] ['versicolor']\n[2.5] ['versicolor']\n[3.2] ['versicolor']\n[2.8] ['versicolor']\n[2.5] ['versicolor']\n[2.8] ['versicolor']\n[2.9] ['versicolor']\n[3.0] ['versicolor']\n[2.8] ['versicolor']\n[3.0] ['versicolor']\n[2.9] ['versicolor']\n[2.6] ['versicolor']\n[2.4] ['versicolor']\n[2.4] ['versicolor']\n[2.7] ['versicolor']\n[2.7] ['versicolor']\n[3.0] ['versicolor']\n[3.4] ['versicolor']\n[3.1] ['versicolor']\n[2.3] ['versicolor']\n[3.0] ['versicolor']\n[2.5] ['versicolor']\n[2.6] ['versicolor']\n[3.0] ['versicolor']\n[2.6] ['versicolor']\n[2.3] ['versicolor']\n[2.7] ['versicolor']\n[3.0] ['versicolor']\n[2.9] ['versicolor']\n[2.9] ['versicolor']\n[2.5] ['versicolor']\n[2.8] ['versicolor']\n[3.3] ['virginica']\n[2.7] ['virginica']\n[3.0] ['virginica']\n[2.9] ['virginica']\n[3.0] ['virginica']\n[3.0] ['virginica']\n[2.5] ['virginica']\n[2.9] ['virginica']\n[2.5] ['virginica']\n[3.6] ['virginica']\n[3.2] ['virginica']\n[2.7] ['virginica']\n[3.0] ['virginica']\n[2.5] ['virginica']\n[2.8] ['virginica']\n[3.2] ['virginica']\n[3.0] ['virginica']\n[3.8] ['virginica']\n[2.6] ['virginica']\n[2.2] ['virginica']\n[3.2] ['virginica']\n[2.8] ['virginica']\n[2.8] ['virginica']\n[2.7] ['virginica']\n[3.3] ['virginica']\n[3.2] ['virginica']\n[2.8] ['virginica']\n[3.0] ['virginica']\n[2.8] ['virginica']\n[3.0] ['virginica']\n[2.8] ['virginica']\n[3.8] ['virginica']\n[2.8] ['virginica']\n[2.8] ['virginica']\n[2.6] ['virginica']\n[3.0] ['virginica']\n[3.4] ['virginica']\n[3.1] ['virginica']\n[3.0] ['virginica']\n[3.1] ['virginica']\n[3.1] ['virginica']\n[3.1] ['virginica']\n[2.7] ['virginica']\n[3.2] ['virginica']\n[3.3] ['virginica']\n[3.0] ['virginica']\n[2.5] ['virginica']\n[3.0] ['virginica']\n[3.4] ['virginica']\n[3.0] ['virginica']\n[1.4] ['setosa']\n[1.4] ['setosa']\n[1.3] ['setosa']\n[1.5] ['setosa']\n[1.4] ['setosa']\n[1.7] ['setosa']\n[1.4] ['setosa']\n[1.5] ['setosa']\n[1.4] ['setosa']\n[1.5] ['setosa']\n[1.5] ['setosa']\n[1.6] ['setosa']\n[1.4] ['setosa']\n[1.1] ['setosa']\n[1.2] ['setosa']\n[1.5] ['setosa']\n[1.3] ['setosa']\n[1.4] ['setosa']\n[1.7] ['setosa']\n[1.5] ['setosa']\n[1.7] ['setosa']\n[1.5] ['setosa']\n[1.0] ['setosa']\n[1.7] ['setosa']\n[1.9] ['setosa']\n[1.6] ['setosa']\n[1.6] ['setosa']\n[1.5] ['setosa']\n[1.4] ['setosa']\n[1.6] ['setosa']\n[1.6] ['setosa']\n[1.5] ['setosa']\n[1.5] ['setosa']\n[1.4] ['setosa']\n[1.5] ['setosa']\n[1.2] ['setosa']\n[1.3] ['setosa']\n[1.4] ['setosa']\n[1.3] ['setosa']\n[1.5] ['setosa']\n[1.3] ['setosa']\n[1.3] ['setosa']\n[1.3] ['setosa']\n[1.6] ['setosa']\n[1.9] ['setosa']\n[1.4] ['setosa']\n[1.6] ['setosa']\n[1.4] ['setosa']\n[1.5] ['setosa']\n[1.4] ['setosa']\n[4.7] ['versicolor']\n[4.5] ['versicolor']\n[4.9] ['versicolor']\n[4.0] ['versicolor']\n[4.6] ['versicolor']\n[4.5] ['versicolor']\n[4.7] ['versicolor']\n[3.3] ['versicolor']\n[4.6] ['versicolor']\n[3.9] ['versicolor']\n[3.5] ['versicolor']\n[4.2] ['versicolor']\n[4.0] ['versicolor']\n[4.7] ['versicolor']\n[3.6] ['versicolor']\n[4.4] ['versicolor']\n[4.5] ['versicolor']\n[4.1] ['versicolor']\n[4.5] ['versicolor']\n[3.9] ['versicolor']\n[4.8] ['versicolor']\n[4.0] ['versicolor']\n[4.9] ['versicolor']\n[4.7] ['versicolor']\n[4.3] ['versicolor']\n[4.4] ['versicolor']\n[4.8] ['versicolor']\n[5.0] ['versicolor']\n[4.5] ['versicolor']\n[3.5] ['versicolor']\n[3.8] ['versicolor']\n[3.7] ['versicolor']\n[3.9] ['versicolor']\n[5.1] ['versicolor']\n[4.5] ['versicolor']\n[4.5] ['versicolor']\n[4.7] ['versicolor']\n[4.4] ['versicolor']\n[4.1] ['versicolor']\n[4.0] ['versicolor']\n[4.4] ['versicolor']\n[4.6] ['versicolor']\n[4.0] ['versicolor']\n[3.3] ['versicolor']\n[4.2] ['versicolor']\n[4.2] ['versicolor']\n[4.2] ['versicolor']\n[4.3] ['versicolor']\n[3.0] ['versicolor']\n[4.1] ['versicolor']\n[6.0] ['virginica']\n[5.1] ['virginica']\n[5.9] ['virginica']\n[5.6] ['virginica']\n[5.8] ['virginica']\n[6.6] ['virginica']\n[4.5] ['virginica']\n[6.3] ['virginica']\n[5.8] ['virginica']\n[6.1] ['virginica']\n[5.1] ['virginica']\n[5.3] ['virginica']\n[5.5] ['virginica']\n[5.0] ['virginica']\n[5.1] ['virginica']\n[5.3] ['virginica']\n[5.5] ['virginica']\n[6.7] ['virginica']\n[6.9] ['virginica']\n[5.0] ['virginica']\n[5.7] ['virginica']\n[4.9] ['virginica']\n[6.7] ['virginica']\n[4.9] ['virginica']\n[5.7] ['virginica']\n[6.0] ['virginica']\n[4.8] ['virginica']\n[4.9] ['virginica']\n[5.6] ['virginica']\n[5.8] ['virginica']\n[6.1] ['virginica']\n[6.4] ['virginica']\n[5.6] ['virginica']\n[5.1] ['virginica']\n[5.6] ['virginica']\n[6.1] ['virginica']\n[5.6] ['virginica']\n[5.5] ['virginica']\n[4.8] ['virginica']\n[5.4] ['virginica']\n[5.6] ['virginica']\n[5.1] ['virginica']\n[5.1] ['virginica']\n[5.9] ['virginica']\n[5.7] ['virginica']\n[5.2] ['virginica']\n[5.0] ['virginica']\n[5.2] ['virginica']\n[5.4] ['virginica']\n[5.1] ['virginica']\n[0.2] ['setosa']\n[0.2] ['setosa']\n[0.2] ['setosa']\n[0.2] ['setosa']\n[0.2] ['setosa']\n[0.4] ['setosa']\n[0.3] ['setosa']\n[0.2] ['setosa']\n[0.2] ['setosa']\n[0.1] ['setosa']\n[0.2] ['setosa']\n[0.2] ['setosa']\n[0.1] ['setosa']\n[0.1] ['setosa']\n[0.2] ['setosa']\n[0.4] ['setosa']\n[0.4] ['setosa']\n[0.3] ['setosa']\n[0.3] ['setosa']\n[0.3] ['setosa']\n[0.2] ['setosa']\n[0.4] ['setosa']\n[0.2] ['setosa']\n[0.5] ['setosa']\n[0.2] ['setosa']\n[0.2] ['setosa']\n[0.4] ['setosa']\n[0.2] ['setosa']\n[0.2] ['setosa']\n[0.2] ['setosa']\n[0.2] ['setosa']\n[0.4] ['setosa']\n[0.1] ['setosa']\n[0.2] ['setosa']\n[0.2] ['setosa']\n[0.2] ['setosa']\n[0.2] ['setosa']\n[0.1] ['setosa']\n[0.2] ['setosa']\n[0.2] ['setosa']\n[0.3] ['setosa']\n[0.3] ['setosa']\n[0.2] ['setosa']\n[0.6] ['setosa']\n[0.4] ['setosa']\n[0.3] ['setosa']\n[0.2] ['setosa']\n[0.2] ['setosa']\n[0.2] ['setosa']\n[0.2] ['setosa']\n[1.4] ['versicolor']\n[1.5] ['versicolor']\n[1.5] ['versicolor']\n[1.3] ['versicolor']\n[1.5] ['versicolor']\n[1.3] ['versicolor']\n[1.6] ['versicolor']\n[1.0] ['versicolor']\n[1.3] ['versicolor']\n[1.4] ['versicolor']\n[1.0] ['versicolor']\n[1.5] ['versicolor']\n[1.0] ['versicolor']\n[1.4] ['versicolor']\n[1.3] ['versicolor']\n[1.4] ['versicolor']\n[1.5] ['versicolor']\n[1.0] ['versicolor']\n[1.5] ['versicolor']\n[1.1] ['versicolor']\n[1.8] ['versicolor']\n[1.3] ['versicolor']\n[1.5] ['versicolor']\n[1.2] ['versicolor']\n[1.3] ['versicolor']\n[1.4] ['versicolor']\n[1.4] ['versicolor']\n[1.7] ['versicolor']\n[1.5] ['versicolor']\n[1.0] ['versicolor']\n[1.1] ['versicolor']\n[1.0] ['versicolor']\n[1.2] ['versicolor']\n[1.6] ['versicolor']\n[1.5] ['versicolor']\n[1.6] ['versicolor']\n[1.5] ['versicolor']\n[1.3] ['versicolor']\n[1.3] ['versicolor']\n[1.3] ['versicolor']\n[1.2] ['versicolor']\n[1.4] ['versicolor']\n[1.2] ['versicolor']\n[1.0] ['versicolor']\n[1.3] ['versicolor']\n[1.2] ['versicolor']\n[1.3] ['versicolor']\n[1.3] ['versicolor']\n[1.1] ['versicolor']\n[1.3] ['versicolor']\n[2.5] ['virginica']\n[1.9] ['virginica']\n[2.1] ['virginica']\n[1.8] ['virginica']\n[2.2] ['virginica']\n[2.1] ['virginica']\n[1.7] ['virginica']\n[1.8] ['virginica']\n[1.8] ['virginica']\n[2.5] ['virginica']\n[2.0] ['virginica']\n[1.9] ['virginica']\n[2.1] ['virginica']\n[2.0] ['virginica']\n[2.4] ['virginica']\n[2.3] ['virginica']\n[1.8] ['virginica']\n[2.2] ['virginica']\n[2.3] ['virginica']\n[1.5] ['virginica']\n[2.3] ['virginica']\n[2.0] ['virginica']\n[2.0] ['virginica']\n[1.8] ['virginica']\n[2.1] ['virginica']\n[1.8] ['virginica']\n[1.8] ['virginica']\n[1.8] ['virginica']\n[2.1] ['virginica']\n[1.6] ['virginica']\n[1.9] ['virginica']\n[2.0] ['virginica']\n[2.2] ['virginica']\n[1.5] ['virginica']\n[1.4] ['virginica']\n[2.3] ['virginica']\n[2.4] ['virginica']\n[1.8] ['virginica']\n[1.8] ['virginica']\n[2.1] ['virginica']\n[2.4] ['virginica']\n[2.3] ['virginica']\n[1.9] ['virginica']\n[2.3] ['virginica']\n[2.5] ['virginica']\n[2.3] ['virginica']\n[1.9] ['virginica']\n[2.0] ['virginica']\n[2.3] ['virginica']\n[1.8] ['virginica']\n"
     ]
    }
   ],
   "source": [
    "# b 포기\n",
    "\n",
    "def q3cut_lower(s):\n",
    "\n",
    "    Q1, Q3 = np.percentile(s, [25, 75])\n",
    "    iqr = Q3 - Q1\n",
    "    lower_bound = Q1 - (1.5 * iqr)\n",
    "    return lower_bound\n",
    "\n",
    "def q3cut_upper(s):\n",
    "\n",
    "    Q1, Q3 = np.percentile(s, [25, 75])\n",
    "    iqr = Q3 - Q1\n",
    "    upper_bound = Q3 + (1.5 * iqr)\n",
    "    return upper_bound\n",
    "\n",
    "sepal_length_Q1 = q3cut_lower(iris.sepal_length)\n",
    "sepal_length_Q3 = q3cut_upper(iris.sepal_length)\n",
    "\n",
    "sepal_width_Q1 = q3cut_lower(iris.sepal_width)\n",
    "sepal_width_Q3 = q3cut_upper(iris.sepal_width)\n",
    "\n",
    "petal_length_Q1 = q3cut_lower(iris.petal_length)\n",
    "petal_length_Q3 = q3cut_upper(iris.petal_length)\n",
    "\n",
    "petal_width_Q1 = q3cut_lower(iris.petal_width)\n",
    "petal_width_Q3 = q3cut_upper(iris.petal_width)\n",
    "\n",
    "\n",
    "def distinguish_sepal_length(s):\n",
    "    for i in range(len(iris.species)):\n",
    "        x = iris.sepal_length[i]\n",
    "        iris_sepal_length = []\n",
    "        species_sepal_length = []\n",
    "        if x < sepal_length_Q1 or x > sepal_length_Q3:\n",
    "            continue\n",
    "        else:\n",
    "            y = iris.species[i]\n",
    "            iris_sepal_length.append(x)\n",
    "            species_sepal_length.append(y)\n",
    "            print(iris_sepal_length, species_sepal_length)\n",
    "\n",
    "def distinguish_sepal_width(s):\n",
    "    for i in range(len(iris.species)):\n",
    "        x = iris.sepal_width[i]\n",
    "        iris_sepal_width = []\n",
    "        species_sepal_width = []\n",
    "        if x < sepal_width_Q1 or x > sepal_width_Q3:\n",
    "            continue\n",
    "        else:\n",
    "            y = iris.species[i]\n",
    "            iris_sepal_width.append(x)\n",
    "            species_sepal_width.append(y)\n",
    "            print(iris_sepal_width, species_sepal_width)\n",
    "def distinguish_petal_length(s):\n",
    "    for i in range(len(iris.species)):\n",
    "        x = iris.petal_length[i]\n",
    "        iris_petal_length = []\n",
    "        species_petal_length = []\n",
    "        if x < petal_length_Q1 or x > petal_length_Q3:\n",
    "            continue\n",
    "        else:\n",
    "            y = iris.species[i]\n",
    "            iris_petal_length.append(x)\n",
    "            species_petal_length.append(y)\n",
    "            print(iris_petal_length, species_petal_length)\n",
    "\n",
    "def distinguish_petal_width(s):\n",
    "    for i in range(len(iris.species)):\n",
    "        x = iris.petal_width[i]\n",
    "        iris_petal_width = []\n",
    "        species_petal_width = []\n",
    "        if x < petal_width_Q1 or x > petal_width_Q3:\n",
    "            continue\n",
    "        else:\n",
    "            y = iris.species[i]\n",
    "            iris_petal_width.append(x)\n",
    "            species_petal_width.append(y)\n",
    "            print(iris_petal_width, species_petal_width)\n",
    "\n",
    "distinguish_sepal_length(iris.sepal_length)\n",
    "distinguish_sepal_width(iris.sepal_width)\n",
    "distinguish_petal_length(iris.petal_length)\n",
    "distinguish_petal_width(iris.petal_width)"
   ]
  },
  {
   "source": [
    "### 2. Titanic - sns.load_dataset('titanic')\n",
    "\n",
    "a. 타이타닉호의 승객에 대해 나이와 성별에 의한 카테고리 열인 category1 열을 만드시오. category1 카테고리는 다음과 같이 정의됨\n",
    "    1) 20살이 넘으면 성별을 그대로 사용한다.\n",
    "    2) 20살 미만이면 성별에 관계없이 \"child\"라고 한다.\n",
    "\n",
    "b. 타이타닉호의 승객 중 나이를 명시하지 않는 고객은 나이를 명시한 고객의 평균 나이 값이 되도록 titanic 데이터 프레임을 고치시오.\n",
    "\n",
    "c. 성별, 선실(class)별, 출발지(embark_town)별 생존율을 구하시오.\n",
    "\n",
    "d. 타이타닉호 승객을 '미성년자', '청년', '중년', '장년', '노년' 나이 그룹으로 나누고, 각 그룹별 생존율을 구하시오.\n",
    "    bin = [1, 20, 30, 50, 70, 100]\n",
    "    labels = ['미성년자', '청년', '중년', '장년', '노년']\n",
    "\n",
    "e. qcut 명령으로 세 개의 나이 그룹을 만들고, 나이 그룹별 남녀 성비와 생존율을 구하시오."
   ],
   "cell_type": "markdown",
   "metadata": {}
  },
  {
   "cell_type": "code",
   "execution_count": 280,
   "metadata": {},
   "outputs": [
    {
     "output_type": "execute_result",
     "data": {
      "text/plain": [
       "     survived  pclass     sex   age  sibsp  parch     fare embarked   class  \\\n",
       "0           0       3    male  22.0      1      0   7.2500        S   Third   \n",
       "1           1       1  female  38.0      1      0  71.2833        C   First   \n",
       "2           1       3  female  26.0      0      0   7.9250        S   Third   \n",
       "3           1       1  female  35.0      1      0  53.1000        S   First   \n",
       "4           0       3    male  35.0      0      0   8.0500        S   Third   \n",
       "..        ...     ...     ...   ...    ...    ...      ...      ...     ...   \n",
       "886         0       2    male  27.0      0      0  13.0000        S  Second   \n",
       "887         1       1  female  19.0      0      0  30.0000        S   First   \n",
       "888         0       3  female   NaN      1      2  23.4500        S   Third   \n",
       "889         1       1    male  26.0      0      0  30.0000        C   First   \n",
       "890         0       3    male  32.0      0      0   7.7500        Q   Third   \n",
       "\n",
       "       who  adult_male deck  embark_town alive  alone  \n",
       "0      man        True  NaN  Southampton    no  False  \n",
       "1    woman       False    C    Cherbourg   yes  False  \n",
       "2    woman       False  NaN  Southampton   yes   True  \n",
       "3    woman       False    C  Southampton   yes  False  \n",
       "4      man        True  NaN  Southampton    no   True  \n",
       "..     ...         ...  ...          ...   ...    ...  \n",
       "886    man        True  NaN  Southampton    no   True  \n",
       "887  woman       False    B  Southampton   yes   True  \n",
       "888  woman       False  NaN  Southampton    no  False  \n",
       "889    man        True    C    Cherbourg   yes   True  \n",
       "890    man        True  NaN   Queenstown    no   True  \n",
       "\n",
       "[891 rows x 15 columns]"
      ],
      "text/html": "<div>\n<style scoped>\n    .dataframe tbody tr th:only-of-type {\n        vertical-align: middle;\n    }\n\n    .dataframe tbody tr th {\n        vertical-align: top;\n    }\n\n    .dataframe thead th {\n        text-align: right;\n    }\n</style>\n<table border=\"1\" class=\"dataframe\">\n  <thead>\n    <tr style=\"text-align: right;\">\n      <th></th>\n      <th>survived</th>\n      <th>pclass</th>\n      <th>sex</th>\n      <th>age</th>\n      <th>sibsp</th>\n      <th>parch</th>\n      <th>fare</th>\n      <th>embarked</th>\n      <th>class</th>\n      <th>who</th>\n      <th>adult_male</th>\n      <th>deck</th>\n      <th>embark_town</th>\n      <th>alive</th>\n      <th>alone</th>\n    </tr>\n  </thead>\n  <tbody>\n    <tr>\n      <th>0</th>\n      <td>0</td>\n      <td>3</td>\n      <td>male</td>\n      <td>22.0</td>\n      <td>1</td>\n      <td>0</td>\n      <td>7.2500</td>\n      <td>S</td>\n      <td>Third</td>\n      <td>man</td>\n      <td>True</td>\n      <td>NaN</td>\n      <td>Southampton</td>\n      <td>no</td>\n      <td>False</td>\n    </tr>\n    <tr>\n      <th>1</th>\n      <td>1</td>\n      <td>1</td>\n      <td>female</td>\n      <td>38.0</td>\n      <td>1</td>\n      <td>0</td>\n      <td>71.2833</td>\n      <td>C</td>\n      <td>First</td>\n      <td>woman</td>\n      <td>False</td>\n      <td>C</td>\n      <td>Cherbourg</td>\n      <td>yes</td>\n      <td>False</td>\n    </tr>\n    <tr>\n      <th>2</th>\n      <td>1</td>\n      <td>3</td>\n      <td>female</td>\n      <td>26.0</td>\n      <td>0</td>\n      <td>0</td>\n      <td>7.9250</td>\n      <td>S</td>\n      <td>Third</td>\n      <td>woman</td>\n      <td>False</td>\n      <td>NaN</td>\n      <td>Southampton</td>\n      <td>yes</td>\n      <td>True</td>\n    </tr>\n    <tr>\n      <th>3</th>\n      <td>1</td>\n      <td>1</td>\n      <td>female</td>\n      <td>35.0</td>\n      <td>1</td>\n      <td>0</td>\n      <td>53.1000</td>\n      <td>S</td>\n      <td>First</td>\n      <td>woman</td>\n      <td>False</td>\n      <td>C</td>\n      <td>Southampton</td>\n      <td>yes</td>\n      <td>False</td>\n    </tr>\n    <tr>\n      <th>4</th>\n      <td>0</td>\n      <td>3</td>\n      <td>male</td>\n      <td>35.0</td>\n      <td>0</td>\n      <td>0</td>\n      <td>8.0500</td>\n      <td>S</td>\n      <td>Third</td>\n      <td>man</td>\n      <td>True</td>\n      <td>NaN</td>\n      <td>Southampton</td>\n      <td>no</td>\n      <td>True</td>\n    </tr>\n    <tr>\n      <th>...</th>\n      <td>...</td>\n      <td>...</td>\n      <td>...</td>\n      <td>...</td>\n      <td>...</td>\n      <td>...</td>\n      <td>...</td>\n      <td>...</td>\n      <td>...</td>\n      <td>...</td>\n      <td>...</td>\n      <td>...</td>\n      <td>...</td>\n      <td>...</td>\n      <td>...</td>\n    </tr>\n    <tr>\n      <th>886</th>\n      <td>0</td>\n      <td>2</td>\n      <td>male</td>\n      <td>27.0</td>\n      <td>0</td>\n      <td>0</td>\n      <td>13.0000</td>\n      <td>S</td>\n      <td>Second</td>\n      <td>man</td>\n      <td>True</td>\n      <td>NaN</td>\n      <td>Southampton</td>\n      <td>no</td>\n      <td>True</td>\n    </tr>\n    <tr>\n      <th>887</th>\n      <td>1</td>\n      <td>1</td>\n      <td>female</td>\n      <td>19.0</td>\n      <td>0</td>\n      <td>0</td>\n      <td>30.0000</td>\n      <td>S</td>\n      <td>First</td>\n      <td>woman</td>\n      <td>False</td>\n      <td>B</td>\n      <td>Southampton</td>\n      <td>yes</td>\n      <td>True</td>\n    </tr>\n    <tr>\n      <th>888</th>\n      <td>0</td>\n      <td>3</td>\n      <td>female</td>\n      <td>NaN</td>\n      <td>1</td>\n      <td>2</td>\n      <td>23.4500</td>\n      <td>S</td>\n      <td>Third</td>\n      <td>woman</td>\n      <td>False</td>\n      <td>NaN</td>\n      <td>Southampton</td>\n      <td>no</td>\n      <td>False</td>\n    </tr>\n    <tr>\n      <th>889</th>\n      <td>1</td>\n      <td>1</td>\n      <td>male</td>\n      <td>26.0</td>\n      <td>0</td>\n      <td>0</td>\n      <td>30.0000</td>\n      <td>C</td>\n      <td>First</td>\n      <td>man</td>\n      <td>True</td>\n      <td>C</td>\n      <td>Cherbourg</td>\n      <td>yes</td>\n      <td>True</td>\n    </tr>\n    <tr>\n      <th>890</th>\n      <td>0</td>\n      <td>3</td>\n      <td>male</td>\n      <td>32.0</td>\n      <td>0</td>\n      <td>0</td>\n      <td>7.7500</td>\n      <td>Q</td>\n      <td>Third</td>\n      <td>man</td>\n      <td>True</td>\n      <td>NaN</td>\n      <td>Queenstown</td>\n      <td>no</td>\n      <td>True</td>\n    </tr>\n  </tbody>\n</table>\n<p>891 rows × 15 columns</p>\n</div>"
     },
     "metadata": {},
     "execution_count": 280
    }
   ],
   "source": [
    "titanic = sns.load_dataset(\"titanic\")\n",
    "titanic"
   ]
  },
  {
   "cell_type": "code",
   "execution_count": 281,
   "metadata": {},
   "outputs": [
    {
     "output_type": "execute_result",
     "data": {
      "text/plain": [
       "     survived  pclass     sex   age  sibsp  parch   fare embarked   class  \\\n",
       "886         0       2    male  27.0      0      0  13.00        S  Second   \n",
       "887         1       1  female  19.0      0      0  30.00        S   First   \n",
       "888         0       3  female   NaN      1      2  23.45        S   Third   \n",
       "889         1       1    male  26.0      0      0  30.00        C   First   \n",
       "890         0       3    male  32.0      0      0   7.75        Q   Third   \n",
       "\n",
       "       who  adult_male deck  embark_town alive  alone category1  \n",
       "886    man        True  NaN  Southampton    no   True      male  \n",
       "887  woman       False    B  Southampton   yes   True     child  \n",
       "888  woman       False  NaN  Southampton    no  False     child  \n",
       "889    man        True    C    Cherbourg   yes   True      male  \n",
       "890    man        True  NaN   Queenstown    no   True      male  "
      ],
      "text/html": "<div>\n<style scoped>\n    .dataframe tbody tr th:only-of-type {\n        vertical-align: middle;\n    }\n\n    .dataframe tbody tr th {\n        vertical-align: top;\n    }\n\n    .dataframe thead th {\n        text-align: right;\n    }\n</style>\n<table border=\"1\" class=\"dataframe\">\n  <thead>\n    <tr style=\"text-align: right;\">\n      <th></th>\n      <th>survived</th>\n      <th>pclass</th>\n      <th>sex</th>\n      <th>age</th>\n      <th>sibsp</th>\n      <th>parch</th>\n      <th>fare</th>\n      <th>embarked</th>\n      <th>class</th>\n      <th>who</th>\n      <th>adult_male</th>\n      <th>deck</th>\n      <th>embark_town</th>\n      <th>alive</th>\n      <th>alone</th>\n      <th>category1</th>\n    </tr>\n  </thead>\n  <tbody>\n    <tr>\n      <th>886</th>\n      <td>0</td>\n      <td>2</td>\n      <td>male</td>\n      <td>27.0</td>\n      <td>0</td>\n      <td>0</td>\n      <td>13.00</td>\n      <td>S</td>\n      <td>Second</td>\n      <td>man</td>\n      <td>True</td>\n      <td>NaN</td>\n      <td>Southampton</td>\n      <td>no</td>\n      <td>True</td>\n      <td>male</td>\n    </tr>\n    <tr>\n      <th>887</th>\n      <td>1</td>\n      <td>1</td>\n      <td>female</td>\n      <td>19.0</td>\n      <td>0</td>\n      <td>0</td>\n      <td>30.00</td>\n      <td>S</td>\n      <td>First</td>\n      <td>woman</td>\n      <td>False</td>\n      <td>B</td>\n      <td>Southampton</td>\n      <td>yes</td>\n      <td>True</td>\n      <td>child</td>\n    </tr>\n    <tr>\n      <th>888</th>\n      <td>0</td>\n      <td>3</td>\n      <td>female</td>\n      <td>NaN</td>\n      <td>1</td>\n      <td>2</td>\n      <td>23.45</td>\n      <td>S</td>\n      <td>Third</td>\n      <td>woman</td>\n      <td>False</td>\n      <td>NaN</td>\n      <td>Southampton</td>\n      <td>no</td>\n      <td>False</td>\n      <td>child</td>\n    </tr>\n    <tr>\n      <th>889</th>\n      <td>1</td>\n      <td>1</td>\n      <td>male</td>\n      <td>26.0</td>\n      <td>0</td>\n      <td>0</td>\n      <td>30.00</td>\n      <td>C</td>\n      <td>First</td>\n      <td>man</td>\n      <td>True</td>\n      <td>C</td>\n      <td>Cherbourg</td>\n      <td>yes</td>\n      <td>True</td>\n      <td>male</td>\n    </tr>\n    <tr>\n      <th>890</th>\n      <td>0</td>\n      <td>3</td>\n      <td>male</td>\n      <td>32.0</td>\n      <td>0</td>\n      <td>0</td>\n      <td>7.75</td>\n      <td>Q</td>\n      <td>Third</td>\n      <td>man</td>\n      <td>True</td>\n      <td>NaN</td>\n      <td>Queenstown</td>\n      <td>no</td>\n      <td>True</td>\n      <td>male</td>\n    </tr>\n  </tbody>\n</table>\n</div>"
     },
     "metadata": {},
     "execution_count": 281
    }
   ],
   "source": [
    "# a \n",
    "titanic[\"category1\"] = titanic.apply(lambda r: r.sex if r.age >= 20 else \"child\", axis=1)\n",
    "titanic.tail()"
   ]
  },
  {
   "cell_type": "code",
   "execution_count": 282,
   "metadata": {},
   "outputs": [
    {
     "output_type": "execute_result",
     "data": {
      "text/plain": [
       "     survived  pclass     sex   age  sibsp  parch   fare embarked   class  \\\n",
       "886         0       2    male  27.0      0      0  13.00        S  Second   \n",
       "887         1       1  female  19.0      0      0  30.00        S   First   \n",
       "888         0       3  female  29.7      1      2  23.45        S   Third   \n",
       "889         1       1    male  26.0      0      0  30.00        C   First   \n",
       "890         0       3    male  32.0      0      0   7.75        Q   Third   \n",
       "\n",
       "       who  adult_male deck  embark_town alive  alone category1  \n",
       "886    man        True  NaN  Southampton    no   True      male  \n",
       "887  woman       False    B  Southampton   yes   True     child  \n",
       "888  woman       False  NaN  Southampton    no  False     child  \n",
       "889    man        True    C    Cherbourg   yes   True      male  \n",
       "890    man        True  NaN   Queenstown    no   True      male  "
      ],
      "text/html": "<div>\n<style scoped>\n    .dataframe tbody tr th:only-of-type {\n        vertical-align: middle;\n    }\n\n    .dataframe tbody tr th {\n        vertical-align: top;\n    }\n\n    .dataframe thead th {\n        text-align: right;\n    }\n</style>\n<table border=\"1\" class=\"dataframe\">\n  <thead>\n    <tr style=\"text-align: right;\">\n      <th></th>\n      <th>survived</th>\n      <th>pclass</th>\n      <th>sex</th>\n      <th>age</th>\n      <th>sibsp</th>\n      <th>parch</th>\n      <th>fare</th>\n      <th>embarked</th>\n      <th>class</th>\n      <th>who</th>\n      <th>adult_male</th>\n      <th>deck</th>\n      <th>embark_town</th>\n      <th>alive</th>\n      <th>alone</th>\n      <th>category1</th>\n    </tr>\n  </thead>\n  <tbody>\n    <tr>\n      <th>886</th>\n      <td>0</td>\n      <td>2</td>\n      <td>male</td>\n      <td>27.0</td>\n      <td>0</td>\n      <td>0</td>\n      <td>13.00</td>\n      <td>S</td>\n      <td>Second</td>\n      <td>man</td>\n      <td>True</td>\n      <td>NaN</td>\n      <td>Southampton</td>\n      <td>no</td>\n      <td>True</td>\n      <td>male</td>\n    </tr>\n    <tr>\n      <th>887</th>\n      <td>1</td>\n      <td>1</td>\n      <td>female</td>\n      <td>19.0</td>\n      <td>0</td>\n      <td>0</td>\n      <td>30.00</td>\n      <td>S</td>\n      <td>First</td>\n      <td>woman</td>\n      <td>False</td>\n      <td>B</td>\n      <td>Southampton</td>\n      <td>yes</td>\n      <td>True</td>\n      <td>child</td>\n    </tr>\n    <tr>\n      <th>888</th>\n      <td>0</td>\n      <td>3</td>\n      <td>female</td>\n      <td>29.7</td>\n      <td>1</td>\n      <td>2</td>\n      <td>23.45</td>\n      <td>S</td>\n      <td>Third</td>\n      <td>woman</td>\n      <td>False</td>\n      <td>NaN</td>\n      <td>Southampton</td>\n      <td>no</td>\n      <td>False</td>\n      <td>child</td>\n    </tr>\n    <tr>\n      <th>889</th>\n      <td>1</td>\n      <td>1</td>\n      <td>male</td>\n      <td>26.0</td>\n      <td>0</td>\n      <td>0</td>\n      <td>30.00</td>\n      <td>C</td>\n      <td>First</td>\n      <td>man</td>\n      <td>True</td>\n      <td>C</td>\n      <td>Cherbourg</td>\n      <td>yes</td>\n      <td>True</td>\n      <td>male</td>\n    </tr>\n    <tr>\n      <th>890</th>\n      <td>0</td>\n      <td>3</td>\n      <td>male</td>\n      <td>32.0</td>\n      <td>0</td>\n      <td>0</td>\n      <td>7.75</td>\n      <td>Q</td>\n      <td>Third</td>\n      <td>man</td>\n      <td>True</td>\n      <td>NaN</td>\n      <td>Queenstown</td>\n      <td>no</td>\n      <td>True</td>\n      <td>male</td>\n    </tr>\n  </tbody>\n</table>\n</div>"
     },
     "metadata": {},
     "execution_count": 282
    }
   ],
   "source": [
    "# b\n",
    "titanic['age'] = titanic['age'].fillna(round(titanic.age.mean(), 2))\n",
    "titanic.tail()"
   ]
  },
  {
   "cell_type": "code",
   "execution_count": 298,
   "metadata": {},
   "outputs": [
    {
     "output_type": "execute_result",
     "data": {
      "text/plain": [
       "233"
      ]
     },
     "metadata": {},
     "execution_count": 298
    }
   ],
   "source": [
    "# c 성별 생존\n",
    "titanic2 = titanic[titanic.survived == 1]\n",
    "titanic2\n",
    "\n",
    "titanic3 = titanic2[titanic2.sex == 'female'] # 여자 생존\n",
    "titanic3\n",
    "\n",
    "titanic3.count()['survived']"
   ]
  },
  {
   "cell_type": "code",
   "execution_count": 299,
   "metadata": {},
   "outputs": [
    {
     "output_type": "execute_result",
     "data": {
      "text/plain": [
       "109"
      ]
     },
     "metadata": {},
     "execution_count": 299
    }
   ],
   "source": [
    "titanic4 = titanic2[titanic2.sex == 'male'] # 남자 생존\n",
    "titanic4\n",
    "\n",
    "titanic4.count()['survived']"
   ]
  },
  {
   "cell_type": "code",
   "execution_count": 300,
   "metadata": {},
   "outputs": [
    {
     "output_type": "stream",
     "name": "stdout",
     "text": [
      "남성 생존율 : 0.122334455667789\n여성 생존율 : 0.2615039281705948\n"
     ]
    }
   ],
   "source": [
    "# 성별 생존 결과값\n",
    "x = titanic4.count()['survived'] / titanic.count()['survived']\n",
    "y = titanic3.count()['survived'] / titanic.count()['survived']\n",
    "\n",
    "print('남성 생존율 :', x)\n",
    "print('여성 생존율 :', y)"
   ]
  },
  {
   "cell_type": "code",
   "execution_count": 287,
   "metadata": {},
   "outputs": [
    {
     "output_type": "execute_result",
     "data": {
      "text/plain": [
       "     survived  pclass     sex   age  sibsp  parch     fare embarked  class  \\\n",
       "2           1       3  female  26.0      0      0   7.9250        S  Third   \n",
       "8           1       3  female  27.0      0      2  11.1333        S  Third   \n",
       "10          1       3  female   4.0      1      1  16.7000        S  Third   \n",
       "19          1       3  female  29.7      0      0   7.2250        C  Third   \n",
       "22          1       3  female  15.0      0      0   8.0292        Q  Third   \n",
       "..        ...     ...     ...   ...    ...    ...      ...      ...    ...   \n",
       "838         1       3    male  32.0      0      0  56.4958        S  Third   \n",
       "855         1       3  female  18.0      0      1   9.3500        S  Third   \n",
       "858         1       3  female  24.0      0      3  19.2583        C  Third   \n",
       "869         1       3    male   4.0      1      1  11.1333        S  Third   \n",
       "875         1       3  female  15.0      0      0   7.2250        C  Third   \n",
       "\n",
       "       who  adult_male deck  embark_town alive  alone category1  \n",
       "2    woman       False  NaN  Southampton   yes   True    female  \n",
       "8    woman       False  NaN  Southampton   yes  False    female  \n",
       "10   child       False    G  Southampton   yes  False     child  \n",
       "19   woman       False  NaN    Cherbourg   yes   True     child  \n",
       "22   child       False  NaN   Queenstown   yes   True     child  \n",
       "..     ...         ...  ...          ...   ...    ...       ...  \n",
       "838    man        True  NaN  Southampton   yes   True      male  \n",
       "855  woman       False  NaN  Southampton   yes  False     child  \n",
       "858  woman       False  NaN    Cherbourg   yes  False    female  \n",
       "869  child       False  NaN  Southampton   yes  False     child  \n",
       "875  child       False  NaN    Cherbourg   yes   True     child  \n",
       "\n",
       "[119 rows x 16 columns]"
      ],
      "text/html": "<div>\n<style scoped>\n    .dataframe tbody tr th:only-of-type {\n        vertical-align: middle;\n    }\n\n    .dataframe tbody tr th {\n        vertical-align: top;\n    }\n\n    .dataframe thead th {\n        text-align: right;\n    }\n</style>\n<table border=\"1\" class=\"dataframe\">\n  <thead>\n    <tr style=\"text-align: right;\">\n      <th></th>\n      <th>survived</th>\n      <th>pclass</th>\n      <th>sex</th>\n      <th>age</th>\n      <th>sibsp</th>\n      <th>parch</th>\n      <th>fare</th>\n      <th>embarked</th>\n      <th>class</th>\n      <th>who</th>\n      <th>adult_male</th>\n      <th>deck</th>\n      <th>embark_town</th>\n      <th>alive</th>\n      <th>alone</th>\n      <th>category1</th>\n    </tr>\n  </thead>\n  <tbody>\n    <tr>\n      <th>2</th>\n      <td>1</td>\n      <td>3</td>\n      <td>female</td>\n      <td>26.0</td>\n      <td>0</td>\n      <td>0</td>\n      <td>7.9250</td>\n      <td>S</td>\n      <td>Third</td>\n      <td>woman</td>\n      <td>False</td>\n      <td>NaN</td>\n      <td>Southampton</td>\n      <td>yes</td>\n      <td>True</td>\n      <td>female</td>\n    </tr>\n    <tr>\n      <th>8</th>\n      <td>1</td>\n      <td>3</td>\n      <td>female</td>\n      <td>27.0</td>\n      <td>0</td>\n      <td>2</td>\n      <td>11.1333</td>\n      <td>S</td>\n      <td>Third</td>\n      <td>woman</td>\n      <td>False</td>\n      <td>NaN</td>\n      <td>Southampton</td>\n      <td>yes</td>\n      <td>False</td>\n      <td>female</td>\n    </tr>\n    <tr>\n      <th>10</th>\n      <td>1</td>\n      <td>3</td>\n      <td>female</td>\n      <td>4.0</td>\n      <td>1</td>\n      <td>1</td>\n      <td>16.7000</td>\n      <td>S</td>\n      <td>Third</td>\n      <td>child</td>\n      <td>False</td>\n      <td>G</td>\n      <td>Southampton</td>\n      <td>yes</td>\n      <td>False</td>\n      <td>child</td>\n    </tr>\n    <tr>\n      <th>19</th>\n      <td>1</td>\n      <td>3</td>\n      <td>female</td>\n      <td>29.7</td>\n      <td>0</td>\n      <td>0</td>\n      <td>7.2250</td>\n      <td>C</td>\n      <td>Third</td>\n      <td>woman</td>\n      <td>False</td>\n      <td>NaN</td>\n      <td>Cherbourg</td>\n      <td>yes</td>\n      <td>True</td>\n      <td>child</td>\n    </tr>\n    <tr>\n      <th>22</th>\n      <td>1</td>\n      <td>3</td>\n      <td>female</td>\n      <td>15.0</td>\n      <td>0</td>\n      <td>0</td>\n      <td>8.0292</td>\n      <td>Q</td>\n      <td>Third</td>\n      <td>child</td>\n      <td>False</td>\n      <td>NaN</td>\n      <td>Queenstown</td>\n      <td>yes</td>\n      <td>True</td>\n      <td>child</td>\n    </tr>\n    <tr>\n      <th>...</th>\n      <td>...</td>\n      <td>...</td>\n      <td>...</td>\n      <td>...</td>\n      <td>...</td>\n      <td>...</td>\n      <td>...</td>\n      <td>...</td>\n      <td>...</td>\n      <td>...</td>\n      <td>...</td>\n      <td>...</td>\n      <td>...</td>\n      <td>...</td>\n      <td>...</td>\n      <td>...</td>\n    </tr>\n    <tr>\n      <th>838</th>\n      <td>1</td>\n      <td>3</td>\n      <td>male</td>\n      <td>32.0</td>\n      <td>0</td>\n      <td>0</td>\n      <td>56.4958</td>\n      <td>S</td>\n      <td>Third</td>\n      <td>man</td>\n      <td>True</td>\n      <td>NaN</td>\n      <td>Southampton</td>\n      <td>yes</td>\n      <td>True</td>\n      <td>male</td>\n    </tr>\n    <tr>\n      <th>855</th>\n      <td>1</td>\n      <td>3</td>\n      <td>female</td>\n      <td>18.0</td>\n      <td>0</td>\n      <td>1</td>\n      <td>9.3500</td>\n      <td>S</td>\n      <td>Third</td>\n      <td>woman</td>\n      <td>False</td>\n      <td>NaN</td>\n      <td>Southampton</td>\n      <td>yes</td>\n      <td>False</td>\n      <td>child</td>\n    </tr>\n    <tr>\n      <th>858</th>\n      <td>1</td>\n      <td>3</td>\n      <td>female</td>\n      <td>24.0</td>\n      <td>0</td>\n      <td>3</td>\n      <td>19.2583</td>\n      <td>C</td>\n      <td>Third</td>\n      <td>woman</td>\n      <td>False</td>\n      <td>NaN</td>\n      <td>Cherbourg</td>\n      <td>yes</td>\n      <td>False</td>\n      <td>female</td>\n    </tr>\n    <tr>\n      <th>869</th>\n      <td>1</td>\n      <td>3</td>\n      <td>male</td>\n      <td>4.0</td>\n      <td>1</td>\n      <td>1</td>\n      <td>11.1333</td>\n      <td>S</td>\n      <td>Third</td>\n      <td>child</td>\n      <td>False</td>\n      <td>NaN</td>\n      <td>Southampton</td>\n      <td>yes</td>\n      <td>False</td>\n      <td>child</td>\n    </tr>\n    <tr>\n      <th>875</th>\n      <td>1</td>\n      <td>3</td>\n      <td>female</td>\n      <td>15.0</td>\n      <td>0</td>\n      <td>0</td>\n      <td>7.2250</td>\n      <td>C</td>\n      <td>Third</td>\n      <td>child</td>\n      <td>False</td>\n      <td>NaN</td>\n      <td>Cherbourg</td>\n      <td>yes</td>\n      <td>True</td>\n      <td>child</td>\n    </tr>\n  </tbody>\n</table>\n<p>119 rows × 16 columns</p>\n</div>"
     },
     "metadata": {},
     "execution_count": 287
    }
   ],
   "source": [
    "# c 선실별 생존\n",
    "titanic5 = titanic2[titanic2.pclass == 1]\n",
    "titanic5\n",
    "\n",
    "titanic6 = titanic2[titanic2.pclass == 2]\n",
    "titanic6\n",
    "\n",
    "titanic7 = titanic2[titanic2.pclass == 3]\n",
    "titanic7"
   ]
  },
  {
   "cell_type": "code",
   "execution_count": 301,
   "metadata": {},
   "outputs": [
    {
     "output_type": "stream",
     "name": "stdout",
     "text": [
      "First Class 생존율 : 0.1526374859708193\nSecond Class 생존율 : 0.09764309764309764\nThird Class 생존율 : 0.1335578002244669\n"
     ]
    }
   ],
   "source": [
    "# 선실별 생존 결과값\n",
    "a = titanic5.count()['survived'] / titanic.count()['survived']\n",
    "b = titanic6.count()['survived'] / titanic.count()['survived']\n",
    "c = titanic7.count()['survived'] / titanic.count()['survived']\n",
    "\n",
    "print('First Class 생존율 :', a)\n",
    "print('Second Class 생존율 :', b)\n",
    "print('Third Class 생존율 :', c)"
   ]
  },
  {
   "cell_type": "code",
   "execution_count": 234,
   "metadata": {},
   "outputs": [
    {
     "output_type": "execute_result",
     "data": {
      "text/plain": [
       "     survived  pclass     sex   age  sibsp  parch     fare embarked   class  \\\n",
       "22          1       3  female  15.0      0      0   8.0292        Q   Third   \n",
       "28          1       3  female  29.7      0      0   7.8792        Q   Third   \n",
       "32          1       3  female  29.7      0      0   7.7500        Q   Third   \n",
       "44          1       3  female  19.0      0      0   7.8792        Q   Third   \n",
       "47          1       3  female  29.7      0      0   7.7500        Q   Third   \n",
       "82          1       3  female  29.7      0      0   7.7875        Q   Third   \n",
       "109         1       3  female  29.7      1      0  24.1500        Q   Third   \n",
       "156         1       3  female  16.0      0      0   7.7333        Q   Third   \n",
       "186         1       3  female  29.7      1      0  15.5000        Q   Third   \n",
       "198         1       3  female  29.7      0      0   7.7500        Q   Third   \n",
       "208         1       3  female  16.0      0      0   7.7500        Q   Third   \n",
       "241         1       3  female  29.7      1      0  15.5000        Q   Third   \n",
       "274         1       3  female  29.7      0      0   7.7500        Q   Third   \n",
       "289         1       3  female  22.0      0      0   7.7500        Q   Third   \n",
       "300         1       3  female  29.7      0      0   7.7500        Q   Third   \n",
       "301         1       3    male  29.7      2      0  23.2500        Q   Third   \n",
       "303         1       2  female  29.7      0      0  12.3500        Q  Second   \n",
       "322         1       2  female  30.0      0      0  12.3500        Q  Second   \n",
       "330         1       3  female  29.7      2      0  23.2500        Q   Third   \n",
       "358         1       3  female  29.7      0      0   7.8792        Q   Third   \n",
       "359         1       3  female  29.7      0      0   7.8792        Q   Third   \n",
       "368         1       3  female  29.7      0      0   7.7500        Q   Third   \n",
       "412         1       1  female  33.0      1      0  90.0000        Q   First   \n",
       "510         1       3    male  29.0      0      0   7.7500        Q   Third   \n",
       "573         1       3  female  29.7      0      0   7.7500        Q   Third   \n",
       "612         1       3  female  29.7      1      0  15.5000        Q   Third   \n",
       "653         1       3  female  29.7      0      0   7.8292        Q   Third   \n",
       "697         1       3  female  29.7      0      0   7.7333        Q   Third   \n",
       "727         1       3  female  29.7      0      0   7.7375        Q   Third   \n",
       "828         1       3    male  29.7      0      0   7.7500        Q   Third   \n",
       "\n",
       "       who  adult_male deck embark_town alive  alone category1  \n",
       "22   child       False  NaN  Queenstown   yes   True     child  \n",
       "28   woman       False  NaN  Queenstown   yes   True     child  \n",
       "32   woman       False  NaN  Queenstown   yes   True     child  \n",
       "44   woman       False  NaN  Queenstown   yes   True     child  \n",
       "47   woman       False  NaN  Queenstown   yes   True     child  \n",
       "82   woman       False  NaN  Queenstown   yes   True     child  \n",
       "109  woman       False  NaN  Queenstown   yes  False     child  \n",
       "156  woman       False  NaN  Queenstown   yes   True     child  \n",
       "186  woman       False  NaN  Queenstown   yes  False     child  \n",
       "198  woman       False  NaN  Queenstown   yes   True     child  \n",
       "208  woman       False  NaN  Queenstown   yes   True     child  \n",
       "241  woman       False  NaN  Queenstown   yes  False     child  \n",
       "274  woman       False  NaN  Queenstown   yes   True     child  \n",
       "289  woman       False  NaN  Queenstown   yes   True    female  \n",
       "300  woman       False  NaN  Queenstown   yes   True     child  \n",
       "301    man        True  NaN  Queenstown   yes  False     child  \n",
       "303  woman       False    E  Queenstown   yes   True     child  \n",
       "322  woman       False  NaN  Queenstown   yes   True    female  \n",
       "330  woman       False  NaN  Queenstown   yes  False     child  \n",
       "358  woman       False  NaN  Queenstown   yes   True     child  \n",
       "359  woman       False  NaN  Queenstown   yes   True     child  \n",
       "368  woman       False  NaN  Queenstown   yes   True     child  \n",
       "412  woman       False    C  Queenstown   yes  False    female  \n",
       "510    man        True  NaN  Queenstown   yes   True      male  \n",
       "573  woman       False  NaN  Queenstown   yes   True     child  \n",
       "612  woman       False  NaN  Queenstown   yes  False     child  \n",
       "653  woman       False  NaN  Queenstown   yes   True     child  \n",
       "697  woman       False  NaN  Queenstown   yes   True     child  \n",
       "727  woman       False  NaN  Queenstown   yes   True     child  \n",
       "828    man        True  NaN  Queenstown   yes   True     child  "
      ],
      "text/html": "<div>\n<style scoped>\n    .dataframe tbody tr th:only-of-type {\n        vertical-align: middle;\n    }\n\n    .dataframe tbody tr th {\n        vertical-align: top;\n    }\n\n    .dataframe thead th {\n        text-align: right;\n    }\n</style>\n<table border=\"1\" class=\"dataframe\">\n  <thead>\n    <tr style=\"text-align: right;\">\n      <th></th>\n      <th>survived</th>\n      <th>pclass</th>\n      <th>sex</th>\n      <th>age</th>\n      <th>sibsp</th>\n      <th>parch</th>\n      <th>fare</th>\n      <th>embarked</th>\n      <th>class</th>\n      <th>who</th>\n      <th>adult_male</th>\n      <th>deck</th>\n      <th>embark_town</th>\n      <th>alive</th>\n      <th>alone</th>\n      <th>category1</th>\n    </tr>\n  </thead>\n  <tbody>\n    <tr>\n      <th>22</th>\n      <td>1</td>\n      <td>3</td>\n      <td>female</td>\n      <td>15.0</td>\n      <td>0</td>\n      <td>0</td>\n      <td>8.0292</td>\n      <td>Q</td>\n      <td>Third</td>\n      <td>child</td>\n      <td>False</td>\n      <td>NaN</td>\n      <td>Queenstown</td>\n      <td>yes</td>\n      <td>True</td>\n      <td>child</td>\n    </tr>\n    <tr>\n      <th>28</th>\n      <td>1</td>\n      <td>3</td>\n      <td>female</td>\n      <td>29.7</td>\n      <td>0</td>\n      <td>0</td>\n      <td>7.8792</td>\n      <td>Q</td>\n      <td>Third</td>\n      <td>woman</td>\n      <td>False</td>\n      <td>NaN</td>\n      <td>Queenstown</td>\n      <td>yes</td>\n      <td>True</td>\n      <td>child</td>\n    </tr>\n    <tr>\n      <th>32</th>\n      <td>1</td>\n      <td>3</td>\n      <td>female</td>\n      <td>29.7</td>\n      <td>0</td>\n      <td>0</td>\n      <td>7.7500</td>\n      <td>Q</td>\n      <td>Third</td>\n      <td>woman</td>\n      <td>False</td>\n      <td>NaN</td>\n      <td>Queenstown</td>\n      <td>yes</td>\n      <td>True</td>\n      <td>child</td>\n    </tr>\n    <tr>\n      <th>44</th>\n      <td>1</td>\n      <td>3</td>\n      <td>female</td>\n      <td>19.0</td>\n      <td>0</td>\n      <td>0</td>\n      <td>7.8792</td>\n      <td>Q</td>\n      <td>Third</td>\n      <td>woman</td>\n      <td>False</td>\n      <td>NaN</td>\n      <td>Queenstown</td>\n      <td>yes</td>\n      <td>True</td>\n      <td>child</td>\n    </tr>\n    <tr>\n      <th>47</th>\n      <td>1</td>\n      <td>3</td>\n      <td>female</td>\n      <td>29.7</td>\n      <td>0</td>\n      <td>0</td>\n      <td>7.7500</td>\n      <td>Q</td>\n      <td>Third</td>\n      <td>woman</td>\n      <td>False</td>\n      <td>NaN</td>\n      <td>Queenstown</td>\n      <td>yes</td>\n      <td>True</td>\n      <td>child</td>\n    </tr>\n    <tr>\n      <th>82</th>\n      <td>1</td>\n      <td>3</td>\n      <td>female</td>\n      <td>29.7</td>\n      <td>0</td>\n      <td>0</td>\n      <td>7.7875</td>\n      <td>Q</td>\n      <td>Third</td>\n      <td>woman</td>\n      <td>False</td>\n      <td>NaN</td>\n      <td>Queenstown</td>\n      <td>yes</td>\n      <td>True</td>\n      <td>child</td>\n    </tr>\n    <tr>\n      <th>109</th>\n      <td>1</td>\n      <td>3</td>\n      <td>female</td>\n      <td>29.7</td>\n      <td>1</td>\n      <td>0</td>\n      <td>24.1500</td>\n      <td>Q</td>\n      <td>Third</td>\n      <td>woman</td>\n      <td>False</td>\n      <td>NaN</td>\n      <td>Queenstown</td>\n      <td>yes</td>\n      <td>False</td>\n      <td>child</td>\n    </tr>\n    <tr>\n      <th>156</th>\n      <td>1</td>\n      <td>3</td>\n      <td>female</td>\n      <td>16.0</td>\n      <td>0</td>\n      <td>0</td>\n      <td>7.7333</td>\n      <td>Q</td>\n      <td>Third</td>\n      <td>woman</td>\n      <td>False</td>\n      <td>NaN</td>\n      <td>Queenstown</td>\n      <td>yes</td>\n      <td>True</td>\n      <td>child</td>\n    </tr>\n    <tr>\n      <th>186</th>\n      <td>1</td>\n      <td>3</td>\n      <td>female</td>\n      <td>29.7</td>\n      <td>1</td>\n      <td>0</td>\n      <td>15.5000</td>\n      <td>Q</td>\n      <td>Third</td>\n      <td>woman</td>\n      <td>False</td>\n      <td>NaN</td>\n      <td>Queenstown</td>\n      <td>yes</td>\n      <td>False</td>\n      <td>child</td>\n    </tr>\n    <tr>\n      <th>198</th>\n      <td>1</td>\n      <td>3</td>\n      <td>female</td>\n      <td>29.7</td>\n      <td>0</td>\n      <td>0</td>\n      <td>7.7500</td>\n      <td>Q</td>\n      <td>Third</td>\n      <td>woman</td>\n      <td>False</td>\n      <td>NaN</td>\n      <td>Queenstown</td>\n      <td>yes</td>\n      <td>True</td>\n      <td>child</td>\n    </tr>\n    <tr>\n      <th>208</th>\n      <td>1</td>\n      <td>3</td>\n      <td>female</td>\n      <td>16.0</td>\n      <td>0</td>\n      <td>0</td>\n      <td>7.7500</td>\n      <td>Q</td>\n      <td>Third</td>\n      <td>woman</td>\n      <td>False</td>\n      <td>NaN</td>\n      <td>Queenstown</td>\n      <td>yes</td>\n      <td>True</td>\n      <td>child</td>\n    </tr>\n    <tr>\n      <th>241</th>\n      <td>1</td>\n      <td>3</td>\n      <td>female</td>\n      <td>29.7</td>\n      <td>1</td>\n      <td>0</td>\n      <td>15.5000</td>\n      <td>Q</td>\n      <td>Third</td>\n      <td>woman</td>\n      <td>False</td>\n      <td>NaN</td>\n      <td>Queenstown</td>\n      <td>yes</td>\n      <td>False</td>\n      <td>child</td>\n    </tr>\n    <tr>\n      <th>274</th>\n      <td>1</td>\n      <td>3</td>\n      <td>female</td>\n      <td>29.7</td>\n      <td>0</td>\n      <td>0</td>\n      <td>7.7500</td>\n      <td>Q</td>\n      <td>Third</td>\n      <td>woman</td>\n      <td>False</td>\n      <td>NaN</td>\n      <td>Queenstown</td>\n      <td>yes</td>\n      <td>True</td>\n      <td>child</td>\n    </tr>\n    <tr>\n      <th>289</th>\n      <td>1</td>\n      <td>3</td>\n      <td>female</td>\n      <td>22.0</td>\n      <td>0</td>\n      <td>0</td>\n      <td>7.7500</td>\n      <td>Q</td>\n      <td>Third</td>\n      <td>woman</td>\n      <td>False</td>\n      <td>NaN</td>\n      <td>Queenstown</td>\n      <td>yes</td>\n      <td>True</td>\n      <td>female</td>\n    </tr>\n    <tr>\n      <th>300</th>\n      <td>1</td>\n      <td>3</td>\n      <td>female</td>\n      <td>29.7</td>\n      <td>0</td>\n      <td>0</td>\n      <td>7.7500</td>\n      <td>Q</td>\n      <td>Third</td>\n      <td>woman</td>\n      <td>False</td>\n      <td>NaN</td>\n      <td>Queenstown</td>\n      <td>yes</td>\n      <td>True</td>\n      <td>child</td>\n    </tr>\n    <tr>\n      <th>301</th>\n      <td>1</td>\n      <td>3</td>\n      <td>male</td>\n      <td>29.7</td>\n      <td>2</td>\n      <td>0</td>\n      <td>23.2500</td>\n      <td>Q</td>\n      <td>Third</td>\n      <td>man</td>\n      <td>True</td>\n      <td>NaN</td>\n      <td>Queenstown</td>\n      <td>yes</td>\n      <td>False</td>\n      <td>child</td>\n    </tr>\n    <tr>\n      <th>303</th>\n      <td>1</td>\n      <td>2</td>\n      <td>female</td>\n      <td>29.7</td>\n      <td>0</td>\n      <td>0</td>\n      <td>12.3500</td>\n      <td>Q</td>\n      <td>Second</td>\n      <td>woman</td>\n      <td>False</td>\n      <td>E</td>\n      <td>Queenstown</td>\n      <td>yes</td>\n      <td>True</td>\n      <td>child</td>\n    </tr>\n    <tr>\n      <th>322</th>\n      <td>1</td>\n      <td>2</td>\n      <td>female</td>\n      <td>30.0</td>\n      <td>0</td>\n      <td>0</td>\n      <td>12.3500</td>\n      <td>Q</td>\n      <td>Second</td>\n      <td>woman</td>\n      <td>False</td>\n      <td>NaN</td>\n      <td>Queenstown</td>\n      <td>yes</td>\n      <td>True</td>\n      <td>female</td>\n    </tr>\n    <tr>\n      <th>330</th>\n      <td>1</td>\n      <td>3</td>\n      <td>female</td>\n      <td>29.7</td>\n      <td>2</td>\n      <td>0</td>\n      <td>23.2500</td>\n      <td>Q</td>\n      <td>Third</td>\n      <td>woman</td>\n      <td>False</td>\n      <td>NaN</td>\n      <td>Queenstown</td>\n      <td>yes</td>\n      <td>False</td>\n      <td>child</td>\n    </tr>\n    <tr>\n      <th>358</th>\n      <td>1</td>\n      <td>3</td>\n      <td>female</td>\n      <td>29.7</td>\n      <td>0</td>\n      <td>0</td>\n      <td>7.8792</td>\n      <td>Q</td>\n      <td>Third</td>\n      <td>woman</td>\n      <td>False</td>\n      <td>NaN</td>\n      <td>Queenstown</td>\n      <td>yes</td>\n      <td>True</td>\n      <td>child</td>\n    </tr>\n    <tr>\n      <th>359</th>\n      <td>1</td>\n      <td>3</td>\n      <td>female</td>\n      <td>29.7</td>\n      <td>0</td>\n      <td>0</td>\n      <td>7.8792</td>\n      <td>Q</td>\n      <td>Third</td>\n      <td>woman</td>\n      <td>False</td>\n      <td>NaN</td>\n      <td>Queenstown</td>\n      <td>yes</td>\n      <td>True</td>\n      <td>child</td>\n    </tr>\n    <tr>\n      <th>368</th>\n      <td>1</td>\n      <td>3</td>\n      <td>female</td>\n      <td>29.7</td>\n      <td>0</td>\n      <td>0</td>\n      <td>7.7500</td>\n      <td>Q</td>\n      <td>Third</td>\n      <td>woman</td>\n      <td>False</td>\n      <td>NaN</td>\n      <td>Queenstown</td>\n      <td>yes</td>\n      <td>True</td>\n      <td>child</td>\n    </tr>\n    <tr>\n      <th>412</th>\n      <td>1</td>\n      <td>1</td>\n      <td>female</td>\n      <td>33.0</td>\n      <td>1</td>\n      <td>0</td>\n      <td>90.0000</td>\n      <td>Q</td>\n      <td>First</td>\n      <td>woman</td>\n      <td>False</td>\n      <td>C</td>\n      <td>Queenstown</td>\n      <td>yes</td>\n      <td>False</td>\n      <td>female</td>\n    </tr>\n    <tr>\n      <th>510</th>\n      <td>1</td>\n      <td>3</td>\n      <td>male</td>\n      <td>29.0</td>\n      <td>0</td>\n      <td>0</td>\n      <td>7.7500</td>\n      <td>Q</td>\n      <td>Third</td>\n      <td>man</td>\n      <td>True</td>\n      <td>NaN</td>\n      <td>Queenstown</td>\n      <td>yes</td>\n      <td>True</td>\n      <td>male</td>\n    </tr>\n    <tr>\n      <th>573</th>\n      <td>1</td>\n      <td>3</td>\n      <td>female</td>\n      <td>29.7</td>\n      <td>0</td>\n      <td>0</td>\n      <td>7.7500</td>\n      <td>Q</td>\n      <td>Third</td>\n      <td>woman</td>\n      <td>False</td>\n      <td>NaN</td>\n      <td>Queenstown</td>\n      <td>yes</td>\n      <td>True</td>\n      <td>child</td>\n    </tr>\n    <tr>\n      <th>612</th>\n      <td>1</td>\n      <td>3</td>\n      <td>female</td>\n      <td>29.7</td>\n      <td>1</td>\n      <td>0</td>\n      <td>15.5000</td>\n      <td>Q</td>\n      <td>Third</td>\n      <td>woman</td>\n      <td>False</td>\n      <td>NaN</td>\n      <td>Queenstown</td>\n      <td>yes</td>\n      <td>False</td>\n      <td>child</td>\n    </tr>\n    <tr>\n      <th>653</th>\n      <td>1</td>\n      <td>3</td>\n      <td>female</td>\n      <td>29.7</td>\n      <td>0</td>\n      <td>0</td>\n      <td>7.8292</td>\n      <td>Q</td>\n      <td>Third</td>\n      <td>woman</td>\n      <td>False</td>\n      <td>NaN</td>\n      <td>Queenstown</td>\n      <td>yes</td>\n      <td>True</td>\n      <td>child</td>\n    </tr>\n    <tr>\n      <th>697</th>\n      <td>1</td>\n      <td>3</td>\n      <td>female</td>\n      <td>29.7</td>\n      <td>0</td>\n      <td>0</td>\n      <td>7.7333</td>\n      <td>Q</td>\n      <td>Third</td>\n      <td>woman</td>\n      <td>False</td>\n      <td>NaN</td>\n      <td>Queenstown</td>\n      <td>yes</td>\n      <td>True</td>\n      <td>child</td>\n    </tr>\n    <tr>\n      <th>727</th>\n      <td>1</td>\n      <td>3</td>\n      <td>female</td>\n      <td>29.7</td>\n      <td>0</td>\n      <td>0</td>\n      <td>7.7375</td>\n      <td>Q</td>\n      <td>Third</td>\n      <td>woman</td>\n      <td>False</td>\n      <td>NaN</td>\n      <td>Queenstown</td>\n      <td>yes</td>\n      <td>True</td>\n      <td>child</td>\n    </tr>\n    <tr>\n      <th>828</th>\n      <td>1</td>\n      <td>3</td>\n      <td>male</td>\n      <td>29.7</td>\n      <td>0</td>\n      <td>0</td>\n      <td>7.7500</td>\n      <td>Q</td>\n      <td>Third</td>\n      <td>man</td>\n      <td>True</td>\n      <td>NaN</td>\n      <td>Queenstown</td>\n      <td>yes</td>\n      <td>True</td>\n      <td>child</td>\n    </tr>\n  </tbody>\n</table>\n</div>"
     },
     "metadata": {},
     "execution_count": 234
    }
   ],
   "source": [
    "# c 출발지 생존\n",
    "titanic8 = titanic2[titanic2.embarked == 'S']\n",
    "titanic8\n",
    "\n",
    "titanic9 = titanic2[titanic2.embarked == 'C']\n",
    "titanic9\n",
    "\n",
    "titanic10 = titanic2[titanic2.embarked == 'Q']\n",
    "titanic10"
   ]
  },
  {
   "cell_type": "code",
   "execution_count": 302,
   "metadata": {},
   "outputs": [
    {
     "output_type": "stream",
     "name": "stdout",
     "text": [
      "S출발지 생존욜 : 0.24354657687991021\nC출발지 생존율 : 0.10437710437710437\nQ출발지 생존율 : 0.03367003367003367\n"
     ]
    }
   ],
   "source": [
    "# 출발지별 생존 결과값\n",
    "i = titanic8.count()['survived'] / titanic.count()['survived']\n",
    "o = titanic9.count()['survived'] / titanic.count()['survived']\n",
    "q = titanic10.count()['survived'] / titanic.count()['survived']\n",
    "\n",
    "print('S출발지 생존욜 :', i)\n",
    "print('C출발지 생존율 :', o)\n",
    "print('Q출발지 생존율 :', q)"
   ]
  },
  {
   "cell_type": "code",
   "execution_count": 303,
   "metadata": {},
   "outputs": [
    {
     "output_type": "stream",
     "name": "stdout",
     "text": [
      "0        청년\n1        중년\n2        청년\n3        중년\n4        중년\n       ... \n886      청년\n887    미성년자\n888      청년\n889      청년\n890      중년\nName: age, Length: 891, dtype: category\nCategories (5, object): [미성년자 < 청년 < 중년 < 장년 < 노년]\n"
     ]
    }
   ],
   "source": [
    "# d\n",
    "\n",
    "bins = [1, 20, 30, 50, 70, 100]\n",
    "labels = [\"미성년자\", \"청년\", \"중년\", \"장년\", \"노년\"]\n",
    "titanics = pd.cut(titanic['age'], bins, labels=labels)\n",
    "\n",
    "print(titanics)"
   ]
  },
  {
   "cell_type": "code",
   "execution_count": 304,
   "metadata": {},
   "outputs": [
    {
     "output_type": "execute_result",
     "data": {
      "text/plain": [
       "      age age_class     sex\n",
       "881  33.0        늙음    male\n",
       "882  22.0        젊음  female\n",
       "883  28.0        중간    male\n",
       "884  25.0        젊음    male\n",
       "885  39.0        늙음  female\n",
       "886  27.0        젊음    male\n",
       "887  19.0        젊음  female\n",
       "888  29.7        중간  female\n",
       "889  26.0        젊음    male\n",
       "890  32.0        늙음    male"
      ],
      "text/html": "<div>\n<style scoped>\n    .dataframe tbody tr th:only-of-type {\n        vertical-align: middle;\n    }\n\n    .dataframe tbody tr th {\n        vertical-align: top;\n    }\n\n    .dataframe thead th {\n        text-align: right;\n    }\n</style>\n<table border=\"1\" class=\"dataframe\">\n  <thead>\n    <tr style=\"text-align: right;\">\n      <th></th>\n      <th>age</th>\n      <th>age_class</th>\n      <th>sex</th>\n    </tr>\n  </thead>\n  <tbody>\n    <tr>\n      <th>881</th>\n      <td>33.0</td>\n      <td>늙음</td>\n      <td>male</td>\n    </tr>\n    <tr>\n      <th>882</th>\n      <td>22.0</td>\n      <td>젊음</td>\n      <td>female</td>\n    </tr>\n    <tr>\n      <th>883</th>\n      <td>28.0</td>\n      <td>중간</td>\n      <td>male</td>\n    </tr>\n    <tr>\n      <th>884</th>\n      <td>25.0</td>\n      <td>젊음</td>\n      <td>male</td>\n    </tr>\n    <tr>\n      <th>885</th>\n      <td>39.0</td>\n      <td>늙음</td>\n      <td>female</td>\n    </tr>\n    <tr>\n      <th>886</th>\n      <td>27.0</td>\n      <td>젊음</td>\n      <td>male</td>\n    </tr>\n    <tr>\n      <th>887</th>\n      <td>19.0</td>\n      <td>젊음</td>\n      <td>female</td>\n    </tr>\n    <tr>\n      <th>888</th>\n      <td>29.7</td>\n      <td>중간</td>\n      <td>female</td>\n    </tr>\n    <tr>\n      <th>889</th>\n      <td>26.0</td>\n      <td>젊음</td>\n      <td>male</td>\n    </tr>\n    <tr>\n      <th>890</th>\n      <td>32.0</td>\n      <td>늙음</td>\n      <td>male</td>\n    </tr>\n  </tbody>\n</table>\n</div>"
     },
     "metadata": {},
     "execution_count": 304
    }
   ],
   "source": [
    "# e. qcut 명령으로 세 개의 나이 그룹을 만들고, 나이 그룹별 남녀 성비와 생존율을 구하시오.\n",
    "\n",
    "def q3cut(s):\n",
    "    return pd.qcut(s, 3, labels=[\"젊음\", \"중간\", \"늙음\"]).astype(str)\n",
    "\n",
    "\n",
    "titanic[\"age_class\"] = titanic.groupby(titanic.sex).age.transform(q3cut)\n",
    "titanic[[\"age\", \"age_class\", \"sex\"]].tail(10)"
   ]
  },
  {
   "cell_type": "code",
   "execution_count": 305,
   "metadata": {},
   "outputs": [],
   "source": [
    "titanic11 = titanic3[titanic.age_class == '젊음']\n",
    "titanic12 = titanic3[titanic.age_class == '중간']\n",
    "titanic13 = titanic3[titanic.age_class == '늙음']\n",
    "\n",
    "titanic14 = titanic4[titanic.age_class == '젊음']\n",
    "titanic15 = titanic4[titanic.age_class == '중간']\n",
    "titanic16 = titanic4[titanic.age_class == '늙음']"
   ]
  },
  {
   "cell_type": "code",
   "execution_count": 344,
   "metadata": {},
   "outputs": [],
   "source": [
    "female_young = titanic11.count()['age_class'] / titanic3.count()['survived']\n",
    "female = titanic12.count()['age_class'] / titanic3.count()['survived']\n",
    "female_old = titanic13.count()['age_class'] / titanic3.count()['survived']\n",
    "\n",
    "male_young = titanic14.count()['age_class'] / titanic4.count()['survived']\n",
    "male = titanic15.count()['age_class'] / titanic4.count()['survived']\n",
    "male_old = titanic16.count()['age_class'] / titanic4.count()['survived']"
   ]
  },
  {
   "cell_type": "code",
   "execution_count": 350,
   "metadata": {},
   "outputs": [
    {
     "output_type": "stream",
     "name": "stdout",
     "text": [
      "젊은여자 생존율 : 젊은남자 생존율 =  0.648854961832061 : 0.3511450381679389\n젊은여자 생존율 : 젊은남자 생존율 =  0.7222222222222222 : 0.2777777777777778\n젊은여자 생존율 : 젊은남자 생존율 =  0.6859504132231405 : 0.3140495867768595\n"
     ]
    }
   ],
   "source": [
    "# 나이 그룹별 남녀 생존율\n",
    "w_young = titanic11.count()['age_class']/(titanic11.count()['age_class']+titanic14.count()['age_class'])\n",
    "m_young = titanic14.count()['age_class']/(titanic11.count()['age_class']+titanic14.count()['age_class'])\n",
    "\n",
    "w = titanic12.count()['age_class']/(titanic12.count()['age_class']+titanic15.count()['age_class'])\n",
    "m = titanic15.count()['age_class']/(titanic12.count()['age_class']+titanic15.count()['age_class'])\n",
    "\n",
    "w_old = titanic13.count()['age_class']/(titanic13.count()['age_class']+titanic16.count()['age_class'])\n",
    "m_old = titanic16.count()['age_class']/(titanic13.count()['age_class']+titanic16.count()['age_class'])\n",
    "\n",
    "print('젊은여자 생존율 : 젊은남자 생존율 = ', w_young, ':', m_young)\n",
    "print('젊은여자 생존율 : 젊은남자 생존율 = ', w, ':', m)\n",
    "print('젊은여자 생존율 : 젊은남자 생존율 = ', w_old, ':', m_old)"
   ]
  },
  {
   "cell_type": "code",
   "execution_count": 332,
   "metadata": {},
   "outputs": [
    {
     "output_type": "stream",
     "name": "stdout",
     "text": [
      "젊은 여성 생존율 : 0.3648068669527897\n중간 여성 생존율 : 0.27896995708154504\n늙은 여성 생존율 : 0.3562231759656652\n젊은 남성 생존율 : 0.42201834862385323\n중간 남성 생존율 : 0.22935779816513763\n늙은 남성 생존율 : 0.3486238532110092\n"
     ]
    }
   ],
   "source": [
    "# 남녀 성비 생존율\n",
    "\n",
    "print('젊은 여성 생존율 :', female_young)\n",
    "print('중간 여성 생존율 :', female)\n",
    "print('늙은 여성 생존율 :', female_old)\n",
    "print('젊은 남성 생존율 :', male_young)\n",
    "print('중간 남성 생존율 :', male)\n",
    "print('늙은 남성 생존율 :', male_old)\n"
   ]
  },
  {
   "source": [
    "### 3. Mile Per Gallon - sns.load_dataset('mpg')\n",
    "\n",
    "a. 배기량(displacement) 대비 마력(horsepower) 열(hp_per_cc)을 추가하시오.\n",
    "\n",
    "b. name으로부터 manufacturer(제조사)와 모델을 추출하여 새로운 열 manufacturer와 model을 추가하고, name 열은 삭제하시오.\n",
    "\n",
    "c. 엔진의 실린더(cylinders) 갯수별 연비(mpg)의 평균을 구하시오.\n",
    "\n",
    "d. 생산지(origin)별 배기량 대비 마력(hp_per_cc)의 평균을 구하시오.\n",
    "\n",
    "e. 모델이 5개 이상인 제조사에 대하여 연비(mpg)의 평균이 가장 좋은 제조사 Top5를 구하시오."
   ],
   "cell_type": "markdown",
   "metadata": {}
  }
 ]
}