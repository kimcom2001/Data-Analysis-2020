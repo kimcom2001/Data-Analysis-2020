{
 "cells": [
  {
   "cell_type": "markdown",
   "metadata": {},
   "source": [
    "# Pandas 연습문제"
   ]
  },
  {
   "cell_type": "code",
   "execution_count": 12,
   "metadata": {},
   "outputs": [],
   "source": [
    "import numpy as np\n",
    "import pandas as pd"
   ]
  },
  {
   "cell_type": "markdown",
   "metadata": {},
   "source": [
    "### 1. population_age_2020.csv 파일을 읽어들여 2차원 리스트에 저장한 다음 실행 결과와 같이 출력하는 프로그램을 작성하시오."
   ]
  },
  {
   "cell_type": "code",
   "execution_count": 3,
   "metadata": {},
   "outputs": [
    {
     "output_type": "stream",
     "name": "stdout",
     "text": [
      "Overwriting sample/population_age_2020.csv\n"
     ]
    }
   ],
   "source": [
    "%%writefile sample/population_age_2020.csv\n",
    "지역,총인구수,0~9세,10~19세,20~29세,30~39세,40~49세,50~59세,60~69세,70~79세,80~89세,90~99세,100세 이상\n",
    "서울,9736962,658355,813563,1455903,1505729,1563968,1539385,1200518,688818,263939,40404,6380\n",
    "부산,3410925,241624,281120,434692,431911,518321,580966,511174,285602,109312,14396,1807\n",
    "대구,2432883,186623,234528,321487,303397,391997,428622,311274,171217,74227,8817,694\n",
    "인천,2954955,239941,281097,405835,417708,490716,515758,344843,172269,74306,11574,908\n",
    "광주,1456121,125396,162728,207554,191432,244903,234048,155056,91020,38050,5529,405\n",
    "대전,1473125,120476,151861,212143,199106,242381,243526,170291,88289,39190,5523,339\n",
    "울산,1145710,103399,115623,147745,158271,190698,211255,136520,57438,21610,2991,160\n",
    "세종,343788,47454,40574,36273,61442,65714,42907,27813,13609,6863,1084,55\n",
    "경기도,13265377,1178548,1347854,1769080,1917785,2299179,2205106,1422638,742296,330231,48650,4010\n",
    "강원도,1539521,108694,141975,179813,169694,227950,269666,226444,135668,68321,10493,803\n",
    "충청북도,1598599,128290,153119,198910,198768,243982,273857,209926,119037,63513,8656,541\n",
    "충청남도,2120995,179808,206578,243748,276553,329789,340568,264305,167339,97941,13481,885\n",
    "전라북도,1815112,135297,180675,212339,195971,274471,303074,244901,165445,89352,12770,817\n",
    "전라남도,1861894,137868,172888,202760,193083,265366,317226,259385,191719,105793,14984,822\n",
    "경상북도,2658956,198214,233506,291097,303472,390995,464427,389498,238482,130716,17589,960\n",
    "경상남도,3358828,282751,331566,384750,418383,543911,585186,435315,240111,119977,16139,739\n",
    "제주도,670876,62086,71539,81968,84145,113076,111221,75172,44621,22963,3819,266"
   ]
  },
  {
   "cell_type": "code",
   "execution_count": 4,
   "metadata": {},
   "outputs": [
    {
     "output_type": "execute_result",
     "data": {
      "text/plain": [
       "      지역      총인구수     0~9세   10~19세   20~29세   30~39세   40~49세   50~59세  \\\n",
       "0     서울   9736962   658355   813563  1455903  1505729  1563968  1539385   \n",
       "1     부산   3410925   241624   281120   434692   431911   518321   580966   \n",
       "2     대구   2432883   186623   234528   321487   303397   391997   428622   \n",
       "3     인천   2954955   239941   281097   405835   417708   490716   515758   \n",
       "4     광주   1456121   125396   162728   207554   191432   244903   234048   \n",
       "5     대전   1473125   120476   151861   212143   199106   242381   243526   \n",
       "6     울산   1145710   103399   115623   147745   158271   190698   211255   \n",
       "7     세종    343788    47454    40574    36273    61442    65714    42907   \n",
       "8    경기도  13265377  1178548  1347854  1769080  1917785  2299179  2205106   \n",
       "9    강원도   1539521   108694   141975   179813   169694   227950   269666   \n",
       "10  충청북도   1598599   128290   153119   198910   198768   243982   273857   \n",
       "11  충청남도   2120995   179808   206578   243748   276553   329789   340568   \n",
       "12  전라북도   1815112   135297   180675   212339   195971   274471   303074   \n",
       "13  전라남도   1861894   137868   172888   202760   193083   265366   317226   \n",
       "14  경상북도   2658956   198214   233506   291097   303472   390995   464427   \n",
       "15  경상남도   3358828   282751   331566   384750   418383   543911   585186   \n",
       "16   제주도    670876    62086    71539    81968    84145   113076   111221   \n",
       "\n",
       "     60~69세  70~79세  80~89세  90~99세  100세 이상  \n",
       "0   1200518  688818  263939   40404     6380  \n",
       "1    511174  285602  109312   14396     1807  \n",
       "2    311274  171217   74227    8817      694  \n",
       "3    344843  172269   74306   11574      908  \n",
       "4    155056   91020   38050    5529      405  \n",
       "5    170291   88289   39190    5523      339  \n",
       "6    136520   57438   21610    2991      160  \n",
       "7     27813   13609    6863    1084       55  \n",
       "8   1422638  742296  330231   48650     4010  \n",
       "9    226444  135668   68321   10493      803  \n",
       "10   209926  119037   63513    8656      541  \n",
       "11   264305  167339   97941   13481      885  \n",
       "12   244901  165445   89352   12770      817  \n",
       "13   259385  191719  105793   14984      822  \n",
       "14   389498  238482  130716   17589      960  \n",
       "15   435315  240111  119977   16139      739  \n",
       "16    75172   44621   22963    3819      266  "
      ],
      "text/html": "<div>\n<style scoped>\n    .dataframe tbody tr th:only-of-type {\n        vertical-align: middle;\n    }\n\n    .dataframe tbody tr th {\n        vertical-align: top;\n    }\n\n    .dataframe thead th {\n        text-align: right;\n    }\n</style>\n<table border=\"1\" class=\"dataframe\">\n  <thead>\n    <tr style=\"text-align: right;\">\n      <th></th>\n      <th>지역</th>\n      <th>총인구수</th>\n      <th>0~9세</th>\n      <th>10~19세</th>\n      <th>20~29세</th>\n      <th>30~39세</th>\n      <th>40~49세</th>\n      <th>50~59세</th>\n      <th>60~69세</th>\n      <th>70~79세</th>\n      <th>80~89세</th>\n      <th>90~99세</th>\n      <th>100세 이상</th>\n    </tr>\n  </thead>\n  <tbody>\n    <tr>\n      <th>0</th>\n      <td>서울</td>\n      <td>9736962</td>\n      <td>658355</td>\n      <td>813563</td>\n      <td>1455903</td>\n      <td>1505729</td>\n      <td>1563968</td>\n      <td>1539385</td>\n      <td>1200518</td>\n      <td>688818</td>\n      <td>263939</td>\n      <td>40404</td>\n      <td>6380</td>\n    </tr>\n    <tr>\n      <th>1</th>\n      <td>부산</td>\n      <td>3410925</td>\n      <td>241624</td>\n      <td>281120</td>\n      <td>434692</td>\n      <td>431911</td>\n      <td>518321</td>\n      <td>580966</td>\n      <td>511174</td>\n      <td>285602</td>\n      <td>109312</td>\n      <td>14396</td>\n      <td>1807</td>\n    </tr>\n    <tr>\n      <th>2</th>\n      <td>대구</td>\n      <td>2432883</td>\n      <td>186623</td>\n      <td>234528</td>\n      <td>321487</td>\n      <td>303397</td>\n      <td>391997</td>\n      <td>428622</td>\n      <td>311274</td>\n      <td>171217</td>\n      <td>74227</td>\n      <td>8817</td>\n      <td>694</td>\n    </tr>\n    <tr>\n      <th>3</th>\n      <td>인천</td>\n      <td>2954955</td>\n      <td>239941</td>\n      <td>281097</td>\n      <td>405835</td>\n      <td>417708</td>\n      <td>490716</td>\n      <td>515758</td>\n      <td>344843</td>\n      <td>172269</td>\n      <td>74306</td>\n      <td>11574</td>\n      <td>908</td>\n    </tr>\n    <tr>\n      <th>4</th>\n      <td>광주</td>\n      <td>1456121</td>\n      <td>125396</td>\n      <td>162728</td>\n      <td>207554</td>\n      <td>191432</td>\n      <td>244903</td>\n      <td>234048</td>\n      <td>155056</td>\n      <td>91020</td>\n      <td>38050</td>\n      <td>5529</td>\n      <td>405</td>\n    </tr>\n    <tr>\n      <th>5</th>\n      <td>대전</td>\n      <td>1473125</td>\n      <td>120476</td>\n      <td>151861</td>\n      <td>212143</td>\n      <td>199106</td>\n      <td>242381</td>\n      <td>243526</td>\n      <td>170291</td>\n      <td>88289</td>\n      <td>39190</td>\n      <td>5523</td>\n      <td>339</td>\n    </tr>\n    <tr>\n      <th>6</th>\n      <td>울산</td>\n      <td>1145710</td>\n      <td>103399</td>\n      <td>115623</td>\n      <td>147745</td>\n      <td>158271</td>\n      <td>190698</td>\n      <td>211255</td>\n      <td>136520</td>\n      <td>57438</td>\n      <td>21610</td>\n      <td>2991</td>\n      <td>160</td>\n    </tr>\n    <tr>\n      <th>7</th>\n      <td>세종</td>\n      <td>343788</td>\n      <td>47454</td>\n      <td>40574</td>\n      <td>36273</td>\n      <td>61442</td>\n      <td>65714</td>\n      <td>42907</td>\n      <td>27813</td>\n      <td>13609</td>\n      <td>6863</td>\n      <td>1084</td>\n      <td>55</td>\n    </tr>\n    <tr>\n      <th>8</th>\n      <td>경기도</td>\n      <td>13265377</td>\n      <td>1178548</td>\n      <td>1347854</td>\n      <td>1769080</td>\n      <td>1917785</td>\n      <td>2299179</td>\n      <td>2205106</td>\n      <td>1422638</td>\n      <td>742296</td>\n      <td>330231</td>\n      <td>48650</td>\n      <td>4010</td>\n    </tr>\n    <tr>\n      <th>9</th>\n      <td>강원도</td>\n      <td>1539521</td>\n      <td>108694</td>\n      <td>141975</td>\n      <td>179813</td>\n      <td>169694</td>\n      <td>227950</td>\n      <td>269666</td>\n      <td>226444</td>\n      <td>135668</td>\n      <td>68321</td>\n      <td>10493</td>\n      <td>803</td>\n    </tr>\n    <tr>\n      <th>10</th>\n      <td>충청북도</td>\n      <td>1598599</td>\n      <td>128290</td>\n      <td>153119</td>\n      <td>198910</td>\n      <td>198768</td>\n      <td>243982</td>\n      <td>273857</td>\n      <td>209926</td>\n      <td>119037</td>\n      <td>63513</td>\n      <td>8656</td>\n      <td>541</td>\n    </tr>\n    <tr>\n      <th>11</th>\n      <td>충청남도</td>\n      <td>2120995</td>\n      <td>179808</td>\n      <td>206578</td>\n      <td>243748</td>\n      <td>276553</td>\n      <td>329789</td>\n      <td>340568</td>\n      <td>264305</td>\n      <td>167339</td>\n      <td>97941</td>\n      <td>13481</td>\n      <td>885</td>\n    </tr>\n    <tr>\n      <th>12</th>\n      <td>전라북도</td>\n      <td>1815112</td>\n      <td>135297</td>\n      <td>180675</td>\n      <td>212339</td>\n      <td>195971</td>\n      <td>274471</td>\n      <td>303074</td>\n      <td>244901</td>\n      <td>165445</td>\n      <td>89352</td>\n      <td>12770</td>\n      <td>817</td>\n    </tr>\n    <tr>\n      <th>13</th>\n      <td>전라남도</td>\n      <td>1861894</td>\n      <td>137868</td>\n      <td>172888</td>\n      <td>202760</td>\n      <td>193083</td>\n      <td>265366</td>\n      <td>317226</td>\n      <td>259385</td>\n      <td>191719</td>\n      <td>105793</td>\n      <td>14984</td>\n      <td>822</td>\n    </tr>\n    <tr>\n      <th>14</th>\n      <td>경상북도</td>\n      <td>2658956</td>\n      <td>198214</td>\n      <td>233506</td>\n      <td>291097</td>\n      <td>303472</td>\n      <td>390995</td>\n      <td>464427</td>\n      <td>389498</td>\n      <td>238482</td>\n      <td>130716</td>\n      <td>17589</td>\n      <td>960</td>\n    </tr>\n    <tr>\n      <th>15</th>\n      <td>경상남도</td>\n      <td>3358828</td>\n      <td>282751</td>\n      <td>331566</td>\n      <td>384750</td>\n      <td>418383</td>\n      <td>543911</td>\n      <td>585186</td>\n      <td>435315</td>\n      <td>240111</td>\n      <td>119977</td>\n      <td>16139</td>\n      <td>739</td>\n    </tr>\n    <tr>\n      <th>16</th>\n      <td>제주도</td>\n      <td>670876</td>\n      <td>62086</td>\n      <td>71539</td>\n      <td>81968</td>\n      <td>84145</td>\n      <td>113076</td>\n      <td>111221</td>\n      <td>75172</td>\n      <td>44621</td>\n      <td>22963</td>\n      <td>3819</td>\n      <td>266</td>\n    </tr>\n  </tbody>\n</table>\n</div>"
     },
     "metadata": {},
     "execution_count": 4
    }
   ],
   "source": [
    "x = pd.read_csv('sample/population_age_2020.csv')\n",
    "x"
   ]
  },
  {
   "cell_type": "markdown",
   "metadata": {},
   "source": [
    "### 2. 1번의 2차원 리스트 네이터에 대해 열과 행을 바꾸는 프로그램을 작성하시오"
   ]
  },
  {
   "cell_type": "code",
   "execution_count": 5,
   "metadata": {},
   "outputs": [
    {
     "output_type": "stream",
     "name": "stdout",
     "text": [
      "[['서울' '부산' '대구' '인천' '광주' '대전' '울산' '세종' '경기도' '강원도' '충청북도' '충청남도'\n  '전라북도' '전라남도' '경상북도' '경상남도' '제주도']\n [9736962 3410925 2432883 2954955 1456121 1473125 1145710 343788 13265377\n  1539521 1598599 2120995 1815112 1861894 2658956 3358828 670876]\n [658355 241624 186623 239941 125396 120476 103399 47454 1178548 108694\n  128290 179808 135297 137868 198214 282751 62086]\n [813563 281120 234528 281097 162728 151861 115623 40574 1347854 141975\n  153119 206578 180675 172888 233506 331566 71539]\n [1455903 434692 321487 405835 207554 212143 147745 36273 1769080 179813\n  198910 243748 212339 202760 291097 384750 81968]\n [1505729 431911 303397 417708 191432 199106 158271 61442 1917785 169694\n  198768 276553 195971 193083 303472 418383 84145]\n [1563968 518321 391997 490716 244903 242381 190698 65714 2299179 227950\n  243982 329789 274471 265366 390995 543911 113076]\n [1539385 580966 428622 515758 234048 243526 211255 42907 2205106 269666\n  273857 340568 303074 317226 464427 585186 111221]\n [1200518 511174 311274 344843 155056 170291 136520 27813 1422638 226444\n  209926 264305 244901 259385 389498 435315 75172]\n [688818 285602 171217 172269 91020 88289 57438 13609 742296 135668\n  119037 167339 165445 191719 238482 240111 44621]\n [263939 109312 74227 74306 38050 39190 21610 6863 330231 68321 63513\n  97941 89352 105793 130716 119977 22963]\n [40404 14396 8817 11574 5529 5523 2991 1084 48650 10493 8656 13481 12770\n  14984 17589 16139 3819]\n [6380 1807 694 908 405 339 160 55 4010 803 541 885 817 822 960 739 266]]\n"
     ]
    }
   ],
   "source": [
    "y = x.T.values\n",
    "print(y)"
   ]
  },
  {
   "cell_type": "markdown",
   "metadata": {},
   "source": [
    "### 3. 2번의 2차원 리스트 데이터를 딕셔너리 데이터 형으로 변환하는 프로그램을 작성하시오."
   ]
  },
  {
   "cell_type": "code",
   "execution_count": 6,
   "metadata": {},
   "outputs": [
    {
     "output_type": "stream",
     "name": "stdout",
     "text": [
      "{'지역': ['서울', '부산', '대구', '인천', '광주', '대전', '울산', '세종', '경기도', '강원도', '충청북도', '충청남도', '전라북도', '전라남도', '경상북도', '경상남도', '제주도'], '총인구수': [9736962, 3410925, 2432883, 2954955, 1456121, 1473125, 1145710, 343788, 13265377, 1539521, 1598599, 2120995, 1815112, 1861894, 2658956, 3358828, 670876], '0~9세': [658355, 241624, 186623, 239941, 125396, 120476, 103399, 47454, 1178548, 108694, 128290, 179808, 135297, 137868, 198214, 282751, 62086], '10~19세': [813563, 281120, 234528, 281097, 162728, 151861, 115623, 40574, 1347854, 141975, 153119, 206578, 180675, 172888, 233506, 331566, 71539], '20~29세': [1455903, 434692, 321487, 405835, 207554, 212143, 147745, 36273, 1769080, 179813, 198910, 243748, 212339, 202760, 291097, 384750, 81968], '30~39세': [1505729, 431911, 303397, 417708, 191432, 199106, 158271, 61442, 1917785, 169694, 198768, 276553, 195971, 193083, 303472, 418383, 84145], '40~49세': [1563968, 518321, 391997, 490716, 244903, 242381, 190698, 65714, 2299179, 227950, 243982, 329789, 274471, 265366, 390995, 543911, 113076], '50~59세': [1539385, 580966, 428622, 515758, 234048, 243526, 211255, 42907, 2205106, 269666, 273857, 340568, 303074, 317226, 464427, 585186, 111221], '60~69세': [1200518, 511174, 311274, 344843, 155056, 170291, 136520, 27813, 1422638, 226444, 209926, 264305, 244901, 259385, 389498, 435315, 75172], '70~79세': [688818, 285602, 171217, 172269, 91020, 88289, 57438, 13609, 742296, 135668, 119037, 167339, 165445, 191719, 238482, 240111, 44621], '80~89세': [263939, 109312, 74227, 74306, 38050, 39190, 21610, 6863, 330231, 68321, 63513, 97941, 89352, 105793, 130716, 119977, 22963], '90~99세': [40404, 14396, 8817, 11574, 5529, 5523, 2991, 1084, 48650, 10493, 8656, 13481, 12770, 14984, 17589, 16139, 3819], '100세 이상': [6380, 1807, 694, 908, 405, 339, 160, 55, 4010, 803, 541, 885, 817, 822, 960, 739, 266]}\n"
     ]
    }
   ],
   "source": [
    "key = x.columns\n",
    "value = []\n",
    "for i in range(len(y)):\n",
    "    k = list(y[i])\n",
    "    value.append(k)\n",
    "\n",
    "dict_list = dict(zip(key, value))\n",
    "print(dict_list)"
   ]
  },
  {
   "cell_type": "code",
   "execution_count": 7,
   "metadata": {},
   "outputs": [
    {
     "output_type": "stream",
     "name": "stdout",
     "text": [
      "{'지역': ['서울', '부산', '대구', '인천', '광주', '대전', '울산', '세종', '경기도', '강원도', '충청북도', '충청남도', '전라북도', '전라남도', '경상북도', '경상남도', '제주도'], '총인구수': [9736962, 3410925, 2432883, 2954955, 1456121, 1473125, 1145710, 343788, 13265377, 1539521, 1598599, 2120995, 1815112, 1861894, 2658956, 3358828, 670876], '0~9세': [658355, 241624, 186623, 239941, 125396, 120476, 103399, 47454, 1178548, 108694, 128290, 179808, 135297, 137868, 198214, 282751, 62086], '10~19세': [813563, 281120, 234528, 281097, 162728, 151861, 115623, 40574, 1347854, 141975, 153119, 206578, 180675, 172888, 233506, 331566, 71539], '20~29세': [1455903, 434692, 321487, 405835, 207554, 212143, 147745, 36273, 1769080, 179813, 198910, 243748, 212339, 202760, 291097, 384750, 81968], '30~39세': [1505729, 431911, 303397, 417708, 191432, 199106, 158271, 61442, 1917785, 169694, 198768, 276553, 195971, 193083, 303472, 418383, 84145], '40~49세': [1563968, 518321, 391997, 490716, 244903, 242381, 190698, 65714, 2299179, 227950, 243982, 329789, 274471, 265366, 390995, 543911, 113076], '50~59세': [1539385, 580966, 428622, 515758, 234048, 243526, 211255, 42907, 2205106, 269666, 273857, 340568, 303074, 317226, 464427, 585186, 111221], '60~69세': [1200518, 511174, 311274, 344843, 155056, 170291, 136520, 27813, 1422638, 226444, 209926, 264305, 244901, 259385, 389498, 435315, 75172], '70~79세': [688818, 285602, 171217, 172269, 91020, 88289, 57438, 13609, 742296, 135668, 119037, 167339, 165445, 191719, 238482, 240111, 44621], '80~89세': [263939, 109312, 74227, 74306, 38050, 39190, 21610, 6863, 330231, 68321, 63513, 97941, 89352, 105793, 130716, 119977, 22963], '90~99세': [40404, 14396, 8817, 11574, 5529, 5523, 2991, 1084, 48650, 10493, 8656, 13481, 12770, 14984, 17589, 16139, 3819], '100세 이상': [6380, 1807, 694, 908, 405, 339, 160, 55, 4010, 803, 541, 885, 817, 822, 960, 739, 266]}\n"
     ]
    }
   ],
   "source": [
    "print(x.to_dict('list'))"
   ]
  },
  {
   "cell_type": "markdown",
   "metadata": {},
   "source": [
    "### 4. 3번의 딕셔너리 데이터를 DataFrame에 저장한 다음 실행 결과와 같이 출력하는 프로그램을 작성하시오."
   ]
  },
  {
   "cell_type": "code",
   "execution_count": 8,
   "metadata": {},
   "outputs": [
    {
     "output_type": "stream",
     "name": "stdout",
     "text": [
      "      지역   60~69세  70~79세  80~89세  90~99세  100세 이상\n0     서울  1200518  688818  263939   40404     6380\n1     부산   511174  285602  109312   14396     1807\n2     대구   311274  171217   74227    8817      694\n3     인천   344843  172269   74306   11574      908\n4     광주   155056   91020   38050    5529      405\n5     대전   170291   88289   39190    5523      339\n6     울산   136520   57438   21610    2991      160\n7     세종    27813   13609    6863    1084       55\n8    경기도  1422638  742296  330231   48650     4010\n9    강원도   226444  135668   68321   10493      803\n10  충청북도   209926  119037   63513    8656      541\n11  충청남도   264305  167339   97941   13481      885\n12  전라북도   244901  165445   89352   12770      817\n13  전라남도   259385  191719  105793   14984      822\n14  경상북도   389498  238482  130716   17589      960\n15  경상남도   435315  240111  119977   16139      739\n16   제주도    75172   44621   22963    3819      266\n"
     ]
    }
   ],
   "source": [
    "z = pd.DataFrame(dict_list)\n",
    "\n",
    "print(z[[z.columns[0], z.columns[8], z.columns[9], z.columns[10], z.columns[11], z.columns[12]]])\n"
   ]
  },
  {
   "cell_type": "markdown",
   "metadata": {},
   "source": [
    "### 5. 4번의 DataFrame에 저장된 데이터를 '100세 이상'열을 기준으로 하여 내림차순으로 정렬한 다음 실행 결과와 같이 출력하는 프로그램을 작성하시오."
   ]
  },
  {
   "cell_type": "code",
   "execution_count": 9,
   "metadata": {},
   "outputs": [
    {
     "output_type": "stream",
     "name": "stdout",
     "text": [
      "      지역  100세 이상\n0     서울     6380\n8    경기도     4010\n1     부산     1807\n14  경상북도      960\n3     인천      908\n11  충청남도      885\n13  전라남도      822\n12  전라북도      817\n9    강원도      803\n15  경상남도      739\n2     대구      694\n10  충청북도      541\n4     광주      405\n5     대전      339\n16   제주도      266\n6     울산      160\n7     세종       55\n"
     ]
    }
   ],
   "source": [
    "t = z.sort_values(by=\"100세 이상\",ascending=False)[[z.columns[0], z.columns[12]]]\n",
    "print(t)"
   ]
  },
  {
   "source": [
    "# 연습문제 풀이(데이터 사이언스)"
   ],
   "cell_type": "markdown",
   "metadata": {}
  },
  {
   "source": [
    "# 연습문제 4.4.4\n",
    "\n",
    "타이타닉호의 승객에 대해 나이와 성별에 의한 카테고리 열인 category1 열을 만들어라. category1 카테고리는 다음과 같이 정의된다.\n",
    "\n",
    "20살이 넘으면 성별을 그대로 사용한다.\n",
    "\n",
    "20살 미만이면 성별에 관계없이 “child”라고 한다.\n",
    "\n"
   ],
   "cell_type": "markdown",
   "metadata": {}
  },
  {
   "cell_type": "code",
   "execution_count": 8,
   "metadata": {},
   "outputs": [
    {
     "output_type": "execute_result",
     "data": {
      "text/plain": [
       "   survived  pclass     sex   age  sibsp  parch     fare embarked  class  \\\n",
       "0         0       3    male  22.0      1      0   7.2500        S  Third   \n",
       "1         1       1  female  38.0      1      0  71.2833        C  First   \n",
       "2         1       3  female  26.0      0      0   7.9250        S  Third   \n",
       "3         1       1  female  35.0      1      0  53.1000        S  First   \n",
       "4         0       3    male  35.0      0      0   8.0500        S  Third   \n",
       "\n",
       "     who  adult_male deck  embark_town alive  alone  \n",
       "0    man        True  NaN  Southampton    no  False  \n",
       "1  woman       False    C    Cherbourg   yes  False  \n",
       "2  woman       False  NaN  Southampton   yes   True  \n",
       "3  woman       False    C  Southampton   yes  False  \n",
       "4    man        True  NaN  Southampton    no   True  "
      ],
      "text/html": "<div>\n<style scoped>\n    .dataframe tbody tr th:only-of-type {\n        vertical-align: middle;\n    }\n\n    .dataframe tbody tr th {\n        vertical-align: top;\n    }\n\n    .dataframe thead th {\n        text-align: right;\n    }\n</style>\n<table border=\"1\" class=\"dataframe\">\n  <thead>\n    <tr style=\"text-align: right;\">\n      <th></th>\n      <th>survived</th>\n      <th>pclass</th>\n      <th>sex</th>\n      <th>age</th>\n      <th>sibsp</th>\n      <th>parch</th>\n      <th>fare</th>\n      <th>embarked</th>\n      <th>class</th>\n      <th>who</th>\n      <th>adult_male</th>\n      <th>deck</th>\n      <th>embark_town</th>\n      <th>alive</th>\n      <th>alone</th>\n    </tr>\n  </thead>\n  <tbody>\n    <tr>\n      <th>0</th>\n      <td>0</td>\n      <td>3</td>\n      <td>male</td>\n      <td>22.0</td>\n      <td>1</td>\n      <td>0</td>\n      <td>7.2500</td>\n      <td>S</td>\n      <td>Third</td>\n      <td>man</td>\n      <td>True</td>\n      <td>NaN</td>\n      <td>Southampton</td>\n      <td>no</td>\n      <td>False</td>\n    </tr>\n    <tr>\n      <th>1</th>\n      <td>1</td>\n      <td>1</td>\n      <td>female</td>\n      <td>38.0</td>\n      <td>1</td>\n      <td>0</td>\n      <td>71.2833</td>\n      <td>C</td>\n      <td>First</td>\n      <td>woman</td>\n      <td>False</td>\n      <td>C</td>\n      <td>Cherbourg</td>\n      <td>yes</td>\n      <td>False</td>\n    </tr>\n    <tr>\n      <th>2</th>\n      <td>1</td>\n      <td>3</td>\n      <td>female</td>\n      <td>26.0</td>\n      <td>0</td>\n      <td>0</td>\n      <td>7.9250</td>\n      <td>S</td>\n      <td>Third</td>\n      <td>woman</td>\n      <td>False</td>\n      <td>NaN</td>\n      <td>Southampton</td>\n      <td>yes</td>\n      <td>True</td>\n    </tr>\n    <tr>\n      <th>3</th>\n      <td>1</td>\n      <td>1</td>\n      <td>female</td>\n      <td>35.0</td>\n      <td>1</td>\n      <td>0</td>\n      <td>53.1000</td>\n      <td>S</td>\n      <td>First</td>\n      <td>woman</td>\n      <td>False</td>\n      <td>C</td>\n      <td>Southampton</td>\n      <td>yes</td>\n      <td>False</td>\n    </tr>\n    <tr>\n      <th>4</th>\n      <td>0</td>\n      <td>3</td>\n      <td>male</td>\n      <td>35.0</td>\n      <td>0</td>\n      <td>0</td>\n      <td>8.0500</td>\n      <td>S</td>\n      <td>Third</td>\n      <td>man</td>\n      <td>True</td>\n      <td>NaN</td>\n      <td>Southampton</td>\n      <td>no</td>\n      <td>True</td>\n    </tr>\n  </tbody>\n</table>\n</div>"
     },
     "metadata": {},
     "execution_count": 8
    }
   ],
   "source": [
    "import seaborn as sns\n",
    "titanic = sns.load_dataset(\"titanic\")\n",
    "titanic.head()"
   ]
  },
  {
   "cell_type": "code",
   "execution_count": 9,
   "metadata": {},
   "outputs": [
    {
     "output_type": "execute_result",
     "data": {
      "text/plain": [
       "     survived  pclass     sex   age  sibsp  parch   fare embarked   class  \\\n",
       "886         0       2    male  27.0      0      0  13.00        S  Second   \n",
       "887         1       1  female  19.0      0      0  30.00        S   First   \n",
       "888         0       3  female   NaN      1      2  23.45        S   Third   \n",
       "889         1       1    male  26.0      0      0  30.00        C   First   \n",
       "890         0       3    male  32.0      0      0   7.75        Q   Third   \n",
       "\n",
       "       who  adult_male deck  embark_town alive  alone category1  \n",
       "886    man        True  NaN  Southampton    no   True      male  \n",
       "887  woman       False    B  Southampton   yes   True     child  \n",
       "888  woman       False  NaN  Southampton    no  False     child  \n",
       "889    man        True    C    Cherbourg   yes   True      male  \n",
       "890    man        True  NaN   Queenstown    no   True      male  "
      ],
      "text/html": "<div>\n<style scoped>\n    .dataframe tbody tr th:only-of-type {\n        vertical-align: middle;\n    }\n\n    .dataframe tbody tr th {\n        vertical-align: top;\n    }\n\n    .dataframe thead th {\n        text-align: right;\n    }\n</style>\n<table border=\"1\" class=\"dataframe\">\n  <thead>\n    <tr style=\"text-align: right;\">\n      <th></th>\n      <th>survived</th>\n      <th>pclass</th>\n      <th>sex</th>\n      <th>age</th>\n      <th>sibsp</th>\n      <th>parch</th>\n      <th>fare</th>\n      <th>embarked</th>\n      <th>class</th>\n      <th>who</th>\n      <th>adult_male</th>\n      <th>deck</th>\n      <th>embark_town</th>\n      <th>alive</th>\n      <th>alone</th>\n      <th>category1</th>\n    </tr>\n  </thead>\n  <tbody>\n    <tr>\n      <th>886</th>\n      <td>0</td>\n      <td>2</td>\n      <td>male</td>\n      <td>27.0</td>\n      <td>0</td>\n      <td>0</td>\n      <td>13.00</td>\n      <td>S</td>\n      <td>Second</td>\n      <td>man</td>\n      <td>True</td>\n      <td>NaN</td>\n      <td>Southampton</td>\n      <td>no</td>\n      <td>True</td>\n      <td>male</td>\n    </tr>\n    <tr>\n      <th>887</th>\n      <td>1</td>\n      <td>1</td>\n      <td>female</td>\n      <td>19.0</td>\n      <td>0</td>\n      <td>0</td>\n      <td>30.00</td>\n      <td>S</td>\n      <td>First</td>\n      <td>woman</td>\n      <td>False</td>\n      <td>B</td>\n      <td>Southampton</td>\n      <td>yes</td>\n      <td>True</td>\n      <td>child</td>\n    </tr>\n    <tr>\n      <th>888</th>\n      <td>0</td>\n      <td>3</td>\n      <td>female</td>\n      <td>NaN</td>\n      <td>1</td>\n      <td>2</td>\n      <td>23.45</td>\n      <td>S</td>\n      <td>Third</td>\n      <td>woman</td>\n      <td>False</td>\n      <td>NaN</td>\n      <td>Southampton</td>\n      <td>no</td>\n      <td>False</td>\n      <td>child</td>\n    </tr>\n    <tr>\n      <th>889</th>\n      <td>1</td>\n      <td>1</td>\n      <td>male</td>\n      <td>26.0</td>\n      <td>0</td>\n      <td>0</td>\n      <td>30.00</td>\n      <td>C</td>\n      <td>First</td>\n      <td>man</td>\n      <td>True</td>\n      <td>C</td>\n      <td>Cherbourg</td>\n      <td>yes</td>\n      <td>True</td>\n      <td>male</td>\n    </tr>\n    <tr>\n      <th>890</th>\n      <td>0</td>\n      <td>3</td>\n      <td>male</td>\n      <td>32.0</td>\n      <td>0</td>\n      <td>0</td>\n      <td>7.75</td>\n      <td>Q</td>\n      <td>Third</td>\n      <td>man</td>\n      <td>True</td>\n      <td>NaN</td>\n      <td>Queenstown</td>\n      <td>no</td>\n      <td>True</td>\n      <td>male</td>\n    </tr>\n  </tbody>\n</table>\n</div>"
     },
     "metadata": {},
     "execution_count": 9
    }
   ],
   "source": [
    "titanic[\"category1\"] = titanic.apply(lambda r: r.sex if r.age >= 20 else \"child\", axis=1)\n",
    "titanic.tail()"
   ]
  },
  {
   "source": [
    "# 연습 문제 4.4.5\n",
    "타이타닉호의 승객 중 나이를 명시하지 않은 고객은 나이를 명시한 고객의 평균 나이 값이 되도록 titanic 데이터프레임을 고쳐라.\n",
    "\n"
   ],
   "cell_type": "markdown",
   "metadata": {}
  },
  {
   "cell_type": "code",
   "execution_count": 10,
   "metadata": {},
   "outputs": [
    {
     "output_type": "execute_result",
     "data": {
      "text/plain": [
       "     survived  pclass     sex   age  sibsp  parch   fare embarked   class  \\\n",
       "886         0       2    male  27.0      0      0  13.00        S  Second   \n",
       "887         1       1  female  19.0      0      0  30.00        S   First   \n",
       "888         0       3  female  29.7      1      2  23.45        S   Third   \n",
       "889         1       1    male  26.0      0      0  30.00        C   First   \n",
       "890         0       3    male  32.0      0      0   7.75        Q   Third   \n",
       "\n",
       "       who  adult_male deck  embark_town alive  alone category1  \n",
       "886    man        True  NaN  Southampton    no   True      male  \n",
       "887  woman       False    B  Southampton   yes   True     child  \n",
       "888  woman       False  NaN  Southampton    no  False     child  \n",
       "889    man        True    C    Cherbourg   yes   True      male  \n",
       "890    man        True  NaN   Queenstown    no   True      male  "
      ],
      "text/html": "<div>\n<style scoped>\n    .dataframe tbody tr th:only-of-type {\n        vertical-align: middle;\n    }\n\n    .dataframe tbody tr th {\n        vertical-align: top;\n    }\n\n    .dataframe thead th {\n        text-align: right;\n    }\n</style>\n<table border=\"1\" class=\"dataframe\">\n  <thead>\n    <tr style=\"text-align: right;\">\n      <th></th>\n      <th>survived</th>\n      <th>pclass</th>\n      <th>sex</th>\n      <th>age</th>\n      <th>sibsp</th>\n      <th>parch</th>\n      <th>fare</th>\n      <th>embarked</th>\n      <th>class</th>\n      <th>who</th>\n      <th>adult_male</th>\n      <th>deck</th>\n      <th>embark_town</th>\n      <th>alive</th>\n      <th>alone</th>\n      <th>category1</th>\n    </tr>\n  </thead>\n  <tbody>\n    <tr>\n      <th>886</th>\n      <td>0</td>\n      <td>2</td>\n      <td>male</td>\n      <td>27.0</td>\n      <td>0</td>\n      <td>0</td>\n      <td>13.00</td>\n      <td>S</td>\n      <td>Second</td>\n      <td>man</td>\n      <td>True</td>\n      <td>NaN</td>\n      <td>Southampton</td>\n      <td>no</td>\n      <td>True</td>\n      <td>male</td>\n    </tr>\n    <tr>\n      <th>887</th>\n      <td>1</td>\n      <td>1</td>\n      <td>female</td>\n      <td>19.0</td>\n      <td>0</td>\n      <td>0</td>\n      <td>30.00</td>\n      <td>S</td>\n      <td>First</td>\n      <td>woman</td>\n      <td>False</td>\n      <td>B</td>\n      <td>Southampton</td>\n      <td>yes</td>\n      <td>True</td>\n      <td>child</td>\n    </tr>\n    <tr>\n      <th>888</th>\n      <td>0</td>\n      <td>3</td>\n      <td>female</td>\n      <td>29.7</td>\n      <td>1</td>\n      <td>2</td>\n      <td>23.45</td>\n      <td>S</td>\n      <td>Third</td>\n      <td>woman</td>\n      <td>False</td>\n      <td>NaN</td>\n      <td>Southampton</td>\n      <td>no</td>\n      <td>False</td>\n      <td>child</td>\n    </tr>\n    <tr>\n      <th>889</th>\n      <td>1</td>\n      <td>1</td>\n      <td>male</td>\n      <td>26.0</td>\n      <td>0</td>\n      <td>0</td>\n      <td>30.00</td>\n      <td>C</td>\n      <td>First</td>\n      <td>man</td>\n      <td>True</td>\n      <td>C</td>\n      <td>Cherbourg</td>\n      <td>yes</td>\n      <td>True</td>\n      <td>male</td>\n    </tr>\n    <tr>\n      <th>890</th>\n      <td>0</td>\n      <td>3</td>\n      <td>male</td>\n      <td>32.0</td>\n      <td>0</td>\n      <td>0</td>\n      <td>7.75</td>\n      <td>Q</td>\n      <td>Third</td>\n      <td>man</td>\n      <td>True</td>\n      <td>NaN</td>\n      <td>Queenstown</td>\n      <td>no</td>\n      <td>True</td>\n      <td>male</td>\n    </tr>\n  </tbody>\n</table>\n</div>"
     },
     "metadata": {},
     "execution_count": 10
    }
   ],
   "source": [
    "titanic['age'] = titanic['age'].fillna(round(titanic.age.mean(), 2))\n",
    "titanic.tail()"
   ]
  },
  {
   "source": [
    "# 연습 문제 4.4.6\n",
    "타이타닉호의 승객에 대해 나이와 성별에 의한 카테고리 열인 category2 열을 만들어라. category2 카테고리는 다음과 같이 정의된다.\n",
    "\n",
    "성별을 나타내는 문자열 male 또는 female로 시작한다.\n",
    "\n",
    "성별을 나타내는 문자열 뒤에 나이를 나타내는 문자열이 온다.\n",
    "\n",
    "예를 들어 27살 남성은 male27 값이 된다.\n",
    "\n"
   ],
   "cell_type": "markdown",
   "metadata": {}
  },
  {
   "cell_type": "code",
   "execution_count": 16,
   "metadata": {},
   "outputs": [
    {
     "output_type": "execute_result",
     "data": {
      "text/plain": [
       "     survived  pclass     sex   age  sibsp  parch     fare embarked   class  \\\n",
       "0           0       3    male  22.0      1      0   7.2500        S   Third   \n",
       "1           1       1  female  38.0      1      0  71.2833        C   First   \n",
       "2           1       3  female  26.0      0      0   7.9250        S   Third   \n",
       "3           1       1  female  35.0      1      0  53.1000        S   First   \n",
       "4           0       3    male  35.0      0      0   8.0500        S   Third   \n",
       "..        ...     ...     ...   ...    ...    ...      ...      ...     ...   \n",
       "886         0       2    male  27.0      0      0  13.0000        S  Second   \n",
       "887         1       1  female  19.0      0      0  30.0000        S   First   \n",
       "888         0       3  female  29.7      1      2  23.4500        S   Third   \n",
       "889         1       1    male  26.0      0      0  30.0000        C   First   \n",
       "890         0       3    male  32.0      0      0   7.7500        Q   Third   \n",
       "\n",
       "       who  adult_male deck  embark_town alive  alone category1   category2  \n",
       "0      man        True  NaN  Southampton    no  False      male    male22.0  \n",
       "1    woman       False    C    Cherbourg   yes  False    female  female38.0  \n",
       "2    woman       False  NaN  Southampton   yes   True    female  female26.0  \n",
       "3    woman       False    C  Southampton   yes  False    female  female35.0  \n",
       "4      man        True  NaN  Southampton    no   True      male    male35.0  \n",
       "..     ...         ...  ...          ...   ...    ...       ...         ...  \n",
       "886    man        True  NaN  Southampton    no   True      male    male27.0  \n",
       "887  woman       False    B  Southampton   yes   True     child  female19.0  \n",
       "888  woman       False  NaN  Southampton    no  False     child  female29.7  \n",
       "889    man        True    C    Cherbourg   yes   True      male    male26.0  \n",
       "890    man        True  NaN   Queenstown    no   True      male    male32.0  \n",
       "\n",
       "[891 rows x 17 columns]"
      ],
      "text/html": "<div>\n<style scoped>\n    .dataframe tbody tr th:only-of-type {\n        vertical-align: middle;\n    }\n\n    .dataframe tbody tr th {\n        vertical-align: top;\n    }\n\n    .dataframe thead th {\n        text-align: right;\n    }\n</style>\n<table border=\"1\" class=\"dataframe\">\n  <thead>\n    <tr style=\"text-align: right;\">\n      <th></th>\n      <th>survived</th>\n      <th>pclass</th>\n      <th>sex</th>\n      <th>age</th>\n      <th>sibsp</th>\n      <th>parch</th>\n      <th>fare</th>\n      <th>embarked</th>\n      <th>class</th>\n      <th>who</th>\n      <th>adult_male</th>\n      <th>deck</th>\n      <th>embark_town</th>\n      <th>alive</th>\n      <th>alone</th>\n      <th>category1</th>\n      <th>category2</th>\n    </tr>\n  </thead>\n  <tbody>\n    <tr>\n      <th>0</th>\n      <td>0</td>\n      <td>3</td>\n      <td>male</td>\n      <td>22.0</td>\n      <td>1</td>\n      <td>0</td>\n      <td>7.2500</td>\n      <td>S</td>\n      <td>Third</td>\n      <td>man</td>\n      <td>True</td>\n      <td>NaN</td>\n      <td>Southampton</td>\n      <td>no</td>\n      <td>False</td>\n      <td>male</td>\n      <td>male22.0</td>\n    </tr>\n    <tr>\n      <th>1</th>\n      <td>1</td>\n      <td>1</td>\n      <td>female</td>\n      <td>38.0</td>\n      <td>1</td>\n      <td>0</td>\n      <td>71.2833</td>\n      <td>C</td>\n      <td>First</td>\n      <td>woman</td>\n      <td>False</td>\n      <td>C</td>\n      <td>Cherbourg</td>\n      <td>yes</td>\n      <td>False</td>\n      <td>female</td>\n      <td>female38.0</td>\n    </tr>\n    <tr>\n      <th>2</th>\n      <td>1</td>\n      <td>3</td>\n      <td>female</td>\n      <td>26.0</td>\n      <td>0</td>\n      <td>0</td>\n      <td>7.9250</td>\n      <td>S</td>\n      <td>Third</td>\n      <td>woman</td>\n      <td>False</td>\n      <td>NaN</td>\n      <td>Southampton</td>\n      <td>yes</td>\n      <td>True</td>\n      <td>female</td>\n      <td>female26.0</td>\n    </tr>\n    <tr>\n      <th>3</th>\n      <td>1</td>\n      <td>1</td>\n      <td>female</td>\n      <td>35.0</td>\n      <td>1</td>\n      <td>0</td>\n      <td>53.1000</td>\n      <td>S</td>\n      <td>First</td>\n      <td>woman</td>\n      <td>False</td>\n      <td>C</td>\n      <td>Southampton</td>\n      <td>yes</td>\n      <td>False</td>\n      <td>female</td>\n      <td>female35.0</td>\n    </tr>\n    <tr>\n      <th>4</th>\n      <td>0</td>\n      <td>3</td>\n      <td>male</td>\n      <td>35.0</td>\n      <td>0</td>\n      <td>0</td>\n      <td>8.0500</td>\n      <td>S</td>\n      <td>Third</td>\n      <td>man</td>\n      <td>True</td>\n      <td>NaN</td>\n      <td>Southampton</td>\n      <td>no</td>\n      <td>True</td>\n      <td>male</td>\n      <td>male35.0</td>\n    </tr>\n    <tr>\n      <th>...</th>\n      <td>...</td>\n      <td>...</td>\n      <td>...</td>\n      <td>...</td>\n      <td>...</td>\n      <td>...</td>\n      <td>...</td>\n      <td>...</td>\n      <td>...</td>\n      <td>...</td>\n      <td>...</td>\n      <td>...</td>\n      <td>...</td>\n      <td>...</td>\n      <td>...</td>\n      <td>...</td>\n      <td>...</td>\n    </tr>\n    <tr>\n      <th>886</th>\n      <td>0</td>\n      <td>2</td>\n      <td>male</td>\n      <td>27.0</td>\n      <td>0</td>\n      <td>0</td>\n      <td>13.0000</td>\n      <td>S</td>\n      <td>Second</td>\n      <td>man</td>\n      <td>True</td>\n      <td>NaN</td>\n      <td>Southampton</td>\n      <td>no</td>\n      <td>True</td>\n      <td>male</td>\n      <td>male27.0</td>\n    </tr>\n    <tr>\n      <th>887</th>\n      <td>1</td>\n      <td>1</td>\n      <td>female</td>\n      <td>19.0</td>\n      <td>0</td>\n      <td>0</td>\n      <td>30.0000</td>\n      <td>S</td>\n      <td>First</td>\n      <td>woman</td>\n      <td>False</td>\n      <td>B</td>\n      <td>Southampton</td>\n      <td>yes</td>\n      <td>True</td>\n      <td>child</td>\n      <td>female19.0</td>\n    </tr>\n    <tr>\n      <th>888</th>\n      <td>0</td>\n      <td>3</td>\n      <td>female</td>\n      <td>29.7</td>\n      <td>1</td>\n      <td>2</td>\n      <td>23.4500</td>\n      <td>S</td>\n      <td>Third</td>\n      <td>woman</td>\n      <td>False</td>\n      <td>NaN</td>\n      <td>Southampton</td>\n      <td>no</td>\n      <td>False</td>\n      <td>child</td>\n      <td>female29.7</td>\n    </tr>\n    <tr>\n      <th>889</th>\n      <td>1</td>\n      <td>1</td>\n      <td>male</td>\n      <td>26.0</td>\n      <td>0</td>\n      <td>0</td>\n      <td>30.0000</td>\n      <td>C</td>\n      <td>First</td>\n      <td>man</td>\n      <td>True</td>\n      <td>C</td>\n      <td>Cherbourg</td>\n      <td>yes</td>\n      <td>True</td>\n      <td>male</td>\n      <td>male26.0</td>\n    </tr>\n    <tr>\n      <th>890</th>\n      <td>0</td>\n      <td>3</td>\n      <td>male</td>\n      <td>32.0</td>\n      <td>0</td>\n      <td>0</td>\n      <td>7.7500</td>\n      <td>Q</td>\n      <td>Third</td>\n      <td>man</td>\n      <td>True</td>\n      <td>NaN</td>\n      <td>Queenstown</td>\n      <td>no</td>\n      <td>True</td>\n      <td>male</td>\n      <td>male32.0</td>\n    </tr>\n  </tbody>\n</table>\n<p>891 rows × 17 columns</p>\n</div>"
     },
     "metadata": {},
     "execution_count": 16
    }
   ],
   "source": [
    "titanic[\"category2\"] = titanic.sex.astype(str) + titanic.age.astype(str)\n",
    "titanic"
   ]
  },
  {
   "source": [
    "# 연습 문제 4.4.7\n",
    "타이타닉호 승객을 ‘미성년자’, ‘청년’, ‘중년’, ‘장년’, ‘노년’ 나이 그룹으로 나눈다.\n",
    "\n",
    "bins = [1, 20, 30, 50, 70, 100]\n",
    "labels = [\"미성년자\", \"청년\", \"중년\", \"장년\", \"노년\"]\n",
    "그리고 각 나이 그룹의 승객 비율을 구한다. 비율의 전체 합은 1이 되어야 한다."
   ],
   "cell_type": "markdown",
   "metadata": {}
  },
  {
   "cell_type": "code",
   "execution_count": 13,
   "metadata": {},
   "outputs": [
    {
     "output_type": "stream",
     "name": "stdout",
     "text": [
      "0        청년\n1        중년\n2        청년\n3        중년\n4        중년\n       ... \n886      청년\n887    미성년자\n888      청년\n889      청년\n890      중년\nName: age, Length: 891, dtype: category\nCategories (5, object): [미성년자 < 청년 < 중년 < 장년 < 노년]\n"
     ]
    }
   ],
   "source": [
    "bins = [1, 20, 30, 50, 70, 100]\n",
    "labels = [\"미성년자\", \"청년\", \"중년\", \"장년\", \"노년\"]\n",
    "titanics = pd.cut(titanic['age'], bins, labels=labels)\n",
    "\n",
    "print(titanics)"
   ]
  },
  {
   "cell_type": "code",
   "execution_count": 14,
   "metadata": {},
   "outputs": [
    {
     "output_type": "stream",
     "name": "stdout",
     "text": [
      "청년      0.464082\n중년      0.274800\n미성년자    0.188141\n장년      0.067275\n노년      0.005701\nName: age, dtype: float64\n"
     ]
    }
   ],
   "source": [
    "print(titanics.value_counts()/titanics.count())"
   ]
  },
  {
   "source": [
    "# 연습 문제 4.4.8\n",
    "타이타닉호의 승객에 대해 나이와 성별에 의한 카테고리 열인 category3 열을 만들어라. category3 카테고리는 다음과 같이 정의된다.\n",
    "\n",
    "20살 미만이면 성별에 관계없이 “미성년자”라고 한다.\n",
    "\n",
    "20살 이상이면 나이에 따라 “청년”, “중년”, “장년”, “노년”을 구분하고 그 뒤에 성별을 나타내는 “남성”, “여성”을 붙인다."
   ],
   "cell_type": "markdown",
   "metadata": {}
  },
  {
   "cell_type": "code",
   "execution_count": 17,
   "metadata": {},
   "outputs": [
    {
     "output_type": "execute_result",
     "data": {
      "text/plain": [
       "     age age_cut\n",
       "0     22      청년\n",
       "1     38      중년\n",
       "2     26      청년\n",
       "3     35      중년\n",
       "4     35      중년\n",
       "..   ...     ...\n",
       "886   27      청년\n",
       "887   19    미성년자\n",
       "888   29      청년\n",
       "889   26      청년\n",
       "890   32      중년\n",
       "\n",
       "[891 rows x 2 columns]"
      ],
      "text/html": "<div>\n<style scoped>\n    .dataframe tbody tr th:only-of-type {\n        vertical-align: middle;\n    }\n\n    .dataframe tbody tr th {\n        vertical-align: top;\n    }\n\n    .dataframe thead th {\n        text-align: right;\n    }\n</style>\n<table border=\"1\" class=\"dataframe\">\n  <thead>\n    <tr style=\"text-align: right;\">\n      <th></th>\n      <th>age</th>\n      <th>age_cut</th>\n    </tr>\n  </thead>\n  <tbody>\n    <tr>\n      <th>0</th>\n      <td>22</td>\n      <td>청년</td>\n    </tr>\n    <tr>\n      <th>1</th>\n      <td>38</td>\n      <td>중년</td>\n    </tr>\n    <tr>\n      <th>2</th>\n      <td>26</td>\n      <td>청년</td>\n    </tr>\n    <tr>\n      <th>3</th>\n      <td>35</td>\n      <td>중년</td>\n    </tr>\n    <tr>\n      <th>4</th>\n      <td>35</td>\n      <td>중년</td>\n    </tr>\n    <tr>\n      <th>...</th>\n      <td>...</td>\n      <td>...</td>\n    </tr>\n    <tr>\n      <th>886</th>\n      <td>27</td>\n      <td>청년</td>\n    </tr>\n    <tr>\n      <th>887</th>\n      <td>19</td>\n      <td>미성년자</td>\n    </tr>\n    <tr>\n      <th>888</th>\n      <td>29</td>\n      <td>청년</td>\n    </tr>\n    <tr>\n      <th>889</th>\n      <td>26</td>\n      <td>청년</td>\n    </tr>\n    <tr>\n      <th>890</th>\n      <td>32</td>\n      <td>중년</td>\n    </tr>\n  </tbody>\n</table>\n<p>891 rows × 2 columns</p>\n</div>"
     },
     "metadata": {},
     "execution_count": 17
    }
   ],
   "source": [
    "titanic2 = pd.DataFrame(titanic['age'].astype(int), columns=[\"age\"])\n",
    "titanic2[\"age_cut\"] = pd.cut(titanic2.age, bins, labels=labels)\n",
    "titanic2"
   ]
  },
  {
   "cell_type": "code",
   "execution_count": 18,
   "metadata": {},
   "outputs": [
    {
     "output_type": "execute_result",
     "data": {
      "text/plain": [
       "     survived  pclass sex   age  sibsp  parch   fare embarked   class    who  \\\n",
       "886         0       2  남성  27.0      0      0  13.00        S  Second    man   \n",
       "887         1       1  여성  19.0      0      0  30.00        S   First  woman   \n",
       "888         0       3  여성  29.7      1      2  23.45        S   Third  woman   \n",
       "889         1       1  남성  26.0      0      0  30.00        C   First    man   \n",
       "890         0       3  남성  32.0      0      0   7.75        Q   Third    man   \n",
       "\n",
       "     adult_male deck  embark_town alive  alone category1   category2  \n",
       "886        True  NaN  Southampton    no   True      male    male27.0  \n",
       "887       False    B  Southampton   yes   True     child  female19.0  \n",
       "888       False  NaN  Southampton    no  False     child  female29.7  \n",
       "889        True    C    Cherbourg   yes   True      male    male26.0  \n",
       "890        True  NaN   Queenstown    no   True      male    male32.0  "
      ],
      "text/html": "<div>\n<style scoped>\n    .dataframe tbody tr th:only-of-type {\n        vertical-align: middle;\n    }\n\n    .dataframe tbody tr th {\n        vertical-align: top;\n    }\n\n    .dataframe thead th {\n        text-align: right;\n    }\n</style>\n<table border=\"1\" class=\"dataframe\">\n  <thead>\n    <tr style=\"text-align: right;\">\n      <th></th>\n      <th>survived</th>\n      <th>pclass</th>\n      <th>sex</th>\n      <th>age</th>\n      <th>sibsp</th>\n      <th>parch</th>\n      <th>fare</th>\n      <th>embarked</th>\n      <th>class</th>\n      <th>who</th>\n      <th>adult_male</th>\n      <th>deck</th>\n      <th>embark_town</th>\n      <th>alive</th>\n      <th>alone</th>\n      <th>category1</th>\n      <th>category2</th>\n    </tr>\n  </thead>\n  <tbody>\n    <tr>\n      <th>886</th>\n      <td>0</td>\n      <td>2</td>\n      <td>남성</td>\n      <td>27.0</td>\n      <td>0</td>\n      <td>0</td>\n      <td>13.00</td>\n      <td>S</td>\n      <td>Second</td>\n      <td>man</td>\n      <td>True</td>\n      <td>NaN</td>\n      <td>Southampton</td>\n      <td>no</td>\n      <td>True</td>\n      <td>male</td>\n      <td>male27.0</td>\n    </tr>\n    <tr>\n      <th>887</th>\n      <td>1</td>\n      <td>1</td>\n      <td>여성</td>\n      <td>19.0</td>\n      <td>0</td>\n      <td>0</td>\n      <td>30.00</td>\n      <td>S</td>\n      <td>First</td>\n      <td>woman</td>\n      <td>False</td>\n      <td>B</td>\n      <td>Southampton</td>\n      <td>yes</td>\n      <td>True</td>\n      <td>child</td>\n      <td>female19.0</td>\n    </tr>\n    <tr>\n      <th>888</th>\n      <td>0</td>\n      <td>3</td>\n      <td>여성</td>\n      <td>29.7</td>\n      <td>1</td>\n      <td>2</td>\n      <td>23.45</td>\n      <td>S</td>\n      <td>Third</td>\n      <td>woman</td>\n      <td>False</td>\n      <td>NaN</td>\n      <td>Southampton</td>\n      <td>no</td>\n      <td>False</td>\n      <td>child</td>\n      <td>female29.7</td>\n    </tr>\n    <tr>\n      <th>889</th>\n      <td>1</td>\n      <td>1</td>\n      <td>남성</td>\n      <td>26.0</td>\n      <td>0</td>\n      <td>0</td>\n      <td>30.00</td>\n      <td>C</td>\n      <td>First</td>\n      <td>man</td>\n      <td>True</td>\n      <td>C</td>\n      <td>Cherbourg</td>\n      <td>yes</td>\n      <td>True</td>\n      <td>male</td>\n      <td>male26.0</td>\n    </tr>\n    <tr>\n      <th>890</th>\n      <td>0</td>\n      <td>3</td>\n      <td>남성</td>\n      <td>32.0</td>\n      <td>0</td>\n      <td>0</td>\n      <td>7.75</td>\n      <td>Q</td>\n      <td>Third</td>\n      <td>man</td>\n      <td>True</td>\n      <td>NaN</td>\n      <td>Queenstown</td>\n      <td>no</td>\n      <td>True</td>\n      <td>male</td>\n      <td>male32.0</td>\n    </tr>\n  </tbody>\n</table>\n</div>"
     },
     "metadata": {},
     "execution_count": 18
    }
   ],
   "source": [
    "titanic[\"sex\"] = titanic.apply(lambda r: \"여성\" if r.sex == \"female\" else \"남성\", axis=1)\n",
    "titanic.tail()"
   ]
  },
  {
   "cell_type": "code",
   "execution_count": 19,
   "metadata": {},
   "outputs": [
    {
     "output_type": "execute_result",
     "data": {
      "text/plain": [
       "     survived  pclass sex   age  sibsp  parch   fare embarked   class    who  \\\n",
       "886         0       2  남성  27.0      0      0  13.00        S  Second    man   \n",
       "887         1       1  여성  19.0      0      0  30.00        S   First  woman   \n",
       "888         0       3  여성  29.7      1      2  23.45        S   Third  woman   \n",
       "889         1       1  남성  26.0      0      0  30.00        C   First    man   \n",
       "890         0       3  남성  32.0      0      0   7.75        Q   Third    man   \n",
       "\n",
       "     adult_male deck  embark_town alive  alone category1   category2 category3  \n",
       "886        True  NaN  Southampton    no   True      male    male27.0      청년남성  \n",
       "887       False    B  Southampton   yes   True     child  female19.0    미성년자여성  \n",
       "888       False  NaN  Southampton    no  False     child  female29.7      청년여성  \n",
       "889        True    C    Cherbourg   yes   True      male    male26.0      청년남성  \n",
       "890        True  NaN   Queenstown    no   True      male    male32.0      중년남성  "
      ],
      "text/html": "<div>\n<style scoped>\n    .dataframe tbody tr th:only-of-type {\n        vertical-align: middle;\n    }\n\n    .dataframe tbody tr th {\n        vertical-align: top;\n    }\n\n    .dataframe thead th {\n        text-align: right;\n    }\n</style>\n<table border=\"1\" class=\"dataframe\">\n  <thead>\n    <tr style=\"text-align: right;\">\n      <th></th>\n      <th>survived</th>\n      <th>pclass</th>\n      <th>sex</th>\n      <th>age</th>\n      <th>sibsp</th>\n      <th>parch</th>\n      <th>fare</th>\n      <th>embarked</th>\n      <th>class</th>\n      <th>who</th>\n      <th>adult_male</th>\n      <th>deck</th>\n      <th>embark_town</th>\n      <th>alive</th>\n      <th>alone</th>\n      <th>category1</th>\n      <th>category2</th>\n      <th>category3</th>\n    </tr>\n  </thead>\n  <tbody>\n    <tr>\n      <th>886</th>\n      <td>0</td>\n      <td>2</td>\n      <td>남성</td>\n      <td>27.0</td>\n      <td>0</td>\n      <td>0</td>\n      <td>13.00</td>\n      <td>S</td>\n      <td>Second</td>\n      <td>man</td>\n      <td>True</td>\n      <td>NaN</td>\n      <td>Southampton</td>\n      <td>no</td>\n      <td>True</td>\n      <td>male</td>\n      <td>male27.0</td>\n      <td>청년남성</td>\n    </tr>\n    <tr>\n      <th>887</th>\n      <td>1</td>\n      <td>1</td>\n      <td>여성</td>\n      <td>19.0</td>\n      <td>0</td>\n      <td>0</td>\n      <td>30.00</td>\n      <td>S</td>\n      <td>First</td>\n      <td>woman</td>\n      <td>False</td>\n      <td>B</td>\n      <td>Southampton</td>\n      <td>yes</td>\n      <td>True</td>\n      <td>child</td>\n      <td>female19.0</td>\n      <td>미성년자여성</td>\n    </tr>\n    <tr>\n      <th>888</th>\n      <td>0</td>\n      <td>3</td>\n      <td>여성</td>\n      <td>29.7</td>\n      <td>1</td>\n      <td>2</td>\n      <td>23.45</td>\n      <td>S</td>\n      <td>Third</td>\n      <td>woman</td>\n      <td>False</td>\n      <td>NaN</td>\n      <td>Southampton</td>\n      <td>no</td>\n      <td>False</td>\n      <td>child</td>\n      <td>female29.7</td>\n      <td>청년여성</td>\n    </tr>\n    <tr>\n      <th>889</th>\n      <td>1</td>\n      <td>1</td>\n      <td>남성</td>\n      <td>26.0</td>\n      <td>0</td>\n      <td>0</td>\n      <td>30.00</td>\n      <td>C</td>\n      <td>First</td>\n      <td>man</td>\n      <td>True</td>\n      <td>C</td>\n      <td>Cherbourg</td>\n      <td>yes</td>\n      <td>True</td>\n      <td>male</td>\n      <td>male26.0</td>\n      <td>청년남성</td>\n    </tr>\n    <tr>\n      <th>890</th>\n      <td>0</td>\n      <td>3</td>\n      <td>남성</td>\n      <td>32.0</td>\n      <td>0</td>\n      <td>0</td>\n      <td>7.75</td>\n      <td>Q</td>\n      <td>Third</td>\n      <td>man</td>\n      <td>True</td>\n      <td>NaN</td>\n      <td>Queenstown</td>\n      <td>no</td>\n      <td>True</td>\n      <td>male</td>\n      <td>male32.0</td>\n      <td>중년남성</td>\n    </tr>\n  </tbody>\n</table>\n</div>"
     },
     "metadata": {},
     "execution_count": 19
    }
   ],
   "source": [
    "titanic['category3'] = titanic2.age_cut.astype(str) + titanic.sex\n",
    "titanic.tail()"
   ]
  },
  {
   "cell_type": "code",
   "execution_count": 20,
   "metadata": {},
   "outputs": [
    {
     "output_type": "execute_result",
     "data": {
      "text/plain": [
       "     survived  pclass sex   age  sibsp  parch   fare embarked   class    who  \\\n",
       "886         0       2  남성  27.0      0      0  13.00        S  Second    man   \n",
       "887         1       1  여성  19.0      0      0  30.00        S   First  woman   \n",
       "888         0       3  여성  29.7      1      2  23.45        S   Third  woman   \n",
       "889         1       1  남성  26.0      0      0  30.00        C   First    man   \n",
       "890         0       3  남성  32.0      0      0   7.75        Q   Third    man   \n",
       "\n",
       "     adult_male deck  embark_town alive  alone category1   category2 category3  \n",
       "886        True  NaN  Southampton    no   True      male    male27.0      청년남성  \n",
       "887       False    B  Southampton   yes   True     child  female19.0      미성년자  \n",
       "888       False  NaN  Southampton    no  False     child  female29.7      청년여성  \n",
       "889        True    C    Cherbourg   yes   True      male    male26.0      청년남성  \n",
       "890        True  NaN   Queenstown    no   True      male    male32.0      중년남성  "
      ],
      "text/html": "<div>\n<style scoped>\n    .dataframe tbody tr th:only-of-type {\n        vertical-align: middle;\n    }\n\n    .dataframe tbody tr th {\n        vertical-align: top;\n    }\n\n    .dataframe thead th {\n        text-align: right;\n    }\n</style>\n<table border=\"1\" class=\"dataframe\">\n  <thead>\n    <tr style=\"text-align: right;\">\n      <th></th>\n      <th>survived</th>\n      <th>pclass</th>\n      <th>sex</th>\n      <th>age</th>\n      <th>sibsp</th>\n      <th>parch</th>\n      <th>fare</th>\n      <th>embarked</th>\n      <th>class</th>\n      <th>who</th>\n      <th>adult_male</th>\n      <th>deck</th>\n      <th>embark_town</th>\n      <th>alive</th>\n      <th>alone</th>\n      <th>category1</th>\n      <th>category2</th>\n      <th>category3</th>\n    </tr>\n  </thead>\n  <tbody>\n    <tr>\n      <th>886</th>\n      <td>0</td>\n      <td>2</td>\n      <td>남성</td>\n      <td>27.0</td>\n      <td>0</td>\n      <td>0</td>\n      <td>13.00</td>\n      <td>S</td>\n      <td>Second</td>\n      <td>man</td>\n      <td>True</td>\n      <td>NaN</td>\n      <td>Southampton</td>\n      <td>no</td>\n      <td>True</td>\n      <td>male</td>\n      <td>male27.0</td>\n      <td>청년남성</td>\n    </tr>\n    <tr>\n      <th>887</th>\n      <td>1</td>\n      <td>1</td>\n      <td>여성</td>\n      <td>19.0</td>\n      <td>0</td>\n      <td>0</td>\n      <td>30.00</td>\n      <td>S</td>\n      <td>First</td>\n      <td>woman</td>\n      <td>False</td>\n      <td>B</td>\n      <td>Southampton</td>\n      <td>yes</td>\n      <td>True</td>\n      <td>child</td>\n      <td>female19.0</td>\n      <td>미성년자</td>\n    </tr>\n    <tr>\n      <th>888</th>\n      <td>0</td>\n      <td>3</td>\n      <td>여성</td>\n      <td>29.7</td>\n      <td>1</td>\n      <td>2</td>\n      <td>23.45</td>\n      <td>S</td>\n      <td>Third</td>\n      <td>woman</td>\n      <td>False</td>\n      <td>NaN</td>\n      <td>Southampton</td>\n      <td>no</td>\n      <td>False</td>\n      <td>child</td>\n      <td>female29.7</td>\n      <td>청년여성</td>\n    </tr>\n    <tr>\n      <th>889</th>\n      <td>1</td>\n      <td>1</td>\n      <td>남성</td>\n      <td>26.0</td>\n      <td>0</td>\n      <td>0</td>\n      <td>30.00</td>\n      <td>C</td>\n      <td>First</td>\n      <td>man</td>\n      <td>True</td>\n      <td>C</td>\n      <td>Cherbourg</td>\n      <td>yes</td>\n      <td>True</td>\n      <td>male</td>\n      <td>male26.0</td>\n      <td>청년남성</td>\n    </tr>\n    <tr>\n      <th>890</th>\n      <td>0</td>\n      <td>3</td>\n      <td>남성</td>\n      <td>32.0</td>\n      <td>0</td>\n      <td>0</td>\n      <td>7.75</td>\n      <td>Q</td>\n      <td>Third</td>\n      <td>man</td>\n      <td>True</td>\n      <td>NaN</td>\n      <td>Queenstown</td>\n      <td>no</td>\n      <td>True</td>\n      <td>male</td>\n      <td>male32.0</td>\n      <td>중년남성</td>\n    </tr>\n  </tbody>\n</table>\n</div>"
     },
     "metadata": {},
     "execution_count": 20
    }
   ],
   "source": [
    "titanic[\"category3\"] = titanic.apply(lambda r: \"미성년자\" if r.category3 == \"미성년자여성\" else r.category3, axis=1)\n",
    "titanic.tail()"
   ]
  },
  {
   "cell_type": "code",
   "execution_count": 21,
   "metadata": {},
   "outputs": [
    {
     "output_type": "execute_result",
     "data": {
      "text/plain": [
       "     survived  pclass sex   age  sibsp  parch   fare embarked   class    who  \\\n",
       "886         0       2  남성  27.0      0      0  13.00        S  Second    man   \n",
       "887         1       1  여성  19.0      0      0  30.00        S   First  woman   \n",
       "888         0       3  여성  29.7      1      2  23.45        S   Third  woman   \n",
       "889         1       1  남성  26.0      0      0  30.00        C   First    man   \n",
       "890         0       3  남성  32.0      0      0   7.75        Q   Third    man   \n",
       "\n",
       "     adult_male deck  embark_town alive  alone category1   category2 category3  \n",
       "886        True  NaN  Southampton    no   True      male    male27.0      청년남성  \n",
       "887       False    B  Southampton   yes   True     child  female19.0      미성년자  \n",
       "888       False  NaN  Southampton    no  False     child  female29.7      청년여성  \n",
       "889        True    C    Cherbourg   yes   True      male    male26.0      청년남성  \n",
       "890        True  NaN   Queenstown    no   True      male    male32.0      중년남성  "
      ],
      "text/html": "<div>\n<style scoped>\n    .dataframe tbody tr th:only-of-type {\n        vertical-align: middle;\n    }\n\n    .dataframe tbody tr th {\n        vertical-align: top;\n    }\n\n    .dataframe thead th {\n        text-align: right;\n    }\n</style>\n<table border=\"1\" class=\"dataframe\">\n  <thead>\n    <tr style=\"text-align: right;\">\n      <th></th>\n      <th>survived</th>\n      <th>pclass</th>\n      <th>sex</th>\n      <th>age</th>\n      <th>sibsp</th>\n      <th>parch</th>\n      <th>fare</th>\n      <th>embarked</th>\n      <th>class</th>\n      <th>who</th>\n      <th>adult_male</th>\n      <th>deck</th>\n      <th>embark_town</th>\n      <th>alive</th>\n      <th>alone</th>\n      <th>category1</th>\n      <th>category2</th>\n      <th>category3</th>\n    </tr>\n  </thead>\n  <tbody>\n    <tr>\n      <th>886</th>\n      <td>0</td>\n      <td>2</td>\n      <td>남성</td>\n      <td>27.0</td>\n      <td>0</td>\n      <td>0</td>\n      <td>13.00</td>\n      <td>S</td>\n      <td>Second</td>\n      <td>man</td>\n      <td>True</td>\n      <td>NaN</td>\n      <td>Southampton</td>\n      <td>no</td>\n      <td>True</td>\n      <td>male</td>\n      <td>male27.0</td>\n      <td>청년남성</td>\n    </tr>\n    <tr>\n      <th>887</th>\n      <td>1</td>\n      <td>1</td>\n      <td>여성</td>\n      <td>19.0</td>\n      <td>0</td>\n      <td>0</td>\n      <td>30.00</td>\n      <td>S</td>\n      <td>First</td>\n      <td>woman</td>\n      <td>False</td>\n      <td>B</td>\n      <td>Southampton</td>\n      <td>yes</td>\n      <td>True</td>\n      <td>child</td>\n      <td>female19.0</td>\n      <td>미성년자</td>\n    </tr>\n    <tr>\n      <th>888</th>\n      <td>0</td>\n      <td>3</td>\n      <td>여성</td>\n      <td>29.7</td>\n      <td>1</td>\n      <td>2</td>\n      <td>23.45</td>\n      <td>S</td>\n      <td>Third</td>\n      <td>woman</td>\n      <td>False</td>\n      <td>NaN</td>\n      <td>Southampton</td>\n      <td>no</td>\n      <td>False</td>\n      <td>child</td>\n      <td>female29.7</td>\n      <td>청년여성</td>\n    </tr>\n    <tr>\n      <th>889</th>\n      <td>1</td>\n      <td>1</td>\n      <td>남성</td>\n      <td>26.0</td>\n      <td>0</td>\n      <td>0</td>\n      <td>30.00</td>\n      <td>C</td>\n      <td>First</td>\n      <td>man</td>\n      <td>True</td>\n      <td>C</td>\n      <td>Cherbourg</td>\n      <td>yes</td>\n      <td>True</td>\n      <td>male</td>\n      <td>male26.0</td>\n      <td>청년남성</td>\n    </tr>\n    <tr>\n      <th>890</th>\n      <td>0</td>\n      <td>3</td>\n      <td>남성</td>\n      <td>32.0</td>\n      <td>0</td>\n      <td>0</td>\n      <td>7.75</td>\n      <td>Q</td>\n      <td>Third</td>\n      <td>man</td>\n      <td>True</td>\n      <td>NaN</td>\n      <td>Queenstown</td>\n      <td>no</td>\n      <td>True</td>\n      <td>male</td>\n      <td>male32.0</td>\n      <td>중년남성</td>\n    </tr>\n  </tbody>\n</table>\n</div>"
     },
     "metadata": {},
     "execution_count": 21
    }
   ],
   "source": [
    "titanic[\"category3\"] = titanic.apply(lambda r: \"미성년자\" if r.category3 == \"미성년자남성\" else r.category3, axis=1)\n",
    "titanic.tail()"
   ]
  },
  {
   "cell_type": "code",
   "execution_count": null,
   "metadata": {},
   "outputs": [],
   "source": []
  }
 ],
 "metadata": {
  "kernelspec": {
   "display_name": "Python 3.8.3 64-bit (conda)",
   "metadata": {
    "interpreter": {
     "hash": "b3ba2566441a7c06988d0923437866b63cedc61552a5af99d1f4fb67d367b25f"
    }
   },
   "name": "Python 3.8.3 64-bit (conda)"
  },
  "language_info": {
   "codemirror_mode": {
    "name": "ipython",
    "version": 3
   },
   "file_extension": ".py",
   "mimetype": "text/x-python",
   "name": "python",
   "nbconvert_exporter": "python",
   "pygments_lexer": "ipython3",
   "version": "3.8.3-final"
  }
 },
 "nbformat": 4,
 "nbformat_minor": 2
}